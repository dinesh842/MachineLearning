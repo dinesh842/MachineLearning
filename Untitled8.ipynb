{
  "nbformat": 4,
  "nbformat_minor": 0,
  "metadata": {
    "colab": {
      "name": "Untitled8.ipynb",
      "provenance": [],
      "authorship_tag": "ABX9TyN4pH+ke6FJ6mnvC2kkWWE+",
      "include_colab_link": true
    },
    "kernelspec": {
      "name": "python3",
      "display_name": "Python 3"
    }
  },
  "cells": [
    {
      "cell_type": "markdown",
      "metadata": {
        "id": "view-in-github",
        "colab_type": "text"
      },
      "source": [
        "<a href=\"https://colab.research.google.com/github/dinesh842/python-/blob/main/Untitled8.ipynb\" target=\"_parent\"><img src=\"https://colab.research.google.com/assets/colab-badge.svg\" alt=\"Open In Colab\"/></a>"
      ]
    },
    {
      "cell_type": "code",
      "metadata": {
        "colab": {
          "base_uri": "https://localhost:8080/"
        },
        "id": "OSjNe27tX5uQ",
        "outputId": "40e190fe-6050-42f9-c019-9a91289d9ac4"
      },
      "source": [
        "num1=10\n",
        "num2=10\n",
        "if(num1==num2):\n",
        "  print(\"both the numbers are same\")"
      ],
      "execution_count": 1,
      "outputs": [
        {
          "output_type": "stream",
          "text": [
            "both the numbers are same\n"
          ],
          "name": "stdout"
        }
      ]
    },
    {
      "cell_type": "code",
      "metadata": {
        "colab": {
          "base_uri": "https://localhost:8080/"
        },
        "id": "5Gmf2DpJYRAT",
        "outputId": "510048d3-0bfd-4ade-e52b-a03ca4dc1155"
      },
      "source": [
        "nim1=45\n",
        "num2=89\n",
        "if(num1!=num2):\n",
        "  print(\"both the numbers are not same\")"
      ],
      "execution_count": 2,
      "outputs": [
        {
          "output_type": "stream",
          "text": [
            "both the numbers are not same\n"
          ],
          "name": "stdout"
        }
      ]
    },
    {
      "cell_type": "code",
      "metadata": {
        "colab": {
          "base_uri": "https://localhost:8080/"
        },
        "id": "3q-1I4d8aeMx",
        "outputId": "a8bc6293-62ea-447d-fb10-4c6d268af610"
      },
      "source": [
        "if(4>2):\n",
        "  print(\"hello world\")\n",
        "  print(\"good morning\")\n",
        "  print(\"good afternoon\")"
      ],
      "execution_count": 3,
      "outputs": [
        {
          "output_type": "stream",
          "text": [
            "hello world\n",
            "good morning\n",
            "good afternoon\n"
          ],
          "name": "stdout"
        }
      ]
    }
  ]
}