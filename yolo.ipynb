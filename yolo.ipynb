{
 "cells": [
  {
   "cell_type": "code",
   "execution_count": 1,
   "id": "medium-import",
   "metadata": {},
   "outputs": [],
   "source": [
    "import cv2\n",
    "import numpy"
   ]
  },
  {
   "cell_type": "code",
   "execution_count": 2,
   "id": "polar-hollow",
   "metadata": {},
   "outputs": [
    {
     "data": {
      "text/plain": [
       "(800, 800, 3)"
      ]
     },
     "execution_count": 2,
     "metadata": {},
     "output_type": "execute_result"
    }
   ],
   "source": [
    "image=cv2.imread(\"photo.jpeg\")\n",
    "image=cv2.resize(image,(800,800))\n",
    "image.shape"
   ]
  },
  {
   "cell_type": "code",
   "execution_count": 3,
   "id": "underlying-partnership",
   "metadata": {},
   "outputs": [],
   "source": [
    "height,width,_=image.shape"
   ]
  },
  {
   "cell_type": "code",
   "execution_count": null,
   "id": "roman-particular",
   "metadata": {},
   "outputs": [],
   "source": [
    "cv2.imshow(\"photo.jpeg\",image)\n",
    "cv2.waitKey(0)\n",
    "cv2.destroyAllWindows()"
   ]
  },
  {
   "cell_type": "code",
   "execution_count": null,
   "id": "associate-aquatic",
   "metadata": {},
   "outputs": [],
   "source": [
    "net=cv2.dnn.readNet(\"Downloads/yolov3.cfg\",\"Downloads/yolov3.weights\")"
   ]
  },
  {
   "cell_type": "code",
   "execution_count": null,
   "id": "broadband-livestock",
   "metadata": {},
   "outputs": [],
   "source": [
    "classes=[]\n",
    "with open('Downloads/coco.names','r')\n",
    "classes=f.read().splitlines()"
   ]
  },
  {
   "cell_type": "code",
   "execution_count": null,
   "id": "relative-cleveland",
   "metadata": {},
   "outputs": [],
   "source": [
    "classes"
   ]
  },
  {
   "cell_type": "code",
   "execution_count": null,
   "id": "decent-humanity",
   "metadata": {},
   "outputs": [],
   "source": [
    "blob=cv2.dnn.blobFromImage(image,1/255,(416,416),swapRB=True,crop=False)"
   ]
  },
  {
   "cell_type": "code",
   "execution_count": null,
   "id": "stuck-annotation",
   "metadata": {},
   "outputs": [],
   "source": [
    "for each in blob:\n",
    "    for n,img in enumerate(each):\n",
    "        cv2.imshow(str(n),img)\n",
    "        cv2.waitKey(100000)\n",
    "        cv2. destroyAllWindows()"
   ]
  },
  {
   "cell_type": "code",
   "execution_count": null,
   "id": "minimal-african",
   "metadata": {},
   "outputs": [],
   "source": [
    "yolo_net.setInput(blob)\n",
    "outputlayer=yolo_net.getUnconnectOutLayersNames()\n",
    "layeroutputs=yolo_net.forward(outputlayer)"
   ]
  },
  {
   "cell_type": "code",
   "execution_count": null,
   "id": "interpreted-terror",
   "metadata": {},
   "outputs": [],
   "source": [
    "print(layeroutputs)"
   ]
  },
  {
   "cell_type": "code",
   "execution_count": null,
   "id": "mechanical-pennsylvania",
   "metadata": {},
   "outputs": [],
   "source": [
    "boxes=[]\n",
    "confidences=[]\n",
    "class_ids=[]\n",
    "\n",
    "for each in layeroutputs:\n",
    "    for detection in each:\n",
    "        scores=detection[5:]\n",
    "        class_ids=np.argmax(scores)\n",
    "        confidence=scores[class_id]\n",
    "        if confidence>0.5:\n",
    "            center_x=int(detection[0]*width)\n",
    "            center_y=int(detection[1]*height)\n",
    "            w=int(detection[2]*width)\n",
    "            h=int(detection[3]*height)\n",
    "            \n",
    "            x=int(center_x-(w/2))\n",
    "            y=int(center_y-(h/2))\n",
    "            \n",
    "            \n",
    "            boxes.append([x,y,w,h])\n",
    "            \n",
    "            confidences.append(float(confidence))\n",
    "            class_ids.append(class_id)\n",
    "            \n",
    "            \n",
    "print(boxes)\n",
    "print(confidences)\n",
    "\n",
    "indexes=cv2.dnn.NMSBoxes(boxes,confidences,0.5,0.4)\n",
    "\n",
    "print(indexes.flatten())\n",
    "\n",
    "font=cv2.FONT_HERSHEY_PLAIN\n",
    "colors=np.random_uniform(0,255,size=(len(bboxes)),3)\n",
    "\n",
    "for i in indexes.flatten():\n",
    "    x,y,w,h=boxes[i]\n",
    "    label=str(classes[class_ids[i]])\n",
    "    confidence=str(round(confidences[i],2))\n",
    "    color=colors[i]\n",
    "    cv2.rectangle(image,(x,y),(x+w,y+h),color,2)\n",
    "    cv2.putText(image,label + \" \" + confidence, (x,y+20),font, 2, (255,255,255),)"
   ]
  },
  {
   "cell_type": "code",
   "execution_count": null,
   "id": "saved-furniture",
   "metadata": {},
   "outputs": [],
   "source": []
  }
 ],
 "metadata": {
  "kernelspec": {
   "display_name": "Python 3",
   "language": "python",
   "name": "python3"
  },
  "language_info": {
   "codemirror_mode": {
    "name": "ipython",
    "version": 3
   },
   "file_extension": ".py",
   "mimetype": "text/x-python",
   "name": "python",
   "nbconvert_exporter": "python",
   "pygments_lexer": "ipython3",
   "version": "3.9.2"
  }
 },
 "nbformat": 4,
 "nbformat_minor": 5
}
