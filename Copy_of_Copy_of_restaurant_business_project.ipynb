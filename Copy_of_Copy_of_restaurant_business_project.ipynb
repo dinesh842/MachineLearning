{
  "nbformat": 4,
  "nbformat_minor": 0,
  "metadata": {
    "colab": {
      "name": "Copy of Copy of restaurant business project.ipynb",
      "provenance": [],
      "authorship_tag": "ABX9TyM1kJNznreA9vzZfXMQ43d+",
      "include_colab_link": true
    },
    "kernelspec": {
      "name": "python3",
      "display_name": "Python 3"
    }
  },
  "cells": [
    {
      "cell_type": "markdown",
      "metadata": {
        "id": "view-in-github",
        "colab_type": "text"
      },
      "source": [
        "<a href=\"https://colab.research.google.com/github/dinesh842/python-/blob/main/Copy_of_Copy_of_restaurant_business_project.ipynb\" target=\"_parent\"><img src=\"https://colab.research.google.com/assets/colab-badge.svg\" alt=\"Open In Colab\"/></a>"
      ]
    },
    {
      "cell_type": "code",
      "metadata": {
        "id": "kdx4rI41J29m"
      },
      "source": [
        "import pandas as pd\r\n",
        "import numpy as np\r\n",
        "import seaborn as sns\r\n",
        "import matplotlib.pyplot as plt"
      ],
      "execution_count": null,
      "outputs": []
    },
    {
      "cell_type": "code",
      "metadata": {
        "id": "hQ8NIARQKHBk"
      },
      "source": [
        "df=pd.read_csv('/content/Future50.csv')"
      ],
      "execution_count": null,
      "outputs": []
    },
    {
      "cell_type": "code",
      "metadata": {
        "colab": {
          "base_uri": "https://localhost:8080/",
          "height": 204
        },
        "id": "KiP4LkWhKh86",
        "outputId": "a7c1d3c7-1e44-425d-d20c-071d18fdb2b9"
      },
      "source": [
        "df.head()"
      ],
      "execution_count": null,
      "outputs": [
        {
          "output_type": "execute_result",
          "data": {
            "text/html": [
              "<div>\n",
              "<style scoped>\n",
              "    .dataframe tbody tr th:only-of-type {\n",
              "        vertical-align: middle;\n",
              "    }\n",
              "\n",
              "    .dataframe tbody tr th {\n",
              "        vertical-align: top;\n",
              "    }\n",
              "\n",
              "    .dataframe thead th {\n",
              "        text-align: right;\n",
              "    }\n",
              "</style>\n",
              "<table border=\"1\" class=\"dataframe\">\n",
              "  <thead>\n",
              "    <tr style=\"text-align: right;\">\n",
              "      <th></th>\n",
              "      <th>Rank</th>\n",
              "      <th>Restaurant</th>\n",
              "      <th>Location</th>\n",
              "      <th>Sales</th>\n",
              "      <th>YOY_Sales</th>\n",
              "      <th>Units</th>\n",
              "      <th>YOY_Units</th>\n",
              "      <th>Unit_Volume</th>\n",
              "      <th>Franchising</th>\n",
              "    </tr>\n",
              "  </thead>\n",
              "  <tbody>\n",
              "    <tr>\n",
              "      <th>0</th>\n",
              "      <td>1</td>\n",
              "      <td>Evergreens</td>\n",
              "      <td>Seattle, Wash.</td>\n",
              "      <td>24</td>\n",
              "      <td>130.5%</td>\n",
              "      <td>26</td>\n",
              "      <td>116.7%</td>\n",
              "      <td>1150</td>\n",
              "      <td>No</td>\n",
              "    </tr>\n",
              "    <tr>\n",
              "      <th>1</th>\n",
              "      <td>2</td>\n",
              "      <td>Clean Juice</td>\n",
              "      <td>Charlotte, N.C.</td>\n",
              "      <td>44</td>\n",
              "      <td>121.9%</td>\n",
              "      <td>105</td>\n",
              "      <td>94.4%</td>\n",
              "      <td>560</td>\n",
              "      <td>Yes</td>\n",
              "    </tr>\n",
              "    <tr>\n",
              "      <th>2</th>\n",
              "      <td>3</td>\n",
              "      <td>Slapfish</td>\n",
              "      <td>Huntington Beach, Calif.</td>\n",
              "      <td>21</td>\n",
              "      <td>81.0%</td>\n",
              "      <td>21</td>\n",
              "      <td>90.9%</td>\n",
              "      <td>1370</td>\n",
              "      <td>Yes</td>\n",
              "    </tr>\n",
              "    <tr>\n",
              "      <th>3</th>\n",
              "      <td>4</td>\n",
              "      <td>Clean Eatz</td>\n",
              "      <td>Wilmington, N.C.</td>\n",
              "      <td>25</td>\n",
              "      <td>79.7%</td>\n",
              "      <td>46</td>\n",
              "      <td>58.6%</td>\n",
              "      <td>685</td>\n",
              "      <td>Yes</td>\n",
              "    </tr>\n",
              "    <tr>\n",
              "      <th>4</th>\n",
              "      <td>5</td>\n",
              "      <td>Pokeworks</td>\n",
              "      <td>Irvine, Calif.</td>\n",
              "      <td>49</td>\n",
              "      <td>77.1%</td>\n",
              "      <td>50</td>\n",
              "      <td>56.3%</td>\n",
              "      <td>1210</td>\n",
              "      <td>Yes</td>\n",
              "    </tr>\n",
              "  </tbody>\n",
              "</table>\n",
              "</div>"
            ],
            "text/plain": [
              "   Rank   Restaurant  ... Unit_Volume  Franchising\n",
              "0     1   Evergreens  ...        1150           No\n",
              "1     2  Clean Juice  ...         560          Yes\n",
              "2     3     Slapfish  ...        1370          Yes\n",
              "3     4   Clean Eatz  ...         685          Yes\n",
              "4     5    Pokeworks  ...        1210          Yes\n",
              "\n",
              "[5 rows x 9 columns]"
            ]
          },
          "metadata": {
            "tags": []
          },
          "execution_count": 3
        }
      ]
    },
    {
      "cell_type": "code",
      "metadata": {
        "colab": {
          "base_uri": "https://localhost:8080/",
          "height": 272
        },
        "id": "3mvv_aH4KlJR",
        "outputId": "dc6b7804-fa5e-42a9-ed6f-bac11dbc1d44"
      },
      "source": [
        "df.tail()"
      ],
      "execution_count": null,
      "outputs": [
        {
          "output_type": "execute_result",
          "data": {
            "text/html": [
              "<div>\n",
              "<style scoped>\n",
              "    .dataframe tbody tr th:only-of-type {\n",
              "        vertical-align: middle;\n",
              "    }\n",
              "\n",
              "    .dataframe tbody tr th {\n",
              "        vertical-align: top;\n",
              "    }\n",
              "\n",
              "    .dataframe thead th {\n",
              "        text-align: right;\n",
              "    }\n",
              "</style>\n",
              "<table border=\"1\" class=\"dataframe\">\n",
              "  <thead>\n",
              "    <tr style=\"text-align: right;\">\n",
              "      <th></th>\n",
              "      <th>Rank</th>\n",
              "      <th>Restaurant</th>\n",
              "      <th>Location</th>\n",
              "      <th>Sales</th>\n",
              "      <th>YOY_Sales</th>\n",
              "      <th>Units</th>\n",
              "      <th>YOY_Units</th>\n",
              "      <th>Unit_Volume</th>\n",
              "      <th>Franchising</th>\n",
              "    </tr>\n",
              "  </thead>\n",
              "  <tbody>\n",
              "    <tr>\n",
              "      <th>45</th>\n",
              "      <td>46</td>\n",
              "      <td>LA Crawfish</td>\n",
              "      <td>McAllen, Texas</td>\n",
              "      <td>48</td>\n",
              "      <td>17.6%</td>\n",
              "      <td>25</td>\n",
              "      <td>13.6%</td>\n",
              "      <td>2050</td>\n",
              "      <td>Yes</td>\n",
              "    </tr>\n",
              "    <tr>\n",
              "      <th>46</th>\n",
              "      <td>47</td>\n",
              "      <td>&amp;pizza</td>\n",
              "      <td>Washington, D.C.</td>\n",
              "      <td>45</td>\n",
              "      <td>17.1%</td>\n",
              "      <td>35</td>\n",
              "      <td>9.4%</td>\n",
              "      <td>1350</td>\n",
              "      <td>No</td>\n",
              "    </tr>\n",
              "    <tr>\n",
              "      <th>47</th>\n",
              "      <td>48</td>\n",
              "      <td>Super Duper Burgers</td>\n",
              "      <td>San Francisco, Calif.</td>\n",
              "      <td>39</td>\n",
              "      <td>16.9%</td>\n",
              "      <td>16</td>\n",
              "      <td>14.3%</td>\n",
              "      <td>2630</td>\n",
              "      <td>No</td>\n",
              "    </tr>\n",
              "    <tr>\n",
              "      <th>48</th>\n",
              "      <td>49</td>\n",
              "      <td>StoneFire Grill</td>\n",
              "      <td>Agoura Hills, Calif.</td>\n",
              "      <td>31</td>\n",
              "      <td>16.0%</td>\n",
              "      <td>13</td>\n",
              "      <td>8.3%</td>\n",
              "      <td>2550</td>\n",
              "      <td>No</td>\n",
              "    </tr>\n",
              "    <tr>\n",
              "      <th>49</th>\n",
              "      <td>50</td>\n",
              "      <td>Gus's World Famous Fried Chicken</td>\n",
              "      <td>Memphis, Tenn.</td>\n",
              "      <td>44</td>\n",
              "      <td>14.4%</td>\n",
              "      <td>28</td>\n",
              "      <td>7.7%</td>\n",
              "      <td>1600</td>\n",
              "      <td>Yes</td>\n",
              "    </tr>\n",
              "  </tbody>\n",
              "</table>\n",
              "</div>"
            ],
            "text/plain": [
              "    Rank                        Restaurant  ... Unit_Volume  Franchising\n",
              "45    46                       LA Crawfish  ...        2050          Yes\n",
              "46    47                            &pizza  ...        1350           No\n",
              "47    48               Super Duper Burgers  ...        2630           No\n",
              "48    49                   StoneFire Grill  ...        2550           No\n",
              "49    50  Gus's World Famous Fried Chicken  ...        1600          Yes\n",
              "\n",
              "[5 rows x 9 columns]"
            ]
          },
          "metadata": {
            "tags": []
          },
          "execution_count": 4
        }
      ]
    },
    {
      "cell_type": "code",
      "metadata": {
        "colab": {
          "base_uri": "https://localhost:8080/",
          "height": 297
        },
        "id": "Wz_euT2HKpRD",
        "outputId": "82e38562-27b1-4965-f416-f1d9d72e2f64"
      },
      "source": [
        "df.describe()"
      ],
      "execution_count": null,
      "outputs": [
        {
          "output_type": "execute_result",
          "data": {
            "text/html": [
              "<div>\n",
              "<style scoped>\n",
              "    .dataframe tbody tr th:only-of-type {\n",
              "        vertical-align: middle;\n",
              "    }\n",
              "\n",
              "    .dataframe tbody tr th {\n",
              "        vertical-align: top;\n",
              "    }\n",
              "\n",
              "    .dataframe thead th {\n",
              "        text-align: right;\n",
              "    }\n",
              "</style>\n",
              "<table border=\"1\" class=\"dataframe\">\n",
              "  <thead>\n",
              "    <tr style=\"text-align: right;\">\n",
              "      <th></th>\n",
              "      <th>Rank</th>\n",
              "      <th>Sales</th>\n",
              "      <th>Units</th>\n",
              "      <th>Unit_Volume</th>\n",
              "    </tr>\n",
              "  </thead>\n",
              "  <tbody>\n",
              "    <tr>\n",
              "      <th>count</th>\n",
              "      <td>50.00000</td>\n",
              "      <td>50.000000</td>\n",
              "      <td>50.000000</td>\n",
              "      <td>50.00000</td>\n",
              "    </tr>\n",
              "    <tr>\n",
              "      <th>mean</th>\n",
              "      <td>25.50000</td>\n",
              "      <td>33.780000</td>\n",
              "      <td>34.700000</td>\n",
              "      <td>1592.60000</td>\n",
              "    </tr>\n",
              "    <tr>\n",
              "      <th>std</th>\n",
              "      <td>14.57738</td>\n",
              "      <td>9.596534</td>\n",
              "      <td>24.527577</td>\n",
              "      <td>994.67677</td>\n",
              "    </tr>\n",
              "    <tr>\n",
              "      <th>min</th>\n",
              "      <td>1.00000</td>\n",
              "      <td>20.000000</td>\n",
              "      <td>7.000000</td>\n",
              "      <td>465.00000</td>\n",
              "    </tr>\n",
              "    <tr>\n",
              "      <th>25%</th>\n",
              "      <td>13.25000</td>\n",
              "      <td>24.250000</td>\n",
              "      <td>16.000000</td>\n",
              "      <td>867.50000</td>\n",
              "    </tr>\n",
              "    <tr>\n",
              "      <th>50%</th>\n",
              "      <td>25.50000</td>\n",
              "      <td>34.500000</td>\n",
              "      <td>27.000000</td>\n",
              "      <td>1260.00000</td>\n",
              "    </tr>\n",
              "    <tr>\n",
              "      <th>75%</th>\n",
              "      <td>37.75000</td>\n",
              "      <td>42.000000</td>\n",
              "      <td>45.500000</td>\n",
              "      <td>2020.00000</td>\n",
              "    </tr>\n",
              "    <tr>\n",
              "      <th>max</th>\n",
              "      <td>50.00000</td>\n",
              "      <td>49.000000</td>\n",
              "      <td>105.000000</td>\n",
              "      <td>4300.00000</td>\n",
              "    </tr>\n",
              "  </tbody>\n",
              "</table>\n",
              "</div>"
            ],
            "text/plain": [
              "           Rank      Sales       Units  Unit_Volume\n",
              "count  50.00000  50.000000   50.000000     50.00000\n",
              "mean   25.50000  33.780000   34.700000   1592.60000\n",
              "std    14.57738   9.596534   24.527577    994.67677\n",
              "min     1.00000  20.000000    7.000000    465.00000\n",
              "25%    13.25000  24.250000   16.000000    867.50000\n",
              "50%    25.50000  34.500000   27.000000   1260.00000\n",
              "75%    37.75000  42.000000   45.500000   2020.00000\n",
              "max    50.00000  49.000000  105.000000   4300.00000"
            ]
          },
          "metadata": {
            "tags": []
          },
          "execution_count": 5
        }
      ]
    },
    {
      "cell_type": "code",
      "metadata": {
        "colab": {
          "base_uri": "https://localhost:8080/"
        },
        "id": "CxwkVbBYKpM4",
        "outputId": "21659010-7818-4177-8c4d-e0658f3e4be1"
      },
      "source": [
        "df.isnull().any()"
      ],
      "execution_count": null,
      "outputs": [
        {
          "output_type": "execute_result",
          "data": {
            "text/plain": [
              "Rank           False\n",
              "Restaurant     False\n",
              "Location       False\n",
              "Sales          False\n",
              "YOY_Sales      False\n",
              "Units          False\n",
              "YOY_Units      False\n",
              "Unit_Volume    False\n",
              "Franchising    False\n",
              "dtype: bool"
            ]
          },
          "metadata": {
            "tags": []
          },
          "execution_count": 6
        }
      ]
    },
    {
      "cell_type": "code",
      "metadata": {
        "colab": {
          "base_uri": "https://localhost:8080/"
        },
        "id": "N_ht1hoQKw0l",
        "outputId": "c1b031b0-8f50-4a5f-965f-5664496157ca"
      },
      "source": [
        "df.shape"
      ],
      "execution_count": null,
      "outputs": [
        {
          "output_type": "execute_result",
          "data": {
            "text/plain": [
              "(50, 9)"
            ]
          },
          "metadata": {
            "tags": []
          },
          "execution_count": 7
        }
      ]
    },
    {
      "cell_type": "code",
      "metadata": {
        "colab": {
          "base_uri": "https://localhost:8080/"
        },
        "id": "T4LviYG7KziV",
        "outputId": "3126bf5a-fbe2-44e4-9527-80571f1b48bb"
      },
      "source": [
        "df.columns"
      ],
      "execution_count": null,
      "outputs": [
        {
          "output_type": "execute_result",
          "data": {
            "text/plain": [
              "Index(['Rank', 'Restaurant', 'Location', 'Sales', 'YOY_Sales', 'Units',\n",
              "       'YOY_Units', 'Unit_Volume', 'Franchising'],\n",
              "      dtype='object')"
            ]
          },
          "metadata": {
            "tags": []
          },
          "execution_count": 8
        }
      ]
    },
    {
      "cell_type": "code",
      "metadata": {
        "colab": {
          "base_uri": "https://localhost:8080/"
        },
        "id": "nEdjb5E8LBe5",
        "outputId": "9a5cc062-a715-4891-892e-d17fd503608b"
      },
      "source": [
        "df['Franchising'] = df['Franchising'].map({'Yes': 1, 'No': 0})\r\n",
        "\r\n",
        "df.info()\r\n",
        "df['Franchising']"
      ],
      "execution_count": null,
      "outputs": [
        {
          "output_type": "stream",
          "text": [
            "<class 'pandas.core.frame.DataFrame'>\n",
            "RangeIndex: 50 entries, 0 to 49\n",
            "Data columns (total 9 columns):\n",
            " #   Column       Non-Null Count  Dtype \n",
            "---  ------       --------------  ----- \n",
            " 0   Rank         50 non-null     int64 \n",
            " 1   Restaurant   50 non-null     object\n",
            " 2   Location     50 non-null     object\n",
            " 3   Sales        50 non-null     int64 \n",
            " 4   YOY_Sales    50 non-null     object\n",
            " 5   Units        50 non-null     int64 \n",
            " 6   YOY_Units    50 non-null     object\n",
            " 7   Unit_Volume  50 non-null     int64 \n",
            " 8   Franchising  50 non-null     int64 \n",
            "dtypes: int64(5), object(4)\n",
            "memory usage: 3.6+ KB\n"
          ],
          "name": "stdout"
        },
        {
          "output_type": "execute_result",
          "data": {
            "text/plain": [
              "0     0\n",
              "1     1\n",
              "2     1\n",
              "3     1\n",
              "4     1\n",
              "5     1\n",
              "6     1\n",
              "7     1\n",
              "8     1\n",
              "9     0\n",
              "10    1\n",
              "11    1\n",
              "12    1\n",
              "13    0\n",
              "14    0\n",
              "15    1\n",
              "16    1\n",
              "17    1\n",
              "18    0\n",
              "19    1\n",
              "20    0\n",
              "21    1\n",
              "22    0\n",
              "23    1\n",
              "24    0\n",
              "25    0\n",
              "26    0\n",
              "27    1\n",
              "28    0\n",
              "29    1\n",
              "30    1\n",
              "31    0\n",
              "32    0\n",
              "33    0\n",
              "34    1\n",
              "35    1\n",
              "36    1\n",
              "37    0\n",
              "38    0\n",
              "39    1\n",
              "40    0\n",
              "41    1\n",
              "42    0\n",
              "43    1\n",
              "44    1\n",
              "45    1\n",
              "46    0\n",
              "47    0\n",
              "48    0\n",
              "49    1\n",
              "Name: Franchising, dtype: int64"
            ]
          },
          "metadata": {
            "tags": []
          },
          "execution_count": 10
        }
      ]
    },
    {
      "cell_type": "code",
      "metadata": {
        "colab": {
          "base_uri": "https://localhost:8080/",
          "height": 459
        },
        "id": "2K5W6SdeLJpS",
        "outputId": "8c2aa0f7-c6ee-465f-e0a5-dfaee76aabd2"
      },
      "source": [
        " plt.figure(figsize=(7,7))\r\n",
        "sns.countplot(x='Franchising',data=df)\r\n"
      ],
      "execution_count": null,
      "outputs": [
        {
          "output_type": "execute_result",
          "data": {
            "text/plain": [
              "<matplotlib.axes._subplots.AxesSubplot at 0x7ff8400f56a0>"
            ]
          },
          "metadata": {
            "tags": []
          },
          "execution_count": 11
        },
        {
          "output_type": "display_data",
          "data": {
            "image/png": "[encoded data removed]",
            "text/plain": [
              "<Figure size 504x504 with 1 Axes>"
            ]
          },
          "metadata": {
            "tags": [],
            "needs_background": "light"
          }
        }
      ]
    },
    {
      "cell_type": "code",
      "metadata": {
        "colab": {
          "base_uri": "https://localhost:8080/",
          "height": 286
        },
        "id": "PO1hqYNkLgOS",
        "outputId": "e00e8fcd-228f-4092-cc06-754773e831ec"
      },
      "source": [
        "plt.figure(figsize=(25,7))\r\n",
        "sns.pointplot(x='Restaurant',y='Sales',data=df.head(10))\r\n"
      ],
      "execution_count": null,
      "outputs": [
        {
          "output_type": "execute_result",
          "data": {
            "text/plain": [
              "<matplotlib.axes._subplots.AxesSubplot at 0x7ff8400f5588>"
            ]
          },
          "metadata": {
            "tags": []
          },
          "execution_count": 12
        },
        {
          "output_type": "display_data",
          "data": {
            "image/png": "[encoded data removed]",
            "text/plain": [
              "<Figure size 1800x504 with 1 Axes>"
            ]
          },
          "metadata": {
            "tags": [],
            "needs_background": "light"
          }
        }
      ]
    },
    {
      "cell_type": "code",
      "metadata": {
        "colab": {
          "base_uri": "https://localhost:8080/",
          "height": 288
        },
        "id": "Dsmd6MDyLmIB",
        "outputId": "de82cfce-5585-4eb8-f3cc-37457087ead8"
      },
      "source": [
        "plt.figure(figsize=(25,7))\r\n",
        "sns.pointplot(x='Location',y='Sales',data=df.tail(10))\r\n"
      ],
      "execution_count": null,
      "outputs": [
        {
          "output_type": "execute_result",
          "data": {
            "text/plain": [
              "<matplotlib.axes._subplots.AxesSubplot at 0x7ff83f9d9160>"
            ]
          },
          "metadata": {
            "tags": []
          },
          "execution_count": 13
        },
        {
          "output_type": "display_data",
          "data": {
            "image/png": "[encoded data removed]",
            "text/plain": [
              "<Figure size 1800x504 with 1 Axes>"
            ]
          },
          "metadata": {
            "tags": [],
            "needs_background": "light"
          }
        }
      ]
    },
    {
      "cell_type": "code",
      "metadata": {
        "colab": {
          "base_uri": "https://localhost:8080/"
        },
        "id": "PsIAAsRgLwy6",
        "outputId": "cad70902-39a5-4450-bcb6-d53bcc0a3dff"
      },
      "source": [
        "x=df.drop('Franchising',axis=1)\r\n",
        "x=x[['Sales','Units','Unit_Volume']]\r\n",
        "y=df['Franchising']\r\n",
        "print(x,y)"
      ],
      "execution_count": null,
      "outputs": [
        {
          "output_type": "stream",
          "text": [
            "    Sales  Units  Unit_Volume\n",
            "0      24     26         1150\n",
            "1      44    105          560\n",
            "2      21     21         1370\n",
            "3      25     46          685\n",
            "4      49     50         1210\n",
            "5      39     76          580\n",
            "6      24     36          775\n",
            "7      20     19         1260\n",
            "8      24     60          465\n",
            "9      29     17         1930\n",
            "10     30     41          860\n",
            "11     39     50         1200\n",
            "12     41     63          890\n",
            "13     48     48         1175\n",
            "14     21     12         1930\n",
            "15     24     35          780\n",
            "16     44     71          700\n",
            "17     37     77          535\n",
            "18     22      7         3800\n",
            "19     39     33         1260\n",
            "20     32      8         4300\n",
            "21     44     90          530\n",
            "22     23     12         2230\n",
            "23     47     69          760\n",
            "24     37     14         2800\n",
            "25     39     15         2820\n",
            "26     44     37         1330\n",
            "27     28     31          970\n",
            "28     28     22         1375\n",
            "29     27     27         1130\n",
            "30     20     26          785\n",
            "31     42     38         1240\n",
            "32     42     44         1050\n",
            "33     27      7         4260\n",
            "34     22     25          985\n",
            "35     22     20         1230\n",
            "36     40     27         1540\n",
            "37     20      7         3120\n",
            "38     38     15         2755\n",
            "39     29     21         1510\n",
            "40     49     14         3500\n",
            "41     47     97          535\n",
            "42     28     11         2700\n",
            "43     25     16         1620\n",
            "44     38     32         1260\n",
            "45     48     25         2050\n",
            "46     45     35         1350\n",
            "47     39     16         2630\n",
            "48     31     13         2550\n",
            "49     44     28         1600 0     0\n",
            "1     1\n",
            "2     1\n",
            "3     1\n",
            "4     1\n",
            "5     1\n",
            "6     1\n",
            "7     1\n",
            "8     1\n",
            "9     0\n",
            "10    1\n",
            "11    1\n",
            "12    1\n",
            "13    0\n",
            "14    0\n",
            "15    1\n",
            "16    1\n",
            "17    1\n",
            "18    0\n",
            "19    1\n",
            "20    0\n",
            "21    1\n",
            "22    0\n",
            "23    1\n",
            "24    0\n",
            "25    0\n",
            "26    0\n",
            "27    1\n",
            "28    0\n",
            "29    1\n",
            "30    1\n",
            "31    0\n",
            "32    0\n",
            "33    0\n",
            "34    1\n",
            "35    1\n",
            "36    1\n",
            "37    0\n",
            "38    0\n",
            "39    1\n",
            "40    0\n",
            "41    1\n",
            "42    0\n",
            "43    1\n",
            "44    1\n",
            "45    1\n",
            "46    0\n",
            "47    0\n",
            "48    0\n",
            "49    1\n",
            "Name: Franchising, dtype: int64\n"
          ],
          "name": "stdout"
        }
      ]
    },
    {
      "cell_type": "code",
      "metadata": {
        "colab": {
          "base_uri": "https://localhost:8080/"
        },
        "id": "P4CcE4tUMIRc",
        "outputId": "4e3aa73f-4c56-4fe7-caa3-edbfc60e209d"
      },
      "source": [
        "from sklearn.model_selection import train_test_split\r\n",
        "x_train,x_test,y_train,y_test=train_test_split(x,y,test_size=0.3,stratify=y,random_state=42)\r\n",
        "x_train,y_train,x_test,y_test "
      ],
      "execution_count": null,
      "outputs": [
        {
          "output_type": "execute_result",
          "data": {
            "text/plain": [
              "(    Sales  Units  Unit_Volume\n",
              " 25     39     15         2820\n",
              " 39     29     21         1510\n",
              " 8      24     60          465\n",
              " 0      24     26         1150\n",
              " 10     30     41          860\n",
              " 5      39     76          580\n",
              " 33     27      7         4260\n",
              " 21     44     90          530\n",
              " 26     44     37         1330\n",
              " 44     38     32         1260\n",
              " 17     37     77          535\n",
              " 36     40     27         1540\n",
              " 40     49     14         3500\n",
              " 30     20     26          785\n",
              " 20     32      8         4300\n",
              " 43     25     16         1620\n",
              " 29     27     27         1130\n",
              " 49     44     28         1600\n",
              " 19     39     33         1260\n",
              " 6      24     36          775\n",
              " 9      29     17         1930\n",
              " 12     41     63          890\n",
              " 48     31     13         2550\n",
              " 38     38     15         2755\n",
              " 4      49     50         1210\n",
              " 14     21     12         1930\n",
              " 13     48     48         1175\n",
              " 31     42     38         1240\n",
              " 7      20     19         1260\n",
              " 18     22      7         3800\n",
              " 3      25     46          685\n",
              " 27     28     31          970\n",
              " 42     28     11         2700\n",
              " 16     44     71          700\n",
              " 46     45     35         1350, 25    0\n",
              " 39    1\n",
              " 8     1\n",
              " 0     0\n",
              " 10    1\n",
              " 5     1\n",
              " 33    0\n",
              " 21    1\n",
              " 26    0\n",
              " 44    1\n",
              " 17    1\n",
              " 36    1\n",
              " 40    0\n",
              " 30    1\n",
              " 20    0\n",
              " 43    1\n",
              " 29    1\n",
              " 49    1\n",
              " 19    1\n",
              " 6     1\n",
              " 9     0\n",
              " 12    1\n",
              " 48    0\n",
              " 38    0\n",
              " 4     1\n",
              " 14    0\n",
              " 13    0\n",
              " 31    0\n",
              " 7     1\n",
              " 18    0\n",
              " 3     1\n",
              " 27    1\n",
              " 42    0\n",
              " 16    1\n",
              " 46    0\n",
              " Name: Franchising, dtype: int64,     Sales  Units  Unit_Volume\n",
              " 45     48     25         2050\n",
              " 28     28     22         1375\n",
              " 22     23     12         2230\n",
              " 32     42     44         1050\n",
              " 1      44    105          560\n",
              " 11     39     50         1200\n",
              " 15     24     35          780\n",
              " 37     20      7         3120\n",
              " 41     47     97          535\n",
              " 35     22     20         1230\n",
              " 23     47     69          760\n",
              " 2      21     21         1370\n",
              " 24     37     14         2800\n",
              " 34     22     25          985\n",
              " 47     39     16         2630, 45    1\n",
              " 28    0\n",
              " 22    0\n",
              " 32    0\n",
              " 1     1\n",
              " 11    1\n",
              " 15    1\n",
              " 37    0\n",
              " 41    1\n",
              " 35    1\n",
              " 23    1\n",
              " 2     1\n",
              " 24    0\n",
              " 34    1\n",
              " 47    0\n",
              " Name: Franchising, dtype: int64)"
            ]
          },
          "metadata": {
            "tags": []
          },
          "execution_count": 16
        }
      ]
    },
    {
      "cell_type": "code",
      "metadata": {
        "colab": {
          "base_uri": "https://localhost:8080/"
        },
        "id": "raZBMmDiMStL",
        "outputId": "bb27cb3c-df63-40d5-f177-c0b8fc671037"
      },
      "source": [
        "from sklearn.neighbors import KNeighborsClassifier\r\n",
        "\r\n",
        "model = KNeighborsClassifier(n_neighbors=3)\r\n",
        "\r\n",
        "# Train the model using the training sets\r\n",
        "model.fit(x_train,y_train)\r\n",
        "\r\n",
        "#Predict Output\r\n",
        "predicted= model.predict(x_test) # 0:Overcast, 2:Mild\r\n",
        "print(predicted)"
      ],
      "execution_count": null,
      "outputs": [
        {
          "output_type": "stream",
          "text": [
            "[0 0 0 1 1 0 1 0 1 1 1 0 0 1 0]\n"
          ],
          "name": "stdout"
        }
      ]
    },
    {
      "cell_type": "code",
      "metadata": {
        "colab": {
          "base_uri": "https://localhost:8080/"
        },
        "id": "qYQyhpt8Mi3_",
        "outputId": "2a2d5fc6-c06a-46d4-b2dc-40e798915da3"
      },
      "source": [
        "from sklearn import svm\r\n",
        "clf = svm.SVC()\r\n",
        "clf.fit(x_train, y_train)\r\n",
        "yhat=clf.predict(x_test)\r\n",
        "yhat\r\n"
      ],
      "execution_count": null,
      "outputs": [
        {
          "output_type": "execute_result",
          "data": {
            "text/plain": [
              "array([0, 1, 0, 1, 1, 1, 1, 0, 1, 1, 1, 1, 0, 1, 0])"
            ]
          },
          "metadata": {
            "tags": []
          },
          "execution_count": 18
        }
      ]
    },
    {
      "cell_type": "code",
      "metadata": {
        "colab": {
          "base_uri": "https://localhost:8080/"
        },
        "id": "rAvUZsV_Muso",
        "outputId": "4773232a-092f-4765-ca17-f93428bc500e"
      },
      "source": [
        "from sklearn.metrics import accuracy_score\r\n",
        "knn_accuracy=accuracy_score(y_test,predicted)\r\n",
        "svm_accuracy=accuracy_score(y_test,yhat)\r\n",
        "print(\"KNN accuracy: \",'%.3f'%(knn_accuracy*100),\"%\")\r\n",
        "print(\"SVM accuracy: \",svm_accuracy*100,\"%\")\r\n"
      ],
      "execution_count": null,
      "outputs": [
        {
          "output_type": "stream",
          "text": [
            "KNN accuracy:  73.333 %\n",
            "SVM accuracy:  80.0 %\n"
          ],
          "name": "stdout"
        }
      ]
    },
    {
      "cell_type": "code",
      "metadata": {
        "colab": {
          "base_uri": "https://localhost:8080/",
          "height": 299
        },
        "id": "usZKjHJ4NX6U",
        "outputId": "a8ad1bf1-79d9-456f-cbf5-51d9d09bd40c"
      },
      "source": [
        "x=df.Sales.values.reshape(-1,1)\r\n",
        "y=df.Units.values.reshape(-1,1)\r\n",
        "plt.scatter(x,y)\r\n",
        "from sklearn.linear_model import LinearRegression\r\n",
        "lr=LinearRegression()\r\n",
        "lr.fit(x,y)\r\n",
        "y_head=lr.predict(x)\r\n",
        "plt.plot(x,y_head,color=\"red\")\r\n",
        "plt.show\r\n",
        "print(lr.predict(np.array(10000).reshape(-1,1)))\r\n",
        "print(\"r^2 score: \",lr.score(x,y))"
      ],
      "execution_count": null,
      "outputs": [
        {
          "output_type": "stream",
          "text": [
            "[[12876.70599967]]\n",
            "r^2 score:  0.2541700244629368\n"
          ],
          "name": "stdout"
        },
        {
          "output_type": "display_data",
          "data": {
            "image/png": "[encoded data removed]",
            "text/plain": [
              "<Figure size 432x288 with 1 Axes>"
            ]
          },
          "metadata": {
            "tags": [],
            "needs_background": "light"
          }
        }
      ]
    },
    {
      "cell_type": "code",
      "metadata": {
        "id": "_Sk28qlmOkiZ"
      },
      "source": [
        "from sklearn.tree import DecisionTreeRegressor\r\n"
      ],
      "execution_count": null,
      "outputs": []
    },
    {
      "cell_type": "code",
      "metadata": {
        "colab": {
          "base_uri": "https://localhost:8080/",
          "height": 282
        },
        "id": "uZU_2HYUOAd6",
        "outputId": "13cba761-a02a-476f-aa95-1c4ba29d7517"
      },
      "source": [
        "tree_reg=DecisionTreeRegressor()\r\n",
        "tree_reg.fit(x,y)\r\n",
        "print(tree_reg.predict(np.array(10000).reshape(-1,1)))\r\n",
        "x_=np.arange(min(x),max(x),0.01).reshape(-1,1)\r\n",
        "y_head2=tree_reg.predict(x_)\r\n",
        "plt.scatter(x,y,color=\"red\")\r\n",
        "plt.plot(x_,y_head2,color=\"green\")\r\n",
        "plt.show()"
      ],
      "execution_count": null,
      "outputs": [
        {
          "output_type": "stream",
          "text": [
            "[32.]\n"
          ],
          "name": "stdout"
        },
        {
          "output_type": "display_data",
          "data": {
            "image/png": "[encoded data removed]",
            "text/plain": [
              "<Figure size 432x288 with 1 Axes>"
            ]
          },
          "metadata": {
            "tags": [],
            "needs_background": "light"
          }
        }
      ]
    },
    {
      "cell_type": "code",
      "metadata": {
        "id": "-MRT_NwKOqx6"
      },
      "source": [
        ""
      ],
      "execution_count": null,
      "outputs": []
    }
  ]
}