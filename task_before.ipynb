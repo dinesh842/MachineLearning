{
  "nbformat": 4,
  "nbformat_minor": 0,
  "metadata": {
    "colab": {
      "name": "task before ",
      "provenance": [],
      "collapsed_sections": [],
      "authorship_tag": "ABX9TyOT4CXfsNCRwki0E5yM5zx3",
      "include_colab_link": true
    },
    "kernelspec": {
      "name": "python3",
      "display_name": "Python 3"
    }
  },
  "cells": [
    {
      "cell_type": "markdown",
      "metadata": {
        "id": "view-in-github",
        "colab_type": "text"
      },
      "source": [
        "<a href=\"https://colab.research.google.com/github/dinesh842/python-/blob/main/task_before.ipynb\" target=\"_parent\"><img src=\"https://colab.research.google.com/assets/colab-badge.svg\" alt=\"Open In Colab\"/></a>"
      ]
    },
    {
      "cell_type": "code",
      "metadata": {
        "id": "a4PRF8d2vgkT"
      },
      "source": [
        "#input=\"hello\""
      ],
      "execution_count": null,
      "outputs": []
    },
    {
      "cell_type": "code",
      "metadata": {
        "colab": {
          "base_uri": "https://localhost:8080/"
        },
        "id": "pUtPpMkxqY3A",
        "outputId": "d4acc62a-73ba-44d1-e977-85b73dc8f129"
      },
      "source": [
        "string_data=input(\"helo good: \")\r\n",
        "output=\" \"\r\n",
        "for ch in string_data:\r\n",
        "  if ch not in output:\r\n",
        "    output=output+ch\r\n",
        "print(\"original string:\",string_data) \r\n",
        "print(\"result after removing duplicate characters:\",output)   "
      ],
      "execution_count": 11,
      "outputs": [
        {
          "output_type": "stream",
          "text": [
            "helo good: good\n",
            "original string: good\n",
            "result after removing duplicate characters:  god\n"
          ],
          "name": "stdout"
        }
      ]
    },
    {
      "cell_type": "code",
      "metadata": {
        "colab": {
          "base_uri": "https://localhost:8080/"
        },
        "id": "07m6gMP75-2h",
        "outputId": "c8267e93-b18b-4ecb-e866-261c816c97e1"
      },
      "source": [
        "# Reversing a list using reverse() \r\n",
        "def Reverse(lst): \r\n",
        "    lst.reverse() \r\n",
        "    return lst \r\n",
        "      \r\n",
        "lst = [1,3,4,5,6] \r\n",
        "print(Reverse(lst)) "
      ],
      "execution_count": 33,
      "outputs": [
        {
          "output_type": "stream",
          "text": [
            "[6, 5, 4, 3, 1]\n"
          ],
          "name": "stdout"
        }
      ]
    },
    {
      "cell_type": "code",
      "metadata": {
        "colab": {
          "base_uri": "https://localhost:8080/"
        },
        "id": "Am_z_XCKDxHJ",
        "outputId": "bb78d238-940a-4ed5-c402-5e92da9c2de8"
      },
      "source": [
        "number1 = int(input('Enter First number : '))\r\n",
        "number2 = int(input('Enter Second number : '))\r\n",
        "number3 = int(input('Enter Third number : '))\r\n",
        "def largest(num1, num2, num3):\r\n",
        "    if (num1 > num2) and (num1 > num3):\r\n",
        "        largest_num = num1\r\n",
        "    elif (num2 > num1) and (num2 > num3):\r\n",
        "        largest_num = num2\r\n",
        "    else:\r\n",
        "        largest_num = num3\r\n",
        "    print(\"The largest of the 3 numbers is : \", largest_num)\r\n",
        "def smallest(num1, num2, num3):\r\n",
        "    if (num1 < num2) and (num1 < num3):\r\n",
        "        smallest_num = num1\r\n",
        "    elif (num2 < num1) and (num2 < num3):\r\n",
        "        smallest_num = num2\r\n",
        "    else:\r\n",
        "        smallest_num = num3\r\n",
        "    print(\"The smallest of the 3 numbers is : \", smallest_num)\r\n",
        "largest(number1, number2, number3)\r\n",
        "smallest(number1, number2, number3)\r\n"
      ],
      "execution_count": 34,
      "outputs": [
        {
          "output_type": "stream",
          "text": [
            "Enter First number : 1\n",
            "Enter Second number : 2\n",
            "Enter Third number : 3\n",
            "The largest of the 3 numbers is :  3\n",
            "The smallest of the 3 numbers is :  1\n"
          ],
          "name": "stdout"
        }
      ]
    },
    {
      "cell_type": "code",
      "metadata": {
        "colab": {
          "base_uri": "https://localhost:8080/"
        },
        "id": "-eSkwjfRFfI4",
        "outputId": "c391ecd1-4a97-4662-a92f-a19aa842c778"
      },
      "source": [
        "def cube_root(x):\r\n",
        "        return x**(1/3)\r\n",
        "print(cube_root(8))\r\n"
      ],
      "execution_count": 35,
      "outputs": [
        {
          "output_type": "stream",
          "text": [
            "2.0\n"
          ],
          "name": "stdout"
        }
      ]
    },
    {
      "cell_type": "code",
      "metadata": {
        "colab": {
          "base_uri": "https://localhost:8080/"
        },
        "id": "hJVyXCKrFtxp",
        "outputId": "7ba068ce-7aa0-4865-d6c3-cc064a41f5eb"
      },
      "source": [
        "def fourth_root(x):\r\n",
        "        return x**(1/4)\r\n",
        "print(fourth_root(16))\r\n"
      ],
      "execution_count": 36,
      "outputs": [
        {
          "output_type": "stream",
          "text": [
            "2.0\n"
          ],
          "name": "stdout"
        }
      ]
    },
    {
      "cell_type": "code",
      "metadata": {
        "id": "q-wqcXnwGUSo"
      },
      "source": [
        ""
      ],
      "execution_count": null,
      "outputs": []
    }
  ]
}