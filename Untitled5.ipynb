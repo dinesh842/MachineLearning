{
  "nbformat": 4,
  "nbformat_minor": 0,
  "metadata": {
    "colab": {
      "name": "Untitled5.ipynb",
      "provenance": [],
      "authorship_tag": "ABX9TyNuYV9K1q2nYTrrs1/bno4T",
      "include_colab_link": true
    },
    "kernelspec": {
      "name": "python3",
      "display_name": "Python 3"
    }
  },
  "cells": [
    {
      "cell_type": "markdown",
      "metadata": {
        "id": "view-in-github",
        "colab_type": "text"
      },
      "source": [
        "<a href=\"https://colab.research.google.com/github/dinesh842/python-/blob/main/Untitled5.ipynb\" target=\"_parent\"><img src=\"https://colab.research.google.com/assets/colab-badge.svg\" alt=\"Open In Colab\"/></a>"
      ]
    },
    {
      "cell_type": "code",
      "metadata": {
        "colab": {
          "base_uri": "https://localhost:8080/"
        },
        "id": "ZURKGMl03HFz",
        "outputId": "3ee4aa5f-5f30-42e3-9a3a-8fc461d22ff8"
      },
      "source": [
        "dict1={\n",
        "    \"Brand\": \"Bajaj\" ,\n",
        "    \"model\":\"pulsar\" ,\n",
        "    \"year\":2015,\n",
        "    \"cost\":85000\n",
        "}\n",
        "dict1\n",
        "type(dict1)"
      ],
      "execution_count": null,
      "outputs": [
        {
          "output_type": "execute_result",
          "data": {
            "text/plain": [
              "dict"
            ]
          },
          "metadata": {
            "tags": []
          },
          "execution_count": 1
        }
      ]
    },
    {
      "cell_type": "code",
      "metadata": {
        "colab": {
          "base_uri": "https://localhost:8080/"
        },
        "id": "1aGozltQ4FbB",
        "outputId": "1a90dbe9-75e3-478c-a809-a84e116d7d4e"
      },
      "source": [
        "len(dict1)"
      ],
      "execution_count": null,
      "outputs": [
        {
          "output_type": "execute_result",
          "data": {
            "text/plain": [
              "4"
            ]
          },
          "metadata": {
            "tags": []
          },
          "execution_count": 2
        }
      ]
    },
    {
      "cell_type": "code",
      "metadata": {
        "colab": {
          "base_uri": "https://localhost:8080/",
          "height": 35
        },
        "id": "jX8ZdmIj4SZP",
        "outputId": "de2cf0cf-04a9-43ed-fce3-a8734d8d3cbe"
      },
      "source": [
        "x=dict1[\"model\"]\n",
        "x"
      ],
      "execution_count": null,
      "outputs": [
        {
          "output_type": "execute_result",
          "data": {
            "application/vnd.google.colaboratory.intrinsic+json": {
              "type": "string"
            },
            "text/plain": [
              "'pulsar'"
            ]
          },
          "metadata": {
            "tags": []
          },
          "execution_count": 3
        }
      ]
    },
    {
      "cell_type": "code",
      "metadata": {
        "colab": {
          "base_uri": "https://localhost:8080/",
          "height": 35
        },
        "id": "Mf6lLGd_4tyD",
        "outputId": "e4d90439-def9-46f6-ec50-e1d6323512a2"
      },
      "source": [
        "x=dict1.get(\"model\")\n",
        "x"
      ],
      "execution_count": null,
      "outputs": [
        {
          "output_type": "execute_result",
          "data": {
            "application/vnd.google.colaboratory.intrinsic+json": {
              "type": "string"
            },
            "text/plain": [
              "'pulsar'"
            ]
          },
          "metadata": {
            "tags": []
          },
          "execution_count": 4
        }
      ]
    },
    {
      "cell_type": "code",
      "metadata": {
        "colab": {
          "base_uri": "https://localhost:8080/"
        },
        "id": "SWKMhwV85KlW",
        "outputId": "8a334fa4-c1d3-4635-d92e-b5fc30858193"
      },
      "source": [
        "#update the year\n",
        "dict1[\"year\"] =2018\n",
        "dict1"
      ],
      "execution_count": null,
      "outputs": [
        {
          "output_type": "execute_result",
          "data": {
            "text/plain": [
              "{'Brand': 'Bajaj', 'cost': 85000, 'model': 'pulsar', 'year': 2018}"
            ]
          },
          "metadata": {
            "tags": []
          },
          "execution_count": 5
        }
      ]
    },
    {
      "cell_type": "code",
      "metadata": {
        "colab": {
          "base_uri": "https://localhost:8080/"
        },
        "id": "o8uAyu-Q5296",
        "outputId": "2190ede8-92f1-45da-9769-6b6d26ac0e90"
      },
      "source": [
        "#keys() method to get the keys\n",
        "keys=list(dict1.keys())\n",
        "print(keys)"
      ],
      "execution_count": null,
      "outputs": [
        {
          "output_type": "stream",
          "text": [
            "['Brand', 'model', 'year', 'cost']\n"
          ],
          "name": "stdout"
        }
      ]
    },
    {
      "cell_type": "code",
      "metadata": {
        "colab": {
          "base_uri": "https://localhost:8080/"
        },
        "id": "QVyQ949u6LXY",
        "outputId": "c03f4006-bfb9-4c05-87b3-424e9e7f7f33"
      },
      "source": [
        "#values() method to get the values \n",
        "values=list(dict1.values())\n",
        "print(values)"
      ],
      "execution_count": null,
      "outputs": [
        {
          "output_type": "stream",
          "text": [
            "['Bajaj', 'pulsar', 2018, 85000]\n"
          ],
          "name": "stdout"
        }
      ]
    },
    {
      "cell_type": "code",
      "metadata": {
        "colab": {
          "base_uri": "https://localhost:8080/"
        },
        "id": "olVVywqw6s4I",
        "outputId": "72192754-0140-4017-be46-d000ce8606c3"
      },
      "source": [
        "#items() method to get both keys and values \n",
        "items=list(dict1.items())\n",
        "items"
      ],
      "execution_count": null,
      "outputs": [
        {
          "output_type": "execute_result",
          "data": {
            "text/plain": [
              "[('Brand', 'Bajaj'), ('model', 'pulsar'), ('year', 2018), ('cost', 85000)]"
            ]
          },
          "metadata": {
            "tags": []
          },
          "execution_count": 8
        }
      ]
    },
    {
      "cell_type": "code",
      "metadata": {
        "colab": {
          "base_uri": "https://localhost:8080/"
        },
        "id": "MPGlFczr7c1T",
        "outputId": "02e5dcfb-2de2-4081-8dc7-9908bbdf8946"
      },
      "source": [
        "#add color of the bike\n",
        "dict1[\"color\"] =\"black\"\n",
        "dict1"
      ],
      "execution_count": null,
      "outputs": [
        {
          "output_type": "execute_result",
          "data": {
            "text/plain": [
              "{'Brand': 'Bajaj',\n",
              " 'color': 'black',\n",
              " 'cost': 85000,\n",
              " 'model': 'pulsar',\n",
              " 'year': 2018}"
            ]
          },
          "metadata": {
            "tags": []
          },
          "execution_count": 9
        }
      ]
    },
    {
      "cell_type": "code",
      "metadata": {
        "colab": {
          "base_uri": "https://localhost:8080/"
        },
        "id": "6jjX8JLX8A8Z",
        "outputId": "164c0924-44ee-4e8c-801f-5d046c195fbd"
      },
      "source": [
        "#add tyre type\n",
        "dict1[\"tyre type\"]=\"tubeless\"\n",
        "dict1"
      ],
      "execution_count": null,
      "outputs": [
        {
          "output_type": "execute_result",
          "data": {
            "text/plain": [
              "{'Brand': 'Bajaj',\n",
              " 'color': 'black',\n",
              " 'cost': 85000,\n",
              " 'model': 'pulsar',\n",
              " 'tyre type': 'tubeless',\n",
              " 'year': 2018}"
            ]
          },
          "metadata": {
            "tags": []
          },
          "execution_count": 10
        }
      ]
    },
    {
      "cell_type": "code",
      "metadata": {
        "colab": {
          "base_uri": "https://localhost:8080/"
        },
        "id": "Vg7MIE5F-nVu",
        "outputId": "c94c879f-c9c7-41e2-ec12-6c6e3d15f56d"
      },
      "source": [
        "# 1)pop(key)\n",
        "rem=dict1.pop(\"model\")\n",
        "print(rem)\n",
        "print(dict1)"
      ],
      "execution_count": null,
      "outputs": [
        {
          "output_type": "stream",
          "text": [
            "pulsar\n",
            "{'Brand': 'Bajaj', 'year': 2018, 'cost': 85000, 'color': 'black', 'tyre type': 'tubeless'}\n"
          ],
          "name": "stdout"
        }
      ]
    },
    {
      "cell_type": "code",
      "metadata": {
        "colab": {
          "base_uri": "https://localhost:8080/"
        },
        "id": "tqmwnVr0_Hwx",
        "outputId": "909da3e8-48a9-4de1-8ffd-dfceab0896e5"
      },
      "source": [
        "# adding again\n",
        "dict1[\"model\"]='pulsar'\n",
        "dict1"
      ],
      "execution_count": null,
      "outputs": [
        {
          "output_type": "execute_result",
          "data": {
            "text/plain": [
              "{'Brand': 'Bajaj',\n",
              " 'color': 'black',\n",
              " 'cost': 85000,\n",
              " 'model': 'pulsar',\n",
              " 'tyre type': 'tubeless',\n",
              " 'year': 2018}"
            ]
          },
          "metadata": {
            "tags": []
          },
          "execution_count": 12
        }
      ]
    },
    {
      "cell_type": "code",
      "metadata": {
        "colab": {
          "base_uri": "https://localhost:8080/"
        },
        "id": "ut5czCLr_fr3",
        "outputId": "345c8ab2-415b-4220-8931-7524f3487459"
      },
      "source": [
        "#  2) popitem()  remove the last inserted item \n",
        "print (dict1)\n",
        "dict1.popitem()\n",
        "print(dict1)"
      ],
      "execution_count": null,
      "outputs": [
        {
          "output_type": "stream",
          "text": [
            "{'Brand': 'Bajaj', 'year': 2018, 'cost': 85000, 'color': 'black', 'tyre type': 'tubeless', 'model': 'pulsar'}\n",
            "{'Brand': 'Bajaj', 'year': 2018, 'cost': 85000, 'color': 'black', 'tyre type': 'tubeless'}\n"
          ],
          "name": "stdout"
        }
      ]
    },
    {
      "cell_type": "code",
      "metadata": {
        "colab": {
          "base_uri": "https://localhost:8080/"
        },
        "id": "x5kIBs6bAbOc",
        "outputId": "066f764e-8b84-4e75-a630-31aaccad2b82"
      },
      "source": [
        "# del keyword\n",
        "del dict1['year']\n",
        "dict1"
      ],
      "execution_count": null,
      "outputs": [
        {
          "output_type": "execute_result",
          "data": {
            "text/plain": [
              "{'Brand': 'Bajaj', 'color': 'black', 'cost': 85000, 'tyre type': 'tubeless'}"
            ]
          },
          "metadata": {
            "tags": []
          },
          "execution_count": 17
        }
      ]
    },
    {
      "cell_type": "code",
      "metadata": {
        "colab": {
          "base_uri": "https://localhost:8080/"
        },
        "id": "0rwCM3i1AbqC",
        "outputId": "02616e41-1170-430b-ebe8-d423e6e391bf"
      },
      "source": [
        "#  1) copy() method\n",
        "dict1= {\n",
        "    \"brand\": \"Bajaj\",\n",
        "    \"model\":  \"pulsar\" ,\n",
        "    \"year\":   2015,\n",
        "    \"cost\":85000\n",
        "}\n",
        "mydict=dict1.copy()\n",
        "print(mydict)"
      ],
      "execution_count": null,
      "outputs": [
        {
          "output_type": "stream",
          "text": [
            "{'brand': 'Bajaj', 'model': 'pulsar', 'year': 2015, 'cost': 85000}\n"
          ],
          "name": "stdout"
        }
      ]
    },
    {
      "cell_type": "code",
      "metadata": {
        "colab": {
          "base_uri": "https://localhost:8080/"
        },
        "id": "Z32vW7LWHD7p",
        "outputId": "950f9f93-351f-47a1-daf6-2fa94494fb97"
      },
      "source": [
        "child1={\n",
        "    \"name\" : \"sammy\" ,\n",
        "    \"year\" : 1995\n",
        "}\n",
        "child2={\n",
        "    \"name\" : \"john\" ,\n",
        "    \"year\" :  2001\n",
        "}\n",
        "myfamily={\n",
        "    \"child1\" : child1,\n",
        "    \"child2\":  child2\n",
        "}\n",
        "myfamily"
      ],
      "execution_count": null,
      "outputs": [
        {
          "output_type": "execute_result",
          "data": {
            "text/plain": [
              "{'child1': {'name': 'sammy', 'year': 1995},\n",
              " 'child2': {'name': 'john', 'year': 2001}}"
            ]
          },
          "metadata": {
            "tags": []
          },
          "execution_count": 40
        }
      ]
    },
    {
      "cell_type": "code",
      "metadata": {
        "colab": {
          "base_uri": "https://localhost:8080/",
          "height": 129
        },
        "id": "ajN77HklLC1p",
        "outputId": "cd43ce73-4663-46a7-ff68-98e3f5e1edaa"
      },
      "source": [
        "myfamily={\n",
        "    \"child1\": {\n",
        "    \"name\" : \"sammy\" ,\n",
        "    \"year\" : 1995\n",
        "    \"hobbies\" :[\"music \", \"cricket\" , \"Tv\"]\n",
        "}\n",
        "  \"child2\": {\n",
        "    \"name\" : \"john\" ,\n",
        "    \"year\" :  2001\n",
        "  }\n",
        "}\n",
        "myfamily  "
      ],
      "execution_count": null,
      "outputs": [
        {
          "output_type": "error",
          "ename": "SyntaxError",
          "evalue": "ignored",
          "traceback": [
            "\u001b[0;36m  File \u001b[0;32m\"<ipython-input-42-060594b1f1c6>\"\u001b[0;36m, line \u001b[0;32m5\u001b[0m\n\u001b[0;31m    \"hobbies\" :[\"music \", \"cricket\" , \"Tv\"]\u001b[0m\n\u001b[0m            ^\u001b[0m\n\u001b[0;31mSyntaxError\u001b[0m\u001b[0;31m:\u001b[0m invalid syntax\n"
          ]
        }
      ]
    }
  ]
}