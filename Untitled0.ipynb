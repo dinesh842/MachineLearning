{
  "nbformat": 4,
  "nbformat_minor": 0,
  "metadata": {
    "colab": {
      "name": "Untitled0.ipynb",
      "provenance": [],
      "collapsed_sections": [],
      "authorship_tag": "ABX9TyMp+yrSqfxqgsoa2Zz55FSQ",
      "include_colab_link": true
    },
    "kernelspec": {
      "name": "python3",
      "display_name": "Python 3"
    }
  },
  "cells": [
    {
      "cell_type": "markdown",
      "metadata": {
        "id": "view-in-github",
        "colab_type": "text"
      },
      "source": [
        "<a href=\"https://colab.research.google.com/github/dinesh842/python-/blob/main/Untitled0.ipynb\" target=\"_parent\"><img src=\"https://colab.research.google.com/assets/colab-badge.svg\" alt=\"Open In Colab\"/></a>"
      ]
    },
    {
      "cell_type": "code",
      "metadata": {
        "id": "uzVUYkgpjI8P",
        "colab": {
          "base_uri": "https://localhost:8080/"
        },
        "outputId": "6ba1bc6c-0d26-45f5-9819-dea7e471ce45"
      },
      "source": [
        "val =  50.5\n",
        "int(val)"
      ],
      "execution_count": null,
      "outputs": [
        {
          "output_type": "execute_result",
          "data": {
            "text/plain": [
              "50"
            ]
          },
          "metadata": {
            "tags": []
          },
          "execution_count": 1
        }
      ]
    },
    {
      "cell_type": "code",
      "metadata": {
        "id": "V2xEGK1ykHN5",
        "colab": {
          "base_uri": "https://localhost:8080/"
        },
        "outputId": "1896e627-5f99-4321-f1f9-ba411a52f049"
      },
      "source": [
        "float(50)"
      ],
      "execution_count": null,
      "outputs": [
        {
          "output_type": "execute_result",
          "data": {
            "text/plain": [
              "50.0"
            ]
          },
          "metadata": {
            "tags": []
          },
          "execution_count": 2
        }
      ]
    },
    {
      "cell_type": "code",
      "metadata": {
        "id": "CItET5rQk3E_",
        "colab": {
          "base_uri": "https://localhost:8080/"
        },
        "outputId": "e57995cb-d96b-480b-f74d-a468b7bb9501"
      },
      "source": [
        "msg=\"good morning\"\n",
        "len(msg)"
      ],
      "execution_count": null,
      "outputs": [
        {
          "output_type": "execute_result",
          "data": {
            "text/plain": [
              "12"
            ]
          },
          "metadata": {
            "tags": []
          },
          "execution_count": 6
        }
      ]
    },
    {
      "cell_type": "code",
      "metadata": {
        "id": "uYSHFjhrlPGX",
        "colab": {
          "base_uri": "https://localhost:8080/"
        },
        "outputId": "5f8fa5e6-d624-439c-f83b-9539bb5617aa"
      },
      "source": [
        "marks = [50,86,95]\n",
        "len(marks)"
      ],
      "execution_count": null,
      "outputs": [
        {
          "output_type": "execute_result",
          "data": {
            "text/plain": [
              "3"
            ]
          },
          "metadata": {
            "tags": []
          },
          "execution_count": 7
        }
      ]
    },
    {
      "cell_type": "code",
      "metadata": {
        "id": "yN2i1QPSlbtI",
        "colab": {
          "base_uri": "https://localhost:8080/"
        },
        "outputId": "c94c3a98-c138-423b-b5e7-32e6546f747c"
      },
      "source": [
        "max(marks)\n"
      ],
      "execution_count": null,
      "outputs": [
        {
          "output_type": "execute_result",
          "data": {
            "text/plain": [
              "50"
            ]
          },
          "metadata": {
            "tags": []
          },
          "execution_count": 9
        }
      ]
    },
    {
      "cell_type": "code",
      "metadata": {
        "id": "A1vKdV_-mKrd",
        "colab": {
          "base_uri": "https://localhost:8080/"
        },
        "outputId": "7b1be413-c5ed-4fb0-fbc3-a97b20d9e66b"
      },
      "source": [
        "x=-10\n",
        "abs(x)"
      ],
      "execution_count": null,
      "outputs": [
        {
          "output_type": "execute_result",
          "data": {
            "text/plain": [
              "10"
            ]
          },
          "metadata": {
            "tags": []
          },
          "execution_count": 10
        }
      ]
    },
    {
      "cell_type": "code",
      "metadata": {
        "id": "GcJiiH8Vm0FG",
        "colab": {
          "base_uri": "https://localhost:8080/"
        },
        "outputId": "7989efcc-76c6-4a7d-9174-8629caea2920"
      },
      "source": [
        "a=[4,8,9]\n",
        "print(all(a))\n"
      ],
      "execution_count": null,
      "outputs": [
        {
          "output_type": "stream",
          "text": [
            "True\n"
          ],
          "name": "stdout"
        }
      ]
    },
    {
      "cell_type": "code",
      "metadata": {
        "id": "xWBYbrQQnVMO",
        "colab": {
          "base_uri": "https://localhost:8080/"
        },
        "outputId": "f0286964-ae10-46f4-9eac-d1ddae19f7bb"
      },
      "source": [
        "a=[0,5,6]\n",
        "print(all(a))"
      ],
      "execution_count": null,
      "outputs": [
        {
          "output_type": "stream",
          "text": [
            "False\n"
          ],
          "name": "stdout"
        }
      ]
    },
    {
      "cell_type": "code",
      "metadata": {
        "id": "zgfa-Y49nlqY",
        "colab": {
          "base_uri": "https://localhost:8080/"
        },
        "outputId": "c58e9e86-075e-48d6-f302-09e3a92a215a"
      },
      "source": [
        "a=[ ]\n",
        "print(all(a))\n"
      ],
      "execution_count": null,
      "outputs": [
        {
          "output_type": "stream",
          "text": [
            "True\n"
          ],
          "name": "stdout"
        }
      ]
    },
    {
      "cell_type": "code",
      "metadata": {
        "id": "H7DWl3rqn0on",
        "colab": {
          "base_uri": "https://localhost:8080/"
        },
        "outputId": "bb11c68a-74f4-4db5-9bc0-289ccb4c9830"
      },
      "source": [
        "a=[2,3,4]\n",
        "print(any(a))"
      ],
      "execution_count": null,
      "outputs": [
        {
          "output_type": "stream",
          "text": [
            "True\n"
          ],
          "name": "stdout"
        }
      ]
    },
    {
      "cell_type": "code",
      "metadata": {
        "id": "IEmJo4oQoOOm",
        "colab": {
          "base_uri": "https://localhost:8080/"
        },
        "outputId": "b55db5bf-4aef-4566-d3f2-0791e36431e0"
      },
      "source": [
        "x=\"surya kumar yadav\"\n",
        "print(ascii(x))"
      ],
      "execution_count": null,
      "outputs": [
        {
          "output_type": "stream",
          "text": [
            "'surya kumar yadav'\n"
          ],
          "name": "stdout"
        }
      ]
    },
    {
      "cell_type": "code",
      "metadata": {
        "id": "2zE1NPQlouem",
        "colab": {
          "base_uri": "https://localhost:8080/"
        },
        "outputId": "4ed1a2c6-247c-4382-e965-e7e0696d4e2e"
      },
      "source": [
        "x=\"surya kumar yadav %\"\n",
        "print(ascii(x))"
      ],
      "execution_count": null,
      "outputs": [
        {
          "output_type": "stream",
          "text": [
            "'surya kumar yadav %'\n"
          ],
          "name": "stdout"
        }
      ]
    },
    {
      "cell_type": "code",
      "metadata": {
        "id": "1EqXANzWqDUh"
      },
      "source": [
        "def add(x,y):\n",
        "  c=x+y\n",
        "  print(c)\n",
        "  add(5,4)\n"
      ],
      "execution_count": null,
      "outputs": []
    },
    {
      "cell_type": "code",
      "metadata": {
        "id": "ukDaWWeyqmrC",
        "colab": {
          "base_uri": "https://localhost:8080/"
        },
        "outputId": "5d460103-18dd-4b0c-cc4c-c267c19650f2"
      },
      "source": [
        "print(abs(-5))"
      ],
      "execution_count": null,
      "outputs": [
        {
          "output_type": "stream",
          "text": [
            "5\n"
          ],
          "name": "stdout"
        }
      ]
    },
    {
      "cell_type": "code",
      "metadata": {
        "id": "z5yTRCI1rwxA",
        "colab": {
          "base_uri": "https://localhost:8080/"
        },
        "outputId": "bf61358b-401e-4dd2-f715-4f4e70c571d3"
      },
      "source": [
        "print(abs(-5.4))"
      ],
      "execution_count": null,
      "outputs": [
        {
          "output_type": "stream",
          "text": [
            "5.4\n"
          ],
          "name": "stdout"
        }
      ]
    },
    {
      "cell_type": "code",
      "metadata": {
        "id": "NcMu-gJdsCAC",
        "colab": {
          "base_uri": "https://localhost:8080/"
        },
        "outputId": "5f0389c5-dceb-4a45-91bc-db4e3ee1cf1b"
      },
      "source": [
        "print(oct(65))"
      ],
      "execution_count": null,
      "outputs": [
        {
          "output_type": "stream",
          "text": [
            "0o101\n"
          ],
          "name": "stdout"
        }
      ]
    },
    {
      "cell_type": "code",
      "metadata": {
        "id": "tIwHg-hlsO7m",
        "colab": {
          "base_uri": "https://localhost:8080/"
        },
        "outputId": "b08b56b4-885c-408c-cbf9-9c161a12502a"
      },
      "source": [
        "print(oct(35))"
      ],
      "execution_count": null,
      "outputs": [
        {
          "output_type": "stream",
          "text": [
            "0o43\n"
          ],
          "name": "stdout"
        }
      ]
    },
    {
      "cell_type": "code",
      "metadata": {
        "id": "ZXbRpGgysXn1",
        "colab": {
          "base_uri": "https://localhost:8080/"
        },
        "outputId": "21bc800e-5e44-4508-e7d3-4850611edd6e"
      },
      "source": [
        "print((65))"
      ],
      "execution_count": null,
      "outputs": [
        {
          "output_type": "stream",
          "text": [
            "65\n"
          ],
          "name": "stdout"
        }
      ]
    },
    {
      "cell_type": "code",
      "metadata": {
        "id": "U9R5rUStsjNd",
        "colab": {
          "base_uri": "https://localhost:8080/"
        },
        "outputId": "dea8c2a1-c666-4f63-90e9-47df18b97adc"
      },
      "source": [
        "print(hex(65))"
      ],
      "execution_count": null,
      "outputs": [
        {
          "output_type": "stream",
          "text": [
            "0x41\n"
          ],
          "name": "stdout"
        }
      ]
    },
    {
      "cell_type": "code",
      "metadata": {
        "id": "_Lsd1Qn1sroM",
        "colab": {
          "base_uri": "https://localhost:8080/"
        },
        "outputId": "5bf3a323-7ad3-46d8-a8b4-c77affe39cf1"
      },
      "source": [
        "print(hex(101))"
      ],
      "execution_count": null,
      "outputs": [
        {
          "output_type": "stream",
          "text": [
            "0x65\n"
          ],
          "name": "stdout"
        }
      ]
    },
    {
      "cell_type": "code",
      "metadata": {
        "id": "MuKxU6nFsybg",
        "colab": {
          "base_uri": "https://localhost:8080/"
        },
        "outputId": "50c7a120-f9e3-41fb-8d0c-70bd0eabc96b"
      },
      "source": [
        "print(chr(65))"
      ],
      "execution_count": null,
      "outputs": [
        {
          "output_type": "stream",
          "text": [
            "A\n"
          ],
          "name": "stdout"
        }
      ]
    },
    {
      "cell_type": "code",
      "metadata": {
        "id": "2-NhWBb3tDx1",
        "colab": {
          "base_uri": "https://localhost:8080/"
        },
        "outputId": "4031681b-058f-4d4c-b3ae-f9a26f6aff73"
      },
      "source": [
        "print(chr(221))"
      ],
      "execution_count": null,
      "outputs": [
        {
          "output_type": "stream",
          "text": [
            "Ý\n"
          ],
          "name": "stdout"
        }
      ]
    },
    {
      "cell_type": "code",
      "metadata": {
        "id": "bCiXxaFZtKFg"
      },
      "source": [
        "import math\n",
        "x=math.sqrt(25)\n"
      ],
      "execution_count": null,
      "outputs": []
    },
    {
      "cell_type": "code",
      "metadata": {
        "id": "bpQHr-5Xvbvx",
        "colab": {
          "base_uri": "https://localhost:8080/"
        },
        "outputId": "aaf0e2bd-0079-4054-cb26-827fc01e770e"
      },
      "source": [
        "print(math.pow(3,2))"
      ],
      "execution_count": null,
      "outputs": [
        {
          "output_type": "stream",
          "text": [
            "9.0\n"
          ],
          "name": "stdout"
        }
      ]
    },
    {
      "cell_type": "code",
      "metadata": {
        "id": "22PDJ-jbvrI_",
        "colab": {
          "base_uri": "https://localhost:8080/"
        },
        "outputId": "c854714b-c008-4dba-ab97-671a85e13896"
      },
      "source": [
        "print(math.pi)"
      ],
      "execution_count": null,
      "outputs": [
        {
          "output_type": "stream",
          "text": [
            "3.141592653589793\n"
          ],
          "name": "stdout"
        }
      ]
    },
    {
      "cell_type": "code",
      "metadata": {
        "id": "zLf78ovsv4Ws",
        "colab": {
          "base_uri": "https://localhost:8080/"
        },
        "outputId": "ac19d88b-a52e-41b7-8b61-8ee4b37f7ca6"
      },
      "source": [
        "print(math.e)"
      ],
      "execution_count": null,
      "outputs": [
        {
          "output_type": "stream",
          "text": [
            "2.718281828459045\n"
          ],
          "name": "stdout"
        }
      ]
    },
    {
      "cell_type": "code",
      "metadata": {
        "id": "pQzOyA38wDv2",
        "colab": {
          "base_uri": "https://localhost:8080/"
        },
        "outputId": "293f1371-ac06-42dd-fb31-feb1928bc69c"
      },
      "source": [
        "math.sqrt(25)"
      ],
      "execution_count": null,
      "outputs": [
        {
          "output_type": "execute_result",
          "data": {
            "text/plain": [
              "5.0"
            ]
          },
          "metadata": {
            "tags": []
          },
          "execution_count": 46
        }
      ]
    },
    {
      "cell_type": "code",
      "metadata": {
        "id": "aaqoRQAxwWav",
        "colab": {
          "base_uri": "https://localhost:8080/"
        },
        "outputId": "be6b6971-3efc-4b01-eac2-c7add6888b3e"
      },
      "source": [
        "pow(4,5)"
      ],
      "execution_count": null,
      "outputs": [
        {
          "output_type": "execute_result",
          "data": {
            "text/plain": [
              "1024"
            ]
          },
          "metadata": {
            "tags": []
          },
          "execution_count": 47
        }
      ]
    },
    {
      "cell_type": "code",
      "metadata": {
        "id": "nB0VFWQ5yR0T",
        "colab": {
          "base_uri": "https://localhost:8080/"
        },
        "outputId": "3e837261-2d72-480c-b6d0-d44d74f7be0c"
      },
      "source": [
        "ord('0')"
      ],
      "execution_count": null,
      "outputs": [
        {
          "output_type": "execute_result",
          "data": {
            "text/plain": [
              "48"
            ]
          },
          "metadata": {
            "tags": []
          },
          "execution_count": 48
        }
      ]
    },
    {
      "cell_type": "code",
      "metadata": {
        "id": "mqOgQgX4yajF",
        "colab": {
          "base_uri": "https://localhost:8080/"
        },
        "outputId": "1a9f44b6-db78-4e39-9e53-5c972626a67c"
      },
      "source": [
        "ord(\"4\")"
      ],
      "execution_count": null,
      "outputs": [
        {
          "output_type": "execute_result",
          "data": {
            "text/plain": [
              "52"
            ]
          },
          "metadata": {
            "tags": []
          },
          "execution_count": 49
        }
      ]
    },
    {
      "cell_type": "code",
      "metadata": {
        "id": "aOun9VCd60FI",
        "colab": {
          "base_uri": "https://localhost:8080/",
          "height": 35
        },
        "outputId": "1e979ceb-9b03-4120-af92-1233b05b72fb"
      },
      "source": [
        "a=iter([\"python\", \"is\" ,\"great\"])\n",
        "next(a)"
      ],
      "execution_count": null,
      "outputs": [
        {
          "output_type": "execute_result",
          "data": {
            "application/vnd.google.colaboratory.intrinsic+json": {
              "type": "string"
            },
            "text/plain": [
              "'python'"
            ]
          },
          "metadata": {
            "tags": []
          },
          "execution_count": 60
        }
      ]
    },
    {
      "cell_type": "code",
      "metadata": {
        "id": "8F-1d-zZ7KI0",
        "colab": {
          "base_uri": "https://localhost:8080/",
          "height": 35
        },
        "outputId": "21a5abdc-ce5f-4056-a6dc-b27e683a7690"
      },
      "source": [
        "next(a)"
      ],
      "execution_count": null,
      "outputs": [
        {
          "output_type": "execute_result",
          "data": {
            "application/vnd.google.colaboratory.intrinsic+json": {
              "type": "string"
            },
            "text/plain": [
              "'is'"
            ]
          },
          "metadata": {
            "tags": []
          },
          "execution_count": 61
        }
      ]
    },
    {
      "cell_type": "code",
      "metadata": {
        "id": "xdcTqYys7PsC",
        "colab": {
          "base_uri": "https://localhost:8080/",
          "height": 35
        },
        "outputId": "5e90af6b-2954-417f-ed57-2ffe419ab33a"
      },
      "source": [
        "next(a) "
      ],
      "execution_count": null,
      "outputs": [
        {
          "output_type": "execute_result",
          "data": {
            "application/vnd.google.colaboratory.intrinsic+json": {
              "type": "string"
            },
            "text/plain": [
              "'great'"
            ]
          },
          "metadata": {
            "tags": []
          },
          "execution_count": 62
        }
      ]
    },
    {
      "cell_type": "code",
      "metadata": {
        "id": "-Bai_1gA7Wpk",
        "colab": {
          "base_uri": "https://localhost:8080/",
          "height": 35
        },
        "outputId": "6593e623-76fb-42b8-eea2-ec8281730702"
      },
      "source": [
        "next(a,\"end of iterator\")"
      ],
      "execution_count": null,
      "outputs": [
        {
          "output_type": "execute_result",
          "data": {
            "application/vnd.google.colaboratory.intrinsic+json": {
              "type": "string"
            },
            "text/plain": [
              "'end of iterator'"
            ]
          },
          "metadata": {
            "tags": []
          },
          "execution_count": 63
        }
      ]
    },
    {
      "cell_type": "code",
      "metadata": {
        "id": "XgkcU6_SD70a",
        "colab": {
          "base_uri": "https://localhost:8080/"
        },
        "outputId": "b05cebcc-54fa-4d84-9d50-879f7a155ec7"
      },
      "source": [
        "x=5\n",
        "y=6\n",
        "z=x+y\n",
        "print(z)"
      ],
      "execution_count": null,
      "outputs": [
        {
          "output_type": "stream",
          "text": [
            "11\n"
          ],
          "name": "stdout"
        }
      ]
    },
    {
      "cell_type": "code",
      "metadata": {
        "id": "qULmwUnCETO7",
        "colab": {
          "base_uri": "https://localhost:8080/"
        },
        "outputId": "0bef3aa8-ab16-41f6-c7f1-f34d04682c1c"
      },
      "source": [
        "tup=(21,36,14,2)\n",
        "tup[1]"
      ],
      "execution_count": null,
      "outputs": [
        {
          "output_type": "execute_result",
          "data": {
            "text/plain": [
              "36"
            ]
          },
          "metadata": {
            "tags": []
          },
          "execution_count": 69
        }
      ]
    }
  ]
}