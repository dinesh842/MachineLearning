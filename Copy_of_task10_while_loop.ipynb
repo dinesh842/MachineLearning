{
  "nbformat": 4,
  "nbformat_minor": 0,
  "metadata": {
    "colab": {
      "name": "Copy of task10 while loop",
      "provenance": [],
      "authorship_tag": "ABX9TyMXercLb/OdkxDKC/dtXlza",
      "include_colab_link": true
    },
    "kernelspec": {
      "name": "python3",
      "display_name": "Python 3"
    }
  },
  "cells": [
    {
      "cell_type": "markdown",
      "metadata": {
        "id": "view-in-github",
        "colab_type": "text"
      },
      "source": [
        "<a href=\"https://colab.research.google.com/github/dinesh842/python-/blob/main/Copy_of_task10_while_loop.ipynb\" target=\"_parent\"><img src=\"https://colab.research.google.com/assets/colab-badge.svg\" alt=\"Open In Colab\"/></a>"
      ]
    },
    {
      "cell_type": "code",
      "metadata": {
        "colab": {
          "base_uri": "https://localhost:8080/"
        },
        "id": "3p6DOoQgn7ZW",
        "outputId": "3db1bee8-4005-4921-9800-b0ce16ebdb6f"
      },
      "source": [
        "count=10\n",
        "while (count>0):\n",
        "  print(count)\n",
        "  count=count-1"
      ],
      "execution_count": null,
      "outputs": [
        {
          "output_type": "stream",
          "text": [
            "10\n",
            "9\n",
            "8\n",
            "7\n",
            "6\n",
            "5\n",
            "4\n",
            "3\n",
            "2\n",
            "1\n"
          ],
          "name": "stdout"
        }
      ]
    },
    {
      "cell_type": "code",
      "metadata": {
        "colab": {
          "base_uri": "https://localhost:8080/"
        },
        "id": "6GGzVZkepDAL",
        "outputId": "df782108-f737-4067-c5fd-f05b81656d53"
      },
      "source": [
        "#tuples\n",
        "candy=(\"apples\", \"orange\",\"banana\", \"chocalate\")\n",
        "print(\"\\types of candy we have\",candy)\n",
        "print(\"your items\")\n",
        "for item in candy:\n",
        "  print(item)\n",
        "  print(\"you have\",len(candy),\"number of candies\")\n",
        "  input(\"enter to exit\")"
      ],
      "execution_count": null,
      "outputs": [
        {
          "output_type": "stream",
          "text": [
            "\types of candy we have ('apples', 'orange', 'banana', 'chocalate')\n",
            "your items\n",
            "apples\n",
            "you have 4 number of candies\n"
          ],
          "name": "stdout"
        }
      ]
    },
    {
      "cell_type": "code",
      "metadata": {
        "id": "BGPP7Zx1tY6Z"
      },
      "source": [
        "phone={\"rajeev\":8887,\"raghav\":1234,\"kiran\":4567}\n",
        "phone=[\"rajeev\"]\n",
        "phone.keys()"
      ],
      "execution_count": null,
      "outputs": []
    },
    {
      "cell_type": "code",
      "metadata": {
        "id": "oqbc57DjxId7"
      },
      "source": [
        "a={20,40,\"premier league\",\"rajendar\",80}\n",
        "for i in a :\n",
        "  print(i)\n"
      ],
      "execution_count": null,
      "outputs": []
    }
  ]
}