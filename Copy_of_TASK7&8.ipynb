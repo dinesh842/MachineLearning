{
  "nbformat": 4,
  "nbformat_minor": 0,
  "metadata": {
    "colab": {
      "name": "Copy of TASK7&8",
      "provenance": [],
      "authorship_tag": "ABX9TyMaqPuzb1mH+udIdGApas7z",
      "include_colab_link": true
    },
    "kernelspec": {
      "name": "python3",
      "display_name": "Python 3"
    }
  },
  "cells": [
    {
      "cell_type": "markdown",
      "metadata": {
        "id": "view-in-github",
        "colab_type": "text"
      },
      "source": [
        "<a href=\"https://colab.research.google.com/github/dinesh842/python-/blob/main/Copy_of_TASK7%268.ipynb\" target=\"_parent\"><img src=\"https://colab.research.google.com/assets/colab-badge.svg\" alt=\"Open In Colab\"/></a>"
      ]
    },
    {
      "cell_type": "code",
      "metadata": {
        "colab": {
          "base_uri": "https://localhost:8080/"
        },
        "id": "ceJVSXBC4vDi",
        "outputId": "0d0f1d20-5da2-4469-d204-8a75ddda594d"
      },
      "source": [
        "A={\"a\",\"b\",\"c\",\"d\"}\n",
        "B={\"c\",\"d\",\"e\"}\n",
        "c={}\n",
        "print(A.symmetric_difference(B))\n",
        "print(B.symmetric_difference(A))"
      ],
      "execution_count": null,
      "outputs": [
        {
          "output_type": "stream",
          "text": [
            "{'a', 'b', 'e'}\n",
            "{'a', 'e', 'b'}\n"
          ],
          "name": "stdout"
        }
      ]
    },
    {
      "cell_type": "code",
      "metadata": {
        "colab": {
          "base_uri": "https://localhost:8080/"
        },
        "id": "PfXnc42U9qIZ",
        "outputId": "31cfee52-703d-498f-d4d3-47b6f5690ccf"
      },
      "source": [
        "A={\"a\",\"b\",\"c\",\"d\"}\n",
        "B={\"c\",\"d\",\"e\"}\n",
        "print(A^B)\n",
        "print(B^A)"
      ],
      "execution_count": null,
      "outputs": [
        {
          "output_type": "stream",
          "text": [
            "{'a', 'b', 'e'}\n",
            "{'a', 'e', 'b'}\n"
          ],
          "name": "stdout"
        }
      ]
    },
    {
      "cell_type": "code",
      "metadata": {
        "colab": {
          "base_uri": "https://localhost:8080/"
        },
        "id": "9ZL4oSSJCwdw",
        "outputId": "777259c2-348d-406a-e1af-c164b0a5de19"
      },
      "source": [
        "my_list = [1, 2, 3, 'example', 3.132, 10, 30]\n",
        "del my_list[5] #delete element at index 5\n",
        "print(my_list)\n",
        "my_list.remove('example') #remove element with value\n",
        "print(my_list)\n",
        "a = my_list.pop(1) #pop element from list\n",
        "print('Popped Element: ', a, ' List remaining: ', my_list)\n",
        "my_list.clear() #empty the list\n",
        "print(my_list)"
      ],
      "execution_count": null,
      "outputs": [
        {
          "output_type": "stream",
          "text": [
            "[1, 2, 3, 'example', 3.132, 30]\n",
            "[1, 2, 3, 3.132, 30]\n",
            "Popped Element:  2  List remaining:  [1, 3, 3.132, 30]\n",
            "[]\n"
          ],
          "name": "stdout"
        }
      ]
    },
    {
      "cell_type": "code",
      "metadata": {
        "colab": {
          "base_uri": "https://localhost:8080/"
        },
        "id": "iIbybsZsC-dA",
        "outputId": "dcfd0277-fbf7-420a-f99b-20d334dc4090"
      },
      "source": [
        "my_list = [1, 2, 3, 'example', 3.132, 10, 30]\n",
        "for element in my_list: #access elements one by one\n",
        "    print(element)\n",
        "print(my_list) #access all elements\n",
        "print(my_list[3]) #access index 3 element\n",
        "print(my_list[0:2]) #access elements from 0 to 1 and exclude 2\n",
        "print(my_list[::-1]) #access elements in reverse"
      ],
      "execution_count": null,
      "outputs": [
        {
          "output_type": "stream",
          "text": [
            "1\n",
            "2\n",
            "3\n",
            "example\n",
            "3.132\n",
            "10\n",
            "30\n",
            "[1, 2, 3, 'example', 3.132, 10, 30]\n",
            "example\n",
            "[1, 2]\n",
            "[30, 10, 3.132, 'example', 3, 2, 1]\n"
          ],
          "name": "stdout"
        }
      ]
    },
    {
      "cell_type": "code",
      "metadata": {
        "colab": {
          "base_uri": "https://localhost:8080/"
        },
        "id": "oKdcTMtQDGyL",
        "outputId": "6ad2f3f3-db80-4e07-fd35-4740d2ed7535"
      },
      "source": [
        "my_dict = {} #empty dictionary\n",
        "print(my_dict)\n",
        "my_dict = {1: 'Python', 2: 'Java'} #dictionary with elements\n",
        "print(my_dict)"
      ],
      "execution_count": null,
      "outputs": [
        {
          "output_type": "stream",
          "text": [
            "{}\n",
            "{1: 'Python', 2: 'Java'}\n"
          ],
          "name": "stdout"
        }
      ]
    },
    {
      "cell_type": "code",
      "metadata": {
        "colab": {
          "base_uri": "https://localhost:8080/"
        },
        "id": "a106_l3ZDG-6",
        "outputId": "bc1461de-aea1-413e-fdba-25f45dc0a9ee"
      },
      "source": [
        "my_tuple = (1, 2, 3, ['hindi', 'python'])\n",
        "my_tuple[3][0] = 'english'\n",
        "print(my_tuple)\n",
        "print(my_tuple.count(2))\n",
        "print(my_tuple.index(['english', 'python']))"
      ],
      "execution_count": null,
      "outputs": [
        {
          "output_type": "stream",
          "text": [
            "(1, 2, 3, ['english', 'python'])\n",
            "1\n",
            "3\n"
          ],
          "name": "stdout"
        }
      ]
    },
    {
      "cell_type": "code",
      "metadata": {
        "colab": {
          "base_uri": "https://localhost:8080/"
        },
        "id": "cJ9Rn4RKDbPU",
        "outputId": "8b87432e-debe-422f-e73e-d54f5df42b07"
      },
      "source": [
        "my_set = {1, 2, 3, 4}\n",
        "my_set_2 = {3, 4, 5, 6}\n",
        "print(my_set.union(my_set_2), '----------', my_set | my_set_2)\n",
        "print(my_set.intersection(my_set_2), '----------', my_set & my_set_2)\n",
        "print(my_set.difference(my_set_2), '----------', my_set - my_set_2)\n",
        "print(my_set.symmetric_difference(my_set_2), '----------', my_set ^ my_set_2)\n",
        "my_set.clear()\n",
        "print(my_set)"
      ],
      "execution_count": null,
      "outputs": [
        {
          "output_type": "stream",
          "text": [
            "{1, 2, 3, 4, 5, 6} ---------- {1, 2, 3, 4, 5, 6}\n",
            "{3, 4} ---------- {3, 4}\n",
            "{1, 2} ---------- {1, 2}\n",
            "{1, 2, 5, 6} ---------- {1, 2, 5, 6}\n",
            "set()\n"
          ],
          "name": "stdout"
        }
      ]
    },
    {
      "cell_type": "markdown",
      "metadata": {
        "id": "kHUKraxcDoyM"
      },
      "source": [
        ""
      ]
    }
  ]
}