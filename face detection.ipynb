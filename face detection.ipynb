{
 "cells": [
  {
   "cell_type": "code",
   "execution_count": null,
   "id": "powerful-ready",
   "metadata": {},
   "outputs": [],
   "source": [
    "import numpy as np\n",
    "import cv2\n",
    "\n",
    "face_cascade = cv2.CascadeClassifier('C:/Users/M Ransarje/OneDrive/Desktop/data/haarcascade_frontalface_default.xml')\n",
    "eye_cascade = cv2.CascadeClassifier('C:/Users/M Ransarje/OneDrive/Desktop/data/haarcascade_eye_tree_eyeglasses.xml')\n",
    "\n",
    "\n",
    "first_read = True\n",
    "\n",
    "cap = cv2.VideoCapture(0)\n",
    "ret,img = cap.read()\n",
    "while(ret):\n",
    "    ret,img = cap.read()\n",
    "    gray = cv2.cvtColor(img,cv2.COLOR_BGR2GRAY)\n",
    "    gray = cv2.bilateralFilter(gray,5,1,1)\n",
    "    faces = face_cascade.detectMultiScale(gray, 1.3, 5,minSize=(200,200))\n",
    "    if(len(faces)>0):\n",
    "        for (x,y,w,h) in faces:\n",
    "            img = cv2.rectangle(img,(x,y),(x+w,y+h),(0,255,0),2)\n",
    "            roi_face = gray[y:y+h,x:x+w]\n",
    "            roi_face_clr = img[y:y+h,x:x+w]\n",
    "            eyes = eye_cascade.detectMultiScale(roi_face,1.3,5,minSize=(50,50))\n",
    "            if(len(eyes)>=2):\n",
    "                if(first_read):\n",
    "                    cv2.putText(img, \"press s to begin\", (100,100), cv2.FONT_HERSHEY_PLAIN, 3,(0,0,255),2)\n",
    "                else:\n",
    "                    print(\"----------------------\")\n",
    "            else:\n",
    "                if(first_read):\n",
    "                    cv2.putText(img, \"No eyes detected\", (100,100), cv2.FONT_HERSHEY_PLAIN, 3,(0,0,255),2)\n",
    "                else:\n",
    "                    print(\" you loose\")\n",
    "                    first_read=True\n",
    "    else:\n",
    "        cv2.putText(img,\"No face detected\",(100,100),cv2.FONT_HERSHEY_PLAIN, 3, (0,255,0),2)\n",
    "\n",
    "\n",
    "    cv2.imshow('img',img)\n",
    "    a = cv2.waitKey(1)\n",
    "    if(a==ord('q')):\n",
    "        break\n",
    "    elif(a==ord('s') and first_read):\n",
    "        first_read = False\n",
    "\n",
    "\n"
   ]
  },
  {
   "cell_type": "code",
   "execution_count": null,
   "id": "basic-antarctica",
   "metadata": {},
   "outputs": [],
   "source": []
  }
 ],
 "metadata": {
  "kernelspec": {
   "display_name": "Python 3",
   "language": "python",
   "name": "python3"
  },
  "language_info": {
   "codemirror_mode": {
    "name": "ipython",
    "version": 3
   },
   "file_extension": ".py",
   "mimetype": "text/x-python",
   "name": "python",
   "nbconvert_exporter": "python",
   "pygments_lexer": "ipython3",
   "version": "3.9.2"
  }
 },
 "nbformat": 4,
 "nbformat_minor": 5
}
