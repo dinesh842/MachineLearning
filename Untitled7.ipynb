{
  "nbformat": 4,
  "nbformat_minor": 0,
  "metadata": {
    "colab": {
      "name": "Untitled7.ipynb",
      "provenance": [],
      "collapsed_sections": [],
      "authorship_tag": "ABX9TyNKUJ99so5ujmLbkRKn0uMx",
      "include_colab_link": true
    },
    "kernelspec": {
      "name": "python3",
      "display_name": "Python 3"
    }
  },
  "cells": [
    {
      "cell_type": "markdown",
      "metadata": {
        "id": "view-in-github",
        "colab_type": "text"
      },
      "source": [
        "<a href=\"https://colab.research.google.com/github/dinesh842/python-/blob/main/Untitled7.ipynb\" target=\"_parent\"><img src=\"https://colab.research.google.com/assets/colab-badge.svg\" alt=\"Open In Colab\"/></a>"
      ]
    },
    {
      "cell_type": "code",
      "metadata": {
        "colab": {
          "base_uri": "https://localhost:8080/"
        },
        "id": "XeZkisXMy3Ns",
        "outputId": "d8f4565b-43e7-4f9d-af0a-7cf2bef80e80"
      },
      "source": [
        "print(1)\n",
        "print(2)\n",
        "print(2)\n",
        "print(3)\n",
        "print(4)\n",
        "print(5)\n",
        "print(6)\n",
        "print(7)\n",
        "print(8)\n",
        "print(9)\n",
        "print(10)\n"
      ],
      "execution_count": null,
      "outputs": [
        {
          "output_type": "stream",
          "text": [
            "1\n",
            "2\n",
            "2\n",
            "3\n",
            "4\n",
            "5\n",
            "6\n",
            "7\n",
            "8\n",
            "9\n",
            "10\n"
          ],
          "name": "stdout"
        }
      ]
    },
    {
      "cell_type": "code",
      "metadata": {
        "colab": {
          "base_uri": "https://localhost:8080/"
        },
        "id": "SiOqD_jmzVcW",
        "outputId": "d296d9cd-6898-4e40-8118-42616d5532f7"
      },
      "source": [
        "count=1\n",
        "while(count<11):\n",
        "      print(count)\n",
        "      count=count+1"
      ],
      "execution_count": null,
      "outputs": [
        {
          "output_type": "stream",
          "text": [
            "1\n",
            "2\n",
            "3\n",
            "4\n",
            "5\n",
            "6\n",
            "7\n",
            "8\n",
            "9\n",
            "10\n"
          ],
          "name": "stdout"
        }
      ]
    },
    {
      "cell_type": "code",
      "metadata": {
        "colab": {
          "base_uri": "https://localhost:8080/"
        },
        "id": "nf1hzSjD0KkA",
        "outputId": "10f9b2b3-33a6-470c-9994-2d05f101d73d"
      },
      "source": [
        "count=1\n",
        "while(count<11):\n",
        "      print (count)\n",
        "      count=count+1\n",
        "else:\n",
        "    print(\"end of the while loop\")\n",
        "    print(count)\n"
      ],
      "execution_count": null,
      "outputs": [
        {
          "output_type": "stream",
          "text": [
            "1\n",
            "2\n",
            "3\n",
            "4\n",
            "5\n",
            "6\n",
            "7\n",
            "8\n",
            "9\n",
            "10\n",
            "end of the while loop\n",
            "11\n"
          ],
          "name": "stdout"
        }
      ]
    },
    {
      "cell_type": "code",
      "metadata": {
        "colab": {
          "base_uri": "https://localhost:8080/"
        },
        "id": "QoOFXYOt5r5e",
        "outputId": "009831bf-580d-4771-bfe4-65989e8bcc2b"
      },
      "source": [
        "count=0\n",
        "while(count<11):\n",
        "  count=count+1\n",
        "  if(count%2==0):\n",
        "      continue\n",
        "  print(count)    "
      ],
      "execution_count": null,
      "outputs": [
        {
          "output_type": "stream",
          "text": [
            "1\n",
            "3\n",
            "5\n",
            "7\n",
            "9\n",
            "11\n"
          ],
          "name": "stdout"
        }
      ]
    },
    {
      "cell_type": "code",
      "metadata": {
        "colab": {
          "base_uri": "https://localhost:8080/"
        },
        "id": "JUUGjLHw6Hy_",
        "outputId": "f26a4f90-5ec4-4f3a-aabf-c200044b88c5"
      },
      "source": [
        "str1=\"cricket football hockey kabbadi table tennis badminton lawn tennis squash  volley ball\"\n",
        "for item in str1:\n",
        "  print(item)"
      ],
      "execution_count": null,
      "outputs": [
        {
          "output_type": "stream",
          "text": [
            "c\n",
            "r\n",
            "i\n",
            "c\n",
            "k\n",
            "e\n",
            "t\n",
            " \n",
            "f\n",
            "o\n",
            "o\n",
            "t\n",
            "b\n",
            "a\n",
            "l\n",
            "l\n",
            " \n",
            "h\n",
            "o\n",
            "c\n",
            "k\n",
            "e\n",
            "y\n",
            " \n",
            "k\n",
            "a\n",
            "b\n",
            "b\n",
            "a\n",
            "d\n",
            "i\n",
            " \n",
            "t\n",
            "a\n",
            "b\n",
            "l\n",
            "e\n",
            " \n",
            "t\n",
            "e\n",
            "n\n",
            "n\n",
            "i\n",
            "s\n",
            " \n",
            "b\n",
            "a\n",
            "d\n",
            "m\n",
            "i\n",
            "n\n",
            "t\n",
            "o\n",
            "n\n",
            " \n",
            "l\n",
            "a\n",
            "w\n",
            "n\n",
            " \n",
            "t\n",
            "e\n",
            "n\n",
            "n\n",
            "i\n",
            "s\n",
            " \n",
            "s\n",
            "q\n",
            "u\n",
            "a\n",
            "s\n",
            "h\n",
            " \n",
            " \n",
            "v\n",
            "o\n",
            "l\n",
            "l\n",
            "e\n",
            "y\n",
            " \n",
            "b\n",
            "a\n",
            "l\n",
            "l\n"
          ],
          "name": "stdout"
        }
      ]
    },
    {
      "cell_type": "code",
      "metadata": {
        "colab": {
          "base_uri": "https://localhost:8080/"
        },
        "id": "TmdoPkv_9y4V",
        "outputId": "3271ce71-ea0a-4710-da58-4554989a0746"
      },
      "source": [
        "list1=[\"polytician\", \"doctor\", \"police\", \"cobbler\", \"engineer\" ]\n",
        "for item in list1:\n",
        "  print(item)"
      ],
      "execution_count": null,
      "outputs": [
        {
          "output_type": "stream",
          "text": [
            "polytician\n",
            "doctor\n",
            "police\n",
            "cobbler\n",
            "engineer\n"
          ],
          "name": "stdout"
        }
      ]
    },
    {
      "cell_type": "code",
      "metadata": {
        "colab": {
          "base_uri": "https://localhost:8080/"
        },
        "id": "R1w07mIm-6-n",
        "outputId": "d051bf6a-49d5-4ab3-9d26-e44eb2eb16a4"
      },
      "source": [
        "for i in range(11) :\n",
        "  print(i)"
      ],
      "execution_count": null,
      "outputs": [
        {
          "output_type": "stream",
          "text": [
            "0\n",
            "1\n",
            "2\n",
            "3\n",
            "4\n",
            "5\n",
            "6\n",
            "7\n",
            "8\n",
            "9\n",
            "10\n"
          ],
          "name": "stdout"
        }
      ]
    },
    {
      "cell_type": "code",
      "metadata": {
        "colab": {
          "base_uri": "https://localhost:8080/"
        },
        "id": "aHIFjrva_RTD",
        "outputId": "a4b2f0f0-324c-4f75-ead4-1b1cdbb992b0"
      },
      "source": [
        "for i in range(1,10):\n",
        "  print(i)"
      ],
      "execution_count": null,
      "outputs": [
        {
          "output_type": "stream",
          "text": [
            "1\n",
            "2\n",
            "3\n",
            "4\n",
            "5\n",
            "6\n",
            "7\n",
            "8\n",
            "9\n"
          ],
          "name": "stdout"
        }
      ]
    },
    {
      "cell_type": "code",
      "metadata": {
        "colab": {
          "base_uri": "https://localhost:8080/"
        },
        "id": "5btBcUo1_k5m",
        "outputId": "7f5bab05-fd45-4309-9765-9bc8a2ff1dea"
      },
      "source": [
        "for i in range (1,10,2):\n",
        "  print(i)"
      ],
      "execution_count": null,
      "outputs": [
        {
          "output_type": "stream",
          "text": [
            "1\n",
            "3\n",
            "5\n",
            "7\n",
            "9\n"
          ],
          "name": "stdout"
        }
      ]
    },
    {
      "cell_type": "code",
      "metadata": {
        "colab": {
          "base_uri": "https://localhost:8080/"
        },
        "id": "d4_rUsAX_xX2",
        "outputId": "295390e8-1147-4de2-c984-eeaecdde4297"
      },
      "source": [
        "for i in range(10,0,-1):\n",
        "  print(i)"
      ],
      "execution_count": null,
      "outputs": [
        {
          "output_type": "stream",
          "text": [
            "10\n",
            "9\n",
            "8\n",
            "7\n",
            "6\n",
            "5\n",
            "4\n",
            "3\n",
            "2\n",
            "1\n"
          ],
          "name": "stdout"
        }
      ]
    },
    {
      "cell_type": "code",
      "metadata": {
        "colab": {
          "base_uri": "https://localhost:8080/"
        },
        "id": "Q3dCr6qUAVCs",
        "outputId": "2dcc3f16-f4dd-4ad8-a9a0-2982c18649d6"
      },
      "source": [
        "for i in range(10):\n",
        "  if(i==7):\n",
        "    break\n",
        "  print(i)  "
      ],
      "execution_count": null,
      "outputs": [
        {
          "output_type": "stream",
          "text": [
            "0\n",
            "1\n",
            "2\n",
            "3\n",
            "4\n",
            "5\n",
            "6\n"
          ],
          "name": "stdout"
        }
      ]
    },
    {
      "cell_type": "code",
      "metadata": {
        "colab": {
          "base_uri": "https://localhost:8080/"
        },
        "id": "NSRMzKAwAumN",
        "outputId": "71b04be6-3b17-462c-eddb-9347a526fcc3"
      },
      "source": [
        "for i in range (10):\n",
        "  if(i==4 or i==5 or i==\n",
        "6):\n",
        "        continue\n",
        "print(i)    "
      ],
      "execution_count": null,
      "outputs": [
        {
          "output_type": "stream",
          "text": [
            "9\n"
          ],
          "name": "stdout"
        }
      ]
    },
    {
      "cell_type": "code",
      "metadata": {
        "id": "W17QA1pnCwIW"
      },
      "source": [
        "if(4>2):\n",
        "  pass"
      ],
      "execution_count": null,
      "outputs": []
    },
    {
      "cell_type": "code",
      "metadata": {
        "colab": {
          "base_uri": "https://localhost:8080/"
        },
        "id": "IJYWRX5sDDJE",
        "outputId": "2600cd2c-b0e7-446e-b785-101aeb4a3feb"
      },
      "source": [
        "if(4>2):\n",
        "  print(\"A\")\n",
        "else:\n",
        "  pass"
      ],
      "execution_count": null,
      "outputs": [
        {
          "output_type": "stream",
          "text": [
            "A\n"
          ],
          "name": "stdout"
        }
      ]
    },
    {
      "cell_type": "code",
      "metadata": {
        "id": "tXPHCi37DbG0"
      },
      "source": [
        "for i in range (10):\n",
        "  if(i==7):\n",
        "    break\n",
        "    print(i)"
      ],
      "execution_count": null,
      "outputs": []
    },
    {
      "cell_type": "code",
      "metadata": {
        "colab": {
          "base_uri": "https://localhost:8080/"
        },
        "id": "s2qVh1anOn67",
        "outputId": "75538a9c-cf0b-415b-8e00-ba86d9e7bf20"
      },
      "source": [
        "if(4>2):\n",
        "  print(\"a\")\n",
        "else:\n",
        "  pass"
      ],
      "execution_count": null,
      "outputs": [
        {
          "output_type": "stream",
          "text": [
            "a\n"
          ],
          "name": "stdout"
        }
      ]
    }
  ]
}