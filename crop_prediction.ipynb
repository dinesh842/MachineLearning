{
  "nbformat": 4,
  "nbformat_minor": 0,
  "metadata": {
    "colab": {
      "name": "crop prediction.ipynb",
      "provenance": [],
      "authorship_tag": "ABX9TyO0iIud8MjuloPNoGqoWMlV",
      "include_colab_link": true
    },
    "kernelspec": {
      "name": "python3",
      "display_name": "Python 3"
    },
    "language_info": {
      "name": "python"
    }
  },
  "cells": [
    {
      "cell_type": "markdown",
      "metadata": {
        "id": "view-in-github",
        "colab_type": "text"
      },
      "source": [
        "<a href=\"https://colab.research.google.com/github/dinesh842/python-/blob/main/crop_prediction.ipynb\" target=\"_parent\"><img src=\"https://colab.research.google.com/assets/colab-badge.svg\" alt=\"Open In Colab\"/></a>"
      ]
    },
    {
      "cell_type": "code",
      "metadata": {
        "id": "OQNnGT1LHJXT"
      },
      "source": [
        "import pandas as pd\n",
        "import numpy as np\n",
        "import matplotlib.pyplot as plt\n",
        "import seaborn as sns"
      ],
      "execution_count": null,
      "outputs": []
    },
    {
      "cell_type": "code",
      "metadata": {
        "id": "vHrE5a8dHeYC"
      },
      "source": [
        "crop_Classification_traindata=pd.read_csv(\"/content/crop_Classification_UnsuperviUnsupervised_traindata.csv\")"
      ],
      "execution_count": null,
      "outputs": []
    },
    {
      "cell_type": "code",
      "metadata": {
        "colab": {
          "base_uri": "https://localhost:8080/",
          "height": 204
        },
        "id": "xdKk5bksJdh1",
        "outputId": "e96b574b-3d08-4d21-eef5-c75caaddbde7"
      },
      "source": [
        "crop_Classification_traindata.head()"
      ],
      "execution_count": null,
      "outputs": [
        {
          "output_type": "execute_result",
          "data": {
            "text/html": [
              "<div>\n",
              "<style scoped>\n",
              "    .dataframe tbody tr th:only-of-type {\n",
              "        vertical-align: middle;\n",
              "    }\n",
              "\n",
              "    .dataframe tbody tr th {\n",
              "        vertical-align: top;\n",
              "    }\n",
              "\n",
              "    .dataframe thead th {\n",
              "        text-align: right;\n",
              "    }\n",
              "</style>\n",
              "<table border=\"1\" class=\"dataframe\">\n",
              "  <thead>\n",
              "    <tr style=\"text-align: right;\">\n",
              "      <th></th>\n",
              "      <th>Unnamed: 0</th>\n",
              "      <th>N</th>\n",
              "      <th>P</th>\n",
              "      <th>K</th>\n",
              "      <th>temperature</th>\n",
              "      <th>humidity</th>\n",
              "      <th>ph</th>\n",
              "      <th>rainfall</th>\n",
              "    </tr>\n",
              "  </thead>\n",
              "  <tbody>\n",
              "    <tr>\n",
              "      <th>0</th>\n",
              "      <td>0</td>\n",
              "      <td>17.0</td>\n",
              "      <td>136.0</td>\n",
              "      <td>196.0</td>\n",
              "      <td>23.871923</td>\n",
              "      <td>90.499390</td>\n",
              "      <td>5.882156</td>\n",
              "      <td>103.054809</td>\n",
              "    </tr>\n",
              "    <tr>\n",
              "      <th>1</th>\n",
              "      <td>1</td>\n",
              "      <td>49.0</td>\n",
              "      <td>69.0</td>\n",
              "      <td>82.0</td>\n",
              "      <td>18.315615</td>\n",
              "      <td>15.361435</td>\n",
              "      <td>7.263119</td>\n",
              "      <td>81.787105</td>\n",
              "    </tr>\n",
              "    <tr>\n",
              "      <th>2</th>\n",
              "      <td>2</td>\n",
              "      <td>74.0</td>\n",
              "      <td>49.0</td>\n",
              "      <td>38.0</td>\n",
              "      <td>23.314104</td>\n",
              "      <td>71.450905</td>\n",
              "      <td>7.488014</td>\n",
              "      <td>164.497037</td>\n",
              "    </tr>\n",
              "    <tr>\n",
              "      <th>3</th>\n",
              "      <td>3</td>\n",
              "      <td>104.0</td>\n",
              "      <td>35.0</td>\n",
              "      <td>28.0</td>\n",
              "      <td>27.510061</td>\n",
              "      <td>50.666872</td>\n",
              "      <td>6.983732</td>\n",
              "      <td>143.995555</td>\n",
              "    </tr>\n",
              "    <tr>\n",
              "      <th>4</th>\n",
              "      <td>4</td>\n",
              "      <td>23.0</td>\n",
              "      <td>72.0</td>\n",
              "      <td>84.0</td>\n",
              "      <td>19.020613</td>\n",
              "      <td>17.131591</td>\n",
              "      <td>6.920251</td>\n",
              "      <td>79.926981</td>\n",
              "    </tr>\n",
              "  </tbody>\n",
              "</table>\n",
              "</div>"
            ],
            "text/plain": [
              "   Unnamed: 0      N      P  ...   humidity        ph    rainfall\n",
              "0           0   17.0  136.0  ...  90.499390  5.882156  103.054809\n",
              "1           1   49.0   69.0  ...  15.361435  7.263119   81.787105\n",
              "2           2   74.0   49.0  ...  71.450905  7.488014  164.497037\n",
              "3           3  104.0   35.0  ...  50.666872  6.983732  143.995555\n",
              "4           4   23.0   72.0  ...  17.131591  6.920251   79.926981\n",
              "\n",
              "[5 rows x 8 columns]"
            ]
          },
          "metadata": {
            "tags": []
          },
          "execution_count": 4
        }
      ]
    },
    {
      "cell_type": "code",
      "metadata": {
        "id": "nBQmUG6dJrFI"
      },
      "source": [
        "crop_Classification_testdata=pd.read_csv(\"/content/crop_Classification_testdata.csv\")"
      ],
      "execution_count": null,
      "outputs": []
    },
    {
      "cell_type": "code",
      "metadata": {
        "colab": {
          "base_uri": "https://localhost:8080/",
          "height": 204
        },
        "id": "p6QMk1C2J1Hb",
        "outputId": "d57c6f0d-a87a-4b6c-fe31-88b9f67fe7ae"
      },
      "source": [
        "crop_Classification_testdata.head()"
      ],
      "execution_count": null,
      "outputs": [
        {
          "output_type": "execute_result",
          "data": {
            "text/html": [
              "<div>\n",
              "<style scoped>\n",
              "    .dataframe tbody tr th:only-of-type {\n",
              "        vertical-align: middle;\n",
              "    }\n",
              "\n",
              "    .dataframe tbody tr th {\n",
              "        vertical-align: top;\n",
              "    }\n",
              "\n",
              "    .dataframe thead th {\n",
              "        text-align: right;\n",
              "    }\n",
              "</style>\n",
              "<table border=\"1\" class=\"dataframe\">\n",
              "  <thead>\n",
              "    <tr style=\"text-align: right;\">\n",
              "      <th></th>\n",
              "      <th>Unnamed: 0</th>\n",
              "      <th>N</th>\n",
              "      <th>P</th>\n",
              "      <th>K</th>\n",
              "      <th>temperature</th>\n",
              "      <th>humidity</th>\n",
              "      <th>ph</th>\n",
              "      <th>rainfall</th>\n",
              "    </tr>\n",
              "  </thead>\n",
              "  <tbody>\n",
              "    <tr>\n",
              "      <th>0</th>\n",
              "      <td>0</td>\n",
              "      <td>22.00000</td>\n",
              "      <td>51.00000</td>\n",
              "      <td>16.000000</td>\n",
              "      <td>27.965837</td>\n",
              "      <td>61.349001</td>\n",
              "      <td>8.639586</td>\n",
              "      <td>70.104721</td>\n",
              "    </tr>\n",
              "    <tr>\n",
              "      <th>1</th>\n",
              "      <td>1</td>\n",
              "      <td>130.20691</td>\n",
              "      <td>59.20691</td>\n",
              "      <td>18.586179</td>\n",
              "      <td>25.123987</td>\n",
              "      <td>82.356124</td>\n",
              "      <td>6.707583</td>\n",
              "      <td>91.431992</td>\n",
              "    </tr>\n",
              "    <tr>\n",
              "      <th>2</th>\n",
              "      <td>2</td>\n",
              "      <td>28.00000</td>\n",
              "      <td>27.00000</td>\n",
              "      <td>34.000000</td>\n",
              "      <td>32.454653</td>\n",
              "      <td>50.696938</td>\n",
              "      <td>6.526654</td>\n",
              "      <td>95.048716</td>\n",
              "    </tr>\n",
              "    <tr>\n",
              "      <th>3</th>\n",
              "      <td>3</td>\n",
              "      <td>40.00000</td>\n",
              "      <td>61.00000</td>\n",
              "      <td>22.000000</td>\n",
              "      <td>20.949818</td>\n",
              "      <td>65.810876</td>\n",
              "      <td>7.002216</td>\n",
              "      <td>44.239130</td>\n",
              "    </tr>\n",
              "    <tr>\n",
              "      <th>4</th>\n",
              "      <td>4</td>\n",
              "      <td>28.00000</td>\n",
              "      <td>46.00000</td>\n",
              "      <td>16.000000</td>\n",
              "      <td>29.008124</td>\n",
              "      <td>84.960894</td>\n",
              "      <td>6.664188</td>\n",
              "      <td>45.910114</td>\n",
              "    </tr>\n",
              "  </tbody>\n",
              "</table>\n",
              "</div>"
            ],
            "text/plain": [
              "   Unnamed: 0          N         P  ...   humidity        ph   rainfall\n",
              "0           0   22.00000  51.00000  ...  61.349001  8.639586  70.104721\n",
              "1           1  130.20691  59.20691  ...  82.356124  6.707583  91.431992\n",
              "2           2   28.00000  27.00000  ...  50.696938  6.526654  95.048716\n",
              "3           3   40.00000  61.00000  ...  65.810876  7.002216  44.239130\n",
              "4           4   28.00000  46.00000  ...  84.960894  6.664188  45.910114\n",
              "\n",
              "[5 rows x 8 columns]"
            ]
          },
          "metadata": {
            "tags": []
          },
          "execution_count": 6
        }
      ]
    },
    {
      "cell_type": "code",
      "metadata": {
        "colab": {
          "base_uri": "https://localhost:8080/"
        },
        "id": "HjuCiXqJJ_oM",
        "outputId": "152e7ede-5f04-44e6-b2c8-666fadd49fd1"
      },
      "source": [
        "crop_Classification_traindata.isnull().sum()"
      ],
      "execution_count": null,
      "outputs": [
        {
          "output_type": "execute_result",
          "data": {
            "text/plain": [
              "Unnamed: 0     0\n",
              "N              0\n",
              "P              0\n",
              "K              0\n",
              "temperature    0\n",
              "humidity       0\n",
              "ph             0\n",
              "rainfall       0\n",
              "dtype: int64"
            ]
          },
          "metadata": {
            "tags": []
          },
          "execution_count": 7
        }
      ]
    },
    {
      "cell_type": "code",
      "metadata": {
        "colab": {
          "base_uri": "https://localhost:8080/"
        },
        "id": "dY3kFOhyKIAl",
        "outputId": "4ea10fdf-347b-4046-f847-43136d7e32a0"
      },
      "source": [
        "crop_Classification_testdata.isnull().sum()"
      ],
      "execution_count": null,
      "outputs": [
        {
          "output_type": "execute_result",
          "data": {
            "text/plain": [
              "Unnamed: 0     0\n",
              "N              0\n",
              "P              0\n",
              "K              0\n",
              "temperature    0\n",
              "humidity       0\n",
              "ph             0\n",
              "rainfall       0\n",
              "dtype: int64"
            ]
          },
          "metadata": {
            "tags": []
          },
          "execution_count": 8
        }
      ]
    },
    {
      "cell_type": "code",
      "metadata": {
        "colab": {
          "base_uri": "https://localhost:8080/",
          "height": 297
        },
        "id": "mbwLZkeMKN_a",
        "outputId": "229ec3b9-4e70-4f0e-f542-4f0e7c3a01d5"
      },
      "source": [
        "crop_Classification_testdata.describe()"
      ],
      "execution_count": null,
      "outputs": [
        {
          "output_type": "execute_result",
          "data": {
            "text/html": [
              "<div>\n",
              "<style scoped>\n",
              "    .dataframe tbody tr th:only-of-type {\n",
              "        vertical-align: middle;\n",
              "    }\n",
              "\n",
              "    .dataframe tbody tr th {\n",
              "        vertical-align: top;\n",
              "    }\n",
              "\n",
              "    .dataframe thead th {\n",
              "        text-align: right;\n",
              "    }\n",
              "</style>\n",
              "<table border=\"1\" class=\"dataframe\">\n",
              "  <thead>\n",
              "    <tr style=\"text-align: right;\">\n",
              "      <th></th>\n",
              "      <th>Unnamed: 0</th>\n",
              "      <th>N</th>\n",
              "      <th>P</th>\n",
              "      <th>K</th>\n",
              "      <th>temperature</th>\n",
              "      <th>humidity</th>\n",
              "      <th>ph</th>\n",
              "      <th>rainfall</th>\n",
              "    </tr>\n",
              "  </thead>\n",
              "  <tbody>\n",
              "    <tr>\n",
              "      <th>count</th>\n",
              "      <td>550.000000</td>\n",
              "      <td>550.000000</td>\n",
              "      <td>550.000000</td>\n",
              "      <td>550.000000</td>\n",
              "      <td>550.000000</td>\n",
              "      <td>550.000000</td>\n",
              "      <td>550.000000</td>\n",
              "      <td>550.000000</td>\n",
              "    </tr>\n",
              "    <tr>\n",
              "      <th>mean</th>\n",
              "      <td>274.500000</td>\n",
              "      <td>50.728512</td>\n",
              "      <td>53.615582</td>\n",
              "      <td>47.963333</td>\n",
              "      <td>25.507455</td>\n",
              "      <td>71.386176</td>\n",
              "      <td>6.435517</td>\n",
              "      <td>102.997666</td>\n",
              "    </tr>\n",
              "    <tr>\n",
              "      <th>std</th>\n",
              "      <td>158.915596</td>\n",
              "      <td>36.157802</td>\n",
              "      <td>33.192159</td>\n",
              "      <td>50.778389</td>\n",
              "      <td>4.851460</td>\n",
              "      <td>22.288078</td>\n",
              "      <td>0.765326</td>\n",
              "      <td>54.152121</td>\n",
              "    </tr>\n",
              "    <tr>\n",
              "      <th>min</th>\n",
              "      <td>0.000000</td>\n",
              "      <td>0.000000</td>\n",
              "      <td>5.000000</td>\n",
              "      <td>5.000000</td>\n",
              "      <td>10.164313</td>\n",
              "      <td>14.697653</td>\n",
              "      <td>3.504752</td>\n",
              "      <td>20.762230</td>\n",
              "    </tr>\n",
              "    <tr>\n",
              "      <th>25%</th>\n",
              "      <td>137.250000</td>\n",
              "      <td>22.776532</td>\n",
              "      <td>29.000000</td>\n",
              "      <td>20.000000</td>\n",
              "      <td>22.699643</td>\n",
              "      <td>60.274971</td>\n",
              "      <td>5.955890</td>\n",
              "      <td>65.547552</td>\n",
              "    </tr>\n",
              "    <tr>\n",
              "      <th>50%</th>\n",
              "      <td>274.500000</td>\n",
              "      <td>37.034329</td>\n",
              "      <td>50.000000</td>\n",
              "      <td>32.000000</td>\n",
              "      <td>25.437798</td>\n",
              "      <td>80.682761</td>\n",
              "      <td>6.418598</td>\n",
              "      <td>96.215773</td>\n",
              "    </tr>\n",
              "    <tr>\n",
              "      <th>75%</th>\n",
              "      <td>411.750000</td>\n",
              "      <td>85.000000</td>\n",
              "      <td>68.054888</td>\n",
              "      <td>48.000000</td>\n",
              "      <td>28.469547</td>\n",
              "      <td>90.183527</td>\n",
              "      <td>6.863259</td>\n",
              "      <td>122.120548</td>\n",
              "    </tr>\n",
              "    <tr>\n",
              "      <th>max</th>\n",
              "      <td>549.000000</td>\n",
              "      <td>140.000000</td>\n",
              "      <td>145.000000</td>\n",
              "      <td>205.000000</td>\n",
              "      <td>43.360515</td>\n",
              "      <td>99.645730</td>\n",
              "      <td>9.392695</td>\n",
              "      <td>295.924880</td>\n",
              "    </tr>\n",
              "  </tbody>\n",
              "</table>\n",
              "</div>"
            ],
            "text/plain": [
              "       Unnamed: 0           N           P  ...    humidity          ph    rainfall\n",
              "count  550.000000  550.000000  550.000000  ...  550.000000  550.000000  550.000000\n",
              "mean   274.500000   50.728512   53.615582  ...   71.386176    6.435517  102.997666\n",
              "std    158.915596   36.157802   33.192159  ...   22.288078    0.765326   54.152121\n",
              "min      0.000000    0.000000    5.000000  ...   14.697653    3.504752   20.762230\n",
              "25%    137.250000   22.776532   29.000000  ...   60.274971    5.955890   65.547552\n",
              "50%    274.500000   37.034329   50.000000  ...   80.682761    6.418598   96.215773\n",
              "75%    411.750000   85.000000   68.054888  ...   90.183527    6.863259  122.120548\n",
              "max    549.000000  140.000000  145.000000  ...   99.645730    9.392695  295.924880\n",
              "\n",
              "[8 rows x 8 columns]"
            ]
          },
          "metadata": {
            "tags": []
          },
          "execution_count": 9
        }
      ]
    },
    {
      "cell_type": "code",
      "metadata": {
        "colab": {
          "base_uri": "https://localhost:8080/",
          "height": 297
        },
        "id": "9B5mJmj3KXGH",
        "outputId": "9273a66d-c347-4ccb-8a3c-8d3a936b223d"
      },
      "source": [
        "crop_Classification_testdata.describe()"
      ],
      "execution_count": null,
      "outputs": [
        {
          "output_type": "execute_result",
          "data": {
            "text/html": [
              "<div>\n",
              "<style scoped>\n",
              "    .dataframe tbody tr th:only-of-type {\n",
              "        vertical-align: middle;\n",
              "    }\n",
              "\n",
              "    .dataframe tbody tr th {\n",
              "        vertical-align: top;\n",
              "    }\n",
              "\n",
              "    .dataframe thead th {\n",
              "        text-align: right;\n",
              "    }\n",
              "</style>\n",
              "<table border=\"1\" class=\"dataframe\">\n",
              "  <thead>\n",
              "    <tr style=\"text-align: right;\">\n",
              "      <th></th>\n",
              "      <th>Unnamed: 0</th>\n",
              "      <th>N</th>\n",
              "      <th>P</th>\n",
              "      <th>K</th>\n",
              "      <th>temperature</th>\n",
              "      <th>humidity</th>\n",
              "      <th>ph</th>\n",
              "      <th>rainfall</th>\n",
              "    </tr>\n",
              "  </thead>\n",
              "  <tbody>\n",
              "    <tr>\n",
              "      <th>count</th>\n",
              "      <td>550.000000</td>\n",
              "      <td>550.000000</td>\n",
              "      <td>550.000000</td>\n",
              "      <td>550.000000</td>\n",
              "      <td>550.000000</td>\n",
              "      <td>550.000000</td>\n",
              "      <td>550.000000</td>\n",
              "      <td>550.000000</td>\n",
              "    </tr>\n",
              "    <tr>\n",
              "      <th>mean</th>\n",
              "      <td>274.500000</td>\n",
              "      <td>50.728512</td>\n",
              "      <td>53.615582</td>\n",
              "      <td>47.963333</td>\n",
              "      <td>25.507455</td>\n",
              "      <td>71.386176</td>\n",
              "      <td>6.435517</td>\n",
              "      <td>102.997666</td>\n",
              "    </tr>\n",
              "    <tr>\n",
              "      <th>std</th>\n",
              "      <td>158.915596</td>\n",
              "      <td>36.157802</td>\n",
              "      <td>33.192159</td>\n",
              "      <td>50.778389</td>\n",
              "      <td>4.851460</td>\n",
              "      <td>22.288078</td>\n",
              "      <td>0.765326</td>\n",
              "      <td>54.152121</td>\n",
              "    </tr>\n",
              "    <tr>\n",
              "      <th>min</th>\n",
              "      <td>0.000000</td>\n",
              "      <td>0.000000</td>\n",
              "      <td>5.000000</td>\n",
              "      <td>5.000000</td>\n",
              "      <td>10.164313</td>\n",
              "      <td>14.697653</td>\n",
              "      <td>3.504752</td>\n",
              "      <td>20.762230</td>\n",
              "    </tr>\n",
              "    <tr>\n",
              "      <th>25%</th>\n",
              "      <td>137.250000</td>\n",
              "      <td>22.776532</td>\n",
              "      <td>29.000000</td>\n",
              "      <td>20.000000</td>\n",
              "      <td>22.699643</td>\n",
              "      <td>60.274971</td>\n",
              "      <td>5.955890</td>\n",
              "      <td>65.547552</td>\n",
              "    </tr>\n",
              "    <tr>\n",
              "      <th>50%</th>\n",
              "      <td>274.500000</td>\n",
              "      <td>37.034329</td>\n",
              "      <td>50.000000</td>\n",
              "      <td>32.000000</td>\n",
              "      <td>25.437798</td>\n",
              "      <td>80.682761</td>\n",
              "      <td>6.418598</td>\n",
              "      <td>96.215773</td>\n",
              "    </tr>\n",
              "    <tr>\n",
              "      <th>75%</th>\n",
              "      <td>411.750000</td>\n",
              "      <td>85.000000</td>\n",
              "      <td>68.054888</td>\n",
              "      <td>48.000000</td>\n",
              "      <td>28.469547</td>\n",
              "      <td>90.183527</td>\n",
              "      <td>6.863259</td>\n",
              "      <td>122.120548</td>\n",
              "    </tr>\n",
              "    <tr>\n",
              "      <th>max</th>\n",
              "      <td>549.000000</td>\n",
              "      <td>140.000000</td>\n",
              "      <td>145.000000</td>\n",
              "      <td>205.000000</td>\n",
              "      <td>43.360515</td>\n",
              "      <td>99.645730</td>\n",
              "      <td>9.392695</td>\n",
              "      <td>295.924880</td>\n",
              "    </tr>\n",
              "  </tbody>\n",
              "</table>\n",
              "</div>"
            ],
            "text/plain": [
              "       Unnamed: 0           N           P  ...    humidity          ph    rainfall\n",
              "count  550.000000  550.000000  550.000000  ...  550.000000  550.000000  550.000000\n",
              "mean   274.500000   50.728512   53.615582  ...   71.386176    6.435517  102.997666\n",
              "std    158.915596   36.157802   33.192159  ...   22.288078    0.765326   54.152121\n",
              "min      0.000000    0.000000    5.000000  ...   14.697653    3.504752   20.762230\n",
              "25%    137.250000   22.776532   29.000000  ...   60.274971    5.955890   65.547552\n",
              "50%    274.500000   37.034329   50.000000  ...   80.682761    6.418598   96.215773\n",
              "75%    411.750000   85.000000   68.054888  ...   90.183527    6.863259  122.120548\n",
              "max    549.000000  140.000000  145.000000  ...   99.645730    9.392695  295.924880\n",
              "\n",
              "[8 rows x 8 columns]"
            ]
          },
          "metadata": {
            "tags": []
          },
          "execution_count": 10
        }
      ]
    },
    {
      "cell_type": "code",
      "metadata": {
        "id": "kP2-56BPKe-K",
        "colab": {
          "base_uri": "https://localhost:8080/"
        },
        "outputId": "e897789a-26cc-4b94-9522-69123edbf1ec"
      },
      "source": [
        "crop_Classification_traindata.shape"
      ],
      "execution_count": 11,
      "outputs": [
        {
          "output_type": "execute_result",
          "data": {
            "text/plain": [
              "(1650, 8)"
            ]
          },
          "metadata": {
            "tags": []
          },
          "execution_count": 11
        }
      ]
    },
    {
      "cell_type": "markdown",
      "metadata": {
        "id": "P3z9-7uBeiBg"
      },
      "source": [
        "For train dataset K means clustering\n"
      ]
    },
    {
      "cell_type": "code",
      "metadata": {
        "id": "oh_r1u3XSkVx"
      },
      "source": [
        "from sklearn.cluster import KMeans"
      ],
      "execution_count": 12,
      "outputs": []
    },
    {
      "cell_type": "code",
      "metadata": {
        "id": "d6OnUFq0TL_F"
      },
      "source": [
        "X=crop_Classification_traindata.iloc[:,[6,7]].values"
      ],
      "execution_count": 13,
      "outputs": []
    },
    {
      "cell_type": "code",
      "metadata": {
        "colab": {
          "base_uri": "https://localhost:8080/"
        },
        "id": "WDb9L3fMUPe-",
        "outputId": "82cfce83-6306-4e49-8484-b56ffac7d632"
      },
      "source": [
        "print(X)"
      ],
      "execution_count": 14,
      "outputs": [
        {
          "output_type": "stream",
          "text": [
            "[[  5.88215599 103.0548094 ]\n",
            " [  7.26311855  81.78710463]\n",
            " [  7.4880144  164.4970373 ]\n",
            " ...\n",
            " [  6.40071975  69.39630398]\n",
            " [  6.33461025 166.2549307 ]\n",
            " [  6.81671231  42.42737423]]\n"
          ],
          "name": "stdout"
        }
      ]
    },
    {
      "cell_type": "code",
      "metadata": {
        "id": "__AN_jRNUu3O"
      },
      "source": [
        "wcss=[]\n",
        "\n",
        "for i in range(1,11):\n",
        "  kmeans=KMeans(n_clusters=i,init='k-means++',random_state=42)\n",
        "  kmeans.fit(X)\n",
        "\n",
        "  wcss.append(kmeans.inertia_)"
      ],
      "execution_count": 24,
      "outputs": []
    },
    {
      "cell_type": "code",
      "metadata": {
        "colab": {
          "base_uri": "https://localhost:8080/",
          "height": 301
        },
        "id": "x6y4fyOYVhOU",
        "outputId": "08cb3318-6301-43b5-80e2-f0186a0c5e12"
      },
      "source": [
        "sns.set()\n",
        "plt.plot(range(1,11),wcss)\n",
        "plt.title('The Elbow point Graph')\n",
        "plt.xlabel('Number of Clusters')\n",
        "plt.ylabel('wcss')\n",
        "plt.show()"
      ],
      "execution_count": 26,
      "outputs": [
        {
          "output_type": "display_data",
          "data": {
            "image/png": "[encoded data removed]",
            "text/plain": [
              "<Figure size 432x288 with 1 Axes>"
            ]
          },
          "metadata": {
            "tags": []
          }
        }
      ]
    },
    {
      "cell_type": "code",
      "metadata": {
        "colab": {
          "base_uri": "https://localhost:8080/"
        },
        "id": "_I8hVVkmZFTg",
        "outputId": "098c964b-ac08-494f-9eba-b6214b3fd58a"
      },
      "source": [
        "kmeans=KMeans(n_clusters=3,init='k-means++',random_state=0)\n",
        "\n",
        "Y=kmeans.fit_predict(X)\n",
        "\n",
        "print(Y)"
      ],
      "execution_count": 37,
      "outputs": [
        {
          "output_type": "stream",
          "text": [
            "[0 2 2 0 0 2 0 0 0 0 1 0 2 2 2 0 0 2 0 0 1 1 0 0 2 2 1 0 2 0 2 0 2 0 0 0 2\n",
            " 2 0 0 0 0 1 2 0 2 0 1 0 2 0 2 0 2 1 2 2 1 0 2 0 2 0 0 2 2 2 0 0 1 0 2 0 2\n",
            " 2 2 0 2 2 1 1 0 2 2 2 0 2 2 2 2 0 2 2 0 0 0 0 2 0 2 2 0 2 1 2 0 1 0 0 2 2\n",
            " 0 2 0 1 2 2 2 0 1 0 2 2 0 2 0 0 2 1 0 1 0 0 0 1 0 2 1 1 2 2 1 1 2 0 2 0 0\n",
            " 2 2 2 0 0 2 0 0 2 0 2 1 0 2 2 2 2 0 0 0 0 0 2 1 2 2 1 2 0 0 1 1 2 1 1 2 2\n",
            " 0 1 2 2 0 1 2 2 2 0 2 1 0 2 2 1 0 0 0 2 0 2 0 0 0 0 1 0 1 2 0 2 0 1 0 0 2\n",
            " 0 2 0 2 1 1 2 0 0 2 0 0 2 0 0 0 0 0 1 0 0 2 1 2 2 2 2 2 2 2 0 0 0 0 0 1 2\n",
            " 0 0 2 2 2 2 0 2 2 2 2 2 0 0 1 0 0 2 0 2 0 1 0 0 2 2 1 2 0 0 0 0 2 0 2 2 0\n",
            " 2 2 0 2 0 2 0 1 2 2 2 0 2 0 1 2 2 0 0 0 0 0 1 0 0 2 0 2 0 2 2 0 2 0 1 1 0\n",
            " 2 1 0 0 0 2 0 2 1 0 1 1 0 0 1 2 1 1 2 1 2 0 2 0 2 1 0 2 1 0 2 1 0 2 0 2 0\n",
            " 0 0 0 0 2 2 2 0 2 1 1 2 0 2 2 2 0 0 1 1 2 2 2 2 2 2 1 2 2 2 1 0 2 2 0 1 2\n",
            " 0 2 2 2 1 2 0 2 0 0 2 2 2 2 2 0 0 0 1 1 2 0 1 2 2 0 0 2 0 0 1 2 2 0 2 0 2\n",
            " 0 1 1 0 0 0 1 0 1 2 1 2 0 2 2 2 1 0 1 0 0 0 0 2 2 0 2 0 2 0 0 2 2 1 0 0 2\n",
            " 2 2 0 0 0 2 2 2 2 2 0 2 2 0 0 2 0 2 2 0 1 0 2 0 0 1 0 1 2 2 2 2 2 0 1 0 2\n",
            " 0 1 2 2 0 0 2 2 0 0 2 1 2 2 0 2 1 0 2 2 2 0 0 2 0 0 0 0 2 2 2 0]\n"
          ],
          "name": "stdout"
        }
      ]
    },
    {
      "cell_type": "code",
      "metadata": {
        "colab": {
          "base_uri": "https://localhost:8080/",
          "height": 518
        },
        "id": "mh5-OSYKZpFD",
        "outputId": "428bfff4-9f40-4a8c-c001-9cfb9b74b3d4"
      },
      "source": [
        "plt.figure(figsize=(8,8))\n",
        "plt.scatter(X[Y==0,0],X[Y==0,1],s=50,c='green',label='Cluster 1')\n",
        "plt.scatter(X[Y==1,0],X[Y==1,1],s=50,c='red',label='Cluster 2')\n",
        "plt.scatter(X[Y==2,0],X[Y==2,1],s=50,c='yellow',label='Cluster 3')\n",
        "\n",
        "\n",
        "\n",
        "\n",
        "plt.scatter(kmeans.cluster_centers_[:,0],kmeans.cluster_centers_[:,1],s=100,c='cyan',label='Centroids')\n",
        "\n",
        "\n",
        "plt.title('Target Crop')\n",
        "plt.xlabel('ph')\n",
        "plt.ylabel('rainfall')\n",
        "plt.show()\n"
      ],
      "execution_count": 39,
      "outputs": [
        {
          "output_type": "display_data",
          "data": {
            "image/png": "[encoded data removed]",
            "text/plain": [
              "<Figure size 576x576 with 1 Axes>"
            ]
          },
          "metadata": {
            "tags": []
          }
        }
      ]
    },
    {
      "cell_type": "markdown",
      "metadata": {
        "id": "UcL7SFHneNLk"
      },
      "source": [
        "For test dataset k means clustering\n",
        "\n"
      ]
    },
    {
      "cell_type": "code",
      "metadata": {
        "id": "0EJCvMeheTva"
      },
      "source": [
        "X=crop_Classification_testdata.iloc[:,[6,7]].values"
      ],
      "execution_count": 44,
      "outputs": []
    },
    {
      "cell_type": "code",
      "metadata": {
        "colab": {
          "base_uri": "https://localhost:8080/"
        },
        "id": "57p0BMdifgbn",
        "outputId": "a0664d4d-7994-4fa1-8de8-0302219673c2"
      },
      "source": [
        "print(X)"
      ],
      "execution_count": 45,
      "outputs": [
        {
          "output_type": "stream",
          "text": [
            "[[  8.6395862   70.10472076]\n",
            " [  6.70758258  91.43199234]\n",
            " [  6.52665434  95.04871605]\n",
            " ...\n",
            " [  5.72011616 143.30679625]\n",
            " [  6.05349932 107.95033245]\n",
            " [  7.13027866  48.56690235]]\n"
          ],
          "name": "stdout"
        }
      ]
    },
    {
      "cell_type": "code",
      "metadata": {
        "id": "4TY0QdRcfpbk"
      },
      "source": [
        "wcss=[]\n",
        "\n",
        "for i in range(1,11):\n",
        "  kmeans=KMeans(n_clusters=i,init='k-means++',random_state=42)\n",
        "  kmeans.fit(X)\n",
        "\n",
        "  wcss.append(kmeans.inertia_)"
      ],
      "execution_count": 46,
      "outputs": []
    },
    {
      "cell_type": "code",
      "metadata": {
        "colab": {
          "base_uri": "https://localhost:8080/",
          "height": 301
        },
        "id": "hFMQqIQQf74U",
        "outputId": "ada0d80f-9ebd-4141-f766-46b3e407f725"
      },
      "source": [
        "sns.set()\n",
        "plt.plot(range(1,11),wcss)\n",
        "plt.title('The Elbow point Graph')\n",
        "plt.xlabel('Number of Clusters')\n",
        "plt.ylabel('wcss')\n",
        "plt.show()"
      ],
      "execution_count": 47,
      "outputs": [
        {
          "output_type": "display_data",
          "data": {
            "image/png": "[encoded data removed]",
            "text/plain": [
              "<Figure size 432x288 with 1 Axes>"
            ]
          },
          "metadata": {
            "tags": []
          }
        }
      ]
    },
    {
      "cell_type": "code",
      "metadata": {
        "colab": {
          "base_uri": "https://localhost:8080/"
        },
        "id": "r6yOyHtJhK-3",
        "outputId": "836a5614-b1f4-4eab-c61e-f5536e95da54"
      },
      "source": [
        "kmeans=KMeans(n_clusters=3,init='k-means++',random_state=0)\n",
        "\n",
        "Y=kmeans.fit_predict(X)\n",
        "\n",
        "print(Y)"
      ],
      "execution_count": 48,
      "outputs": [
        {
          "output_type": "stream",
          "text": [
            "[0 2 2 0 0 2 0 0 0 0 1 0 2 2 2 0 0 2 0 0 1 1 0 0 2 2 1 0 2 0 2 0 2 0 0 0 2\n",
            " 2 0 0 0 0 1 2 0 2 0 1 0 2 0 2 0 2 1 2 2 1 0 2 0 2 0 0 2 2 2 0 0 1 0 2 0 2\n",
            " 2 2 0 2 2 1 1 0 2 2 2 0 2 2 2 2 0 2 2 0 0 0 0 2 0 2 2 0 2 1 2 0 1 0 0 2 2\n",
            " 0 2 0 1 2 2 2 0 1 0 2 2 0 2 0 0 2 1 0 1 0 0 0 1 0 2 1 1 2 2 1 1 2 0 2 0 0\n",
            " 2 2 2 0 0 2 0 0 2 0 2 1 0 2 2 2 2 0 0 0 0 0 2 1 2 2 1 2 0 0 1 1 2 1 1 2 2\n",
            " 0 1 2 2 0 1 2 2 2 0 2 1 0 2 2 1 0 0 0 2 0 2 0 0 0 0 1 0 1 2 0 2 0 1 0 0 2\n",
            " 0 2 0 2 1 1 2 0 0 2 0 0 2 0 0 0 0 0 1 0 0 2 1 2 2 2 2 2 2 2 0 0 0 0 0 1 2\n",
            " 0 0 2 2 2 2 0 2 2 2 2 2 0 0 1 0 0 2 0 2 0 1 0 0 2 2 1 2 0 0 0 0 2 0 2 2 0\n",
            " 2 2 0 2 0 2 0 1 2 2 2 0 2 0 1 2 2 0 0 0 0 0 1 0 0 2 0 2 0 2 2 0 2 0 1 1 0\n",
            " 2 1 0 0 0 2 0 2 1 0 1 1 0 0 1 2 1 1 2 1 2 0 2 0 2 1 0 2 1 0 2 1 0 2 0 2 0\n",
            " 0 0 0 0 2 2 2 0 2 1 1 2 0 2 2 2 0 0 1 1 2 2 2 2 2 2 1 2 2 2 1 0 2 2 0 1 2\n",
            " 0 2 2 2 1 2 0 2 0 0 2 2 2 2 2 0 0 0 1 1 2 0 1 2 2 0 0 2 0 0 1 2 2 0 2 0 2\n",
            " 0 1 1 0 0 0 1 0 1 2 1 2 0 2 2 2 1 0 1 0 0 0 0 2 2 0 2 0 2 0 0 2 2 1 0 0 2\n",
            " 2 2 0 0 0 2 2 2 2 2 0 2 2 0 0 2 0 2 2 0 1 0 2 0 0 1 0 1 2 2 2 2 2 0 1 0 2\n",
            " 0 1 2 2 0 0 2 2 0 0 2 1 2 2 0 2 1 0 2 2 2 0 0 2 0 0 0 0 2 2 2 0]\n"
          ],
          "name": "stdout"
        }
      ]
    },
    {
      "cell_type": "code",
      "metadata": {
        "colab": {
          "base_uri": "https://localhost:8080/",
          "height": 518
        },
        "id": "lV8zNVS6heyv",
        "outputId": "7c25bb1f-04ce-41f3-84f1-2dbfe3420ee1"
      },
      "source": [
        "plt.figure(figsize=(8,8))\n",
        "plt.scatter(X[Y==0,0],X[Y==0,1],s=50,c='green',label='Cluster 1')\n",
        "plt.scatter(X[Y==1,0],X[Y==1,1],s=50,c='red',label='Cluster 2')\n",
        "plt.scatter(X[Y==2,0],X[Y==2,1],s=50,c='yellow',label='Cluster 3')\n",
        "\n",
        "\n",
        "\n",
        "\n",
        "plt.scatter(kmeans.cluster_centers_[:,0],kmeans.cluster_centers_[:,1],s=100,c='cyan',label='Centroids')\n",
        "\n",
        "\n",
        "plt.title('Target Crop')\n",
        "plt.xlabel('ph')\n",
        "plt.ylabel('rainfall')\n",
        "plt.show()\n"
      ],
      "execution_count": 49,
      "outputs": [
        {
          "output_type": "display_data",
          "data": {
            "image/png": "[encoded data removed]",
            "text/plain": [
              "<Figure size 576x576 with 1 Axes>"
            ]
          },
          "metadata": {
            "tags": []
          }
        }
      ]
    }
  ]
}