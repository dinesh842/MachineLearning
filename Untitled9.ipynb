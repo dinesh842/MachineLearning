{
  "nbformat": 4,
  "nbformat_minor": 0,
  "metadata": {
    "colab": {
      "name": "Untitled9.ipynb",
      "provenance": [],
      "authorship_tag": "ABX9TyPuVhOpQtor3HNr9HU24Xbs",
      "include_colab_link": true
    },
    "kernelspec": {
      "name": "python3",
      "display_name": "Python 3"
    }
  },
  "cells": [
    {
      "cell_type": "markdown",
      "metadata": {
        "id": "view-in-github",
        "colab_type": "text"
      },
      "source": [
        "<a href=\"https://colab.research.google.com/github/dinesh842/python-/blob/main/Untitled9.ipynb\" target=\"_parent\"><img src=\"https://colab.research.google.com/assets/colab-badge.svg\" alt=\"Open In Colab\"/></a>"
      ]
    },
    {
      "cell_type": "code",
      "metadata": {
        "id": "kST1kEzPF3IR"
      },
      "source": [
        "def add(num1,num2):\n",
        "  result=num1+num2\n",
        "  print({\"0\"}+{\"1\"}={\"2\"}  , format(num1,num2, result))"
      ],
      "execution_count": null,
      "outputs": []
    },
    {
      "cell_type": "code",
      "metadata": {
        "id": "yAAvHGd7Gkon"
      },
      "source": [
        "def substract(num1,num2):\n",
        "  result=num1-num2\n",
        "  print({\"0\"}-{\"1\"}={\"2\"}  , format(num1,num2, result))"
      ],
      "execution_count": null,
      "outputs": []
    },
    {
      "cell_type": "code",
      "metadata": {
        "id": "Dsz3L3gIHKKF"
      },
      "source": [
        "def multiplication(num1,num2):\n",
        "  result=num1*num2\n",
        "  print({\"0\"}*{\"1\"}={\"2\"} , format( num1, num2,result))"
      ],
      "execution_count": null,
      "outputs": []
    },
    {
      "cell_type": "code",
      "metadata": {
        "id": "OSgyNingH5NX"
      },
      "source": [
        "def division(num1,num2):\n",
        "  result=num/num2\n",
        "  print({\"0\"}/{\"1\"}={\"2\"}  , format(num1,num2,result) )"
      ],
      "execution_count": null,
      "outputs": []
    },
    {
      "cell_type": "code",
      "metadata": {
        "id": "ODaIzqugFq7N"
      },
      "source": [
        "while true:"
      ],
      "execution_count": null,
      "outputs": []
    },
    {
      "cell_type": "code",
      "metadata": {
        "id": "vK9t_Xv8DQur"
      },
      "source": [
        "print(\"what do you want?\")\n",
        "print(\"1 addition\")\n",
        "print(\"2 substraction\")\n",
        "print(\"3 multiplication\")\n",
        "print(\"4 division\")\n"
      ],
      "execution_count": null,
      "outputs": []
    },
    {
      "cell_type": "code",
      "metadata": {
        "id": "efi32nH_D1bY"
      },
      "source": [
        "choice =input(\"enter the choice :\")\n",
        "num1=float(input(\"enter the number 1 : \"))\n",
        "num2=float(input(\"enter the number 2 :\"))\n"
      ],
      "execution_count": null,
      "outputs": []
    },
    {
      "cell_type": "code",
      "metadata": {
        "id": "Z_fJCvDDEgKR"
      },
      "source": [
        "if choice==\"1\":\n",
        "  addition(num1,num2)\n",
        "elif choice==\"2\":\n",
        "       substraction(num1,num2)\n",
        "elif choice==\"3\":\n",
        "      multiplication(num1,num2)\n",
        "elif choice==\"4\":\n",
        "        division(num1,num2)\n",
        "else:\n",
        "    print(\"invalid input\")\n"
      ],
      "execution_count": null,
      "outputs": []
    }
  ]
}