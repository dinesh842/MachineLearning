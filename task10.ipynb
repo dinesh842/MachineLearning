{
  "nbformat": 4,
  "nbformat_minor": 0,
  "metadata": {
    "colab": {
      "name": "task10",
      "provenance": [],
      "authorship_tag": "ABX9TyPrT2O08a3JIgxJ68AV0lRl",
      "include_colab_link": true
    },
    "kernelspec": {
      "name": "python3",
      "display_name": "Python 3"
    }
  },
  "cells": [
    {
      "cell_type": "markdown",
      "metadata": {
        "id": "view-in-github",
        "colab_type": "text"
      },
      "source": [
        "<a href=\"https://colab.research.google.com/github/dinesh842/python-/blob/main/task10.ipynb\" target=\"_parent\"><img src=\"https://colab.research.google.com/assets/colab-badge.svg\" alt=\"Open In Colab\"/></a>"
      ]
    },
    {
      "cell_type": "code",
      "metadata": {
        "colab": {
          "base_uri": "https://localhost:8080/"
        },
        "id": "vVx08DDRrsuh",
        "outputId": "312d8eb7-5efe-45cc-c302-3f72a43ded56"
      },
      "source": [
        "from functools import reduce\n",
        "\n",
        "# Calculate the factorial of 5\n",
        "# The process is: the first calculated process as the first parameter of the action function, the next element as the second parameter of the action function\n",
        "range_ = list(range(1,6))\n",
        "print(reduce(lambda x,y: x*y, range_))\n",
        "# 120\n",
        "\n",
        "# Combine the elements in the sequence into a string\n",
        "list_ = list(range(1,10))\n",
        "string = reduce(lambda x,y: x+y,map(str,list_))# Note that the map returns an iterable object\n",
        "print(string)\n",
        "# '123456789'"
      ],
      "execution_count": 6,
      "outputs": [
        {
          "output_type": "stream",
          "text": [
            "120\n",
            "123456789\n"
          ],
          "name": "stdout"
        }
      ]
    },
    {
      "cell_type": "code",
      "metadata": {
        "colab": {
          "base_uri": "https://localhost:8080/"
        },
        "id": "hDa4OLsdsMpL",
        "outputId": "70154ada-f3ee-4270-a587-56b9a3b0e497"
      },
      "source": [
        "list_int = list(map(int,range(5)))\n",
        "list_float = list(map(float,range(5)))\n",
        "list_str = list(map(str,range(5)))\n",
        "for item in zip(list_int,list_float,list_str):\n",
        "\tprint(item)\n",
        "#(0, 0.0, '0') returns tuple\n",
        "#(1, 1.0, '1')\n",
        "#(2, 2.0, '2')\n",
        "#(3, 3.0, '3')\n",
        "#(4, 4.0, '4')\n",
        "\n",
        "for a,b,c in zip(list_int,list_float,list_str):\n",
        "    print(a,b,c)\n",
        "#0 0.0 0\n",
        "#1 1.0 1\n",
        "#2 2.0 2\n",
        "#3 3.0 3\n",
        "#4 4.0 4\n"
      ],
      "execution_count": 8,
      "outputs": [
        {
          "output_type": "stream",
          "text": [
            "(0, 0.0, '0')\n",
            "(1, 1.0, '1')\n",
            "(2, 2.0, '2')\n",
            "(3, 3.0, '3')\n",
            "(4, 4.0, '4')\n",
            "0 0.0 0\n",
            "1 1.0 1\n",
            "2 2.0 2\n",
            "3 3.0 3\n",
            "4 4.0 4\n"
          ],
          "name": "stdout"
        }
      ]
    },
    {
      "cell_type": "code",
      "metadata": {
        "colab": {
          "base_uri": "https://localhost:8080/",
          "height": 171
        },
        "id": "zpOuBAxDsxx-",
        "outputId": "8df31570-aa90-42e4-c1e6-150b634e8095"
      },
      "source": [
        "for i in enumerate([1,2,3,4]):\n",
        "\tprint(i)\n",
        " \n",
        "'''(0, 1)\n",
        "(1, 2)\n",
        "(2, 3)\n",
        "(3, 4)'''\n",
        " \n",
        "for i in enumerate([1,2,3,4],start = 2):\n",
        "    print(i)\n",
        " \n",
        "'''(2, 1)\n",
        "(3, 2)\n",
        "(4, 3)\n",
        "(5, 4)'''\n",
        " \n"
      ],
      "execution_count": 9,
      "outputs": [
        {
          "output_type": "stream",
          "text": [
            "(0, 1)\n",
            "(1, 2)\n",
            "(2, 3)\n",
            "(3, 4)\n",
            "(2, 1)\n",
            "(3, 2)\n",
            "(4, 3)\n",
            "(5, 4)\n"
          ],
          "name": "stdout"
        },
        {
          "output_type": "execute_result",
          "data": {
            "application/vnd.google.colaboratory.intrinsic+json": {
              "type": "string"
            },
            "text/plain": [
              "'(2, 1)\\n(3, 2)\\n(4, 3)\\n(5, 4)'"
            ]
          },
          "metadata": {
            "tags": []
          },
          "execution_count": 9
        }
      ]
    }
  ]
}