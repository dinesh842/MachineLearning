{
  "nbformat": 4,
  "nbformat_minor": 0,
  "metadata": {
    "colab": {
      "name": "cancer deep learning .ipynb",
      "provenance": [],
      "authorship_tag": "ABX9TyPiELCA+LKKQK0agJfLFj4I",
      "include_colab_link": true
    },
    "kernelspec": {
      "name": "python3",
      "display_name": "Python 3"
    },
    "language_info": {
      "name": "python"
    }
  },
  "cells": [
    {
      "cell_type": "markdown",
      "metadata": {
        "id": "view-in-github",
        "colab_type": "text"
      },
      "source": [
        "<a href=\"https://colab.research.google.com/github/dinesh842/python-/blob/main/cancer_deep_learning_.ipynb\" target=\"_parent\"><img src=\"https://colab.research.google.com/assets/colab-badge.svg\" alt=\"Open In Colab\"/></a>"
      ]
    },
    {
      "cell_type": "code",
      "metadata": {
        "id": "0ro-_8tkC2rt"
      },
      "source": [
        "import tensorflow as tf\n",
        "from tensorflow import keras\n",
        "from tensorflow.keras import Sequential\n",
        "from tensorflow.keras.layers import Flatten,Dense,Dropout,BatchNormalization\n",
        "from tensorflow.keras.layers import Conv1D,MaxPool1D\n",
        "from tensorflow.keras.preprocessing.image import ImageDataGenerator\n",
        "from tensorflow.keras.optimizers import Adam"
      ],
      "execution_count": 46,
      "outputs": []
    },
    {
      "cell_type": "code",
      "metadata": {
        "id": "ur2_SRr6Ezid"
      },
      "source": [
        "import pandas as pd\n",
        "import numpy as np\n",
        "import matplotlib.pyplot as plt\n",
        "import seaborn as sns"
      ],
      "execution_count": 5,
      "outputs": []
    },
    {
      "cell_type": "code",
      "metadata": {
        "id": "pVT1iiPnFCej"
      },
      "source": [
        "from sklearn import datasets,metrics\n",
        "from sklearn.model_selection import  train_test_split\n",
        "from sklearn.preprocessing import StandardScaler"
      ],
      "execution_count": 1,
      "outputs": []
    },
    {
      "cell_type": "code",
      "metadata": {
        "id": "REfyOWaoFs1O"
      },
      "source": [
        "cancer=datasets.load_breast_cancer()"
      ],
      "execution_count": 2,
      "outputs": []
    },
    {
      "cell_type": "code",
      "metadata": {
        "colab": {
          "base_uri": "https://localhost:8080/"
        },
        "id": "qP4ibzZCGYxq",
        "outputId": "ea3f62e9-0756-4f04-bde0-02948aabab4b"
      },
      "source": [
        "print(cancer.DESCR)"
      ],
      "execution_count": 3,
      "outputs": [
        {
          "output_type": "stream",
          "text": [
            ".. _breast_cancer_dataset:\n",
            "\n",
            "Breast cancer wisconsin (diagnostic) dataset\n",
            "--------------------------------------------\n",
            "\n",
            "**Data Set Characteristics:**\n",
            "\n",
            "    :Number of Instances: 569\n",
            "\n",
            "    :Number of Attributes: 30 numeric, predictive attributes and the class\n",
            "\n",
            "    :Attribute Information:\n",
            "        - radius (mean of distances from center to points on the perimeter)\n",
            "        - texture (standard deviation of gray-scale values)\n",
            "        - perimeter\n",
            "        - area\n",
            "        - smoothness (local variation in radius lengths)\n",
            "        - compactness (perimeter^2 / area - 1.0)\n",
            "        - concavity (severity of concave portions of the contour)\n",
            "        - concave points (number of concave portions of the contour)\n",
            "        - symmetry \n",
            "        - fractal dimension (\"coastline approximation\" - 1)\n",
            "\n",
            "        The mean, standard error, and \"worst\" or largest (mean of the three\n",
            "        largest values) of these features were computed for each image,\n",
            "        resulting in 30 features.  For instance, field 3 is Mean Radius, field\n",
            "        13 is Radius SE, field 23 is Worst Radius.\n",
            "\n",
            "        - class:\n",
            "                - WDBC-Malignant\n",
            "                - WDBC-Benign\n",
            "\n",
            "    :Summary Statistics:\n",
            "\n",
            "    ===================================== ====== ======\n",
            "                                           Min    Max\n",
            "    ===================================== ====== ======\n",
            "    radius (mean):                        6.981  28.11\n",
            "    texture (mean):                       9.71   39.28\n",
            "    perimeter (mean):                     43.79  188.5\n",
            "    area (mean):                          143.5  2501.0\n",
            "    smoothness (mean):                    0.053  0.163\n",
            "    compactness (mean):                   0.019  0.345\n",
            "    concavity (mean):                     0.0    0.427\n",
            "    concave points (mean):                0.0    0.201\n",
            "    symmetry (mean):                      0.106  0.304\n",
            "    fractal dimension (mean):             0.05   0.097\n",
            "    radius (standard error):              0.112  2.873\n",
            "    texture (standard error):             0.36   4.885\n",
            "    perimeter (standard error):           0.757  21.98\n",
            "    area (standard error):                6.802  542.2\n",
            "    smoothness (standard error):          0.002  0.031\n",
            "    compactness (standard error):         0.002  0.135\n",
            "    concavity (standard error):           0.0    0.396\n",
            "    concave points (standard error):      0.0    0.053\n",
            "    symmetry (standard error):            0.008  0.079\n",
            "    fractal dimension (standard error):   0.001  0.03\n",
            "    radius (worst):                       7.93   36.04\n",
            "    texture (worst):                      12.02  49.54\n",
            "    perimeter (worst):                    50.41  251.2\n",
            "    area (worst):                         185.2  4254.0\n",
            "    smoothness (worst):                   0.071  0.223\n",
            "    compactness (worst):                  0.027  1.058\n",
            "    concavity (worst):                    0.0    1.252\n",
            "    concave points (worst):               0.0    0.291\n",
            "    symmetry (worst):                     0.156  0.664\n",
            "    fractal dimension (worst):            0.055  0.208\n",
            "    ===================================== ====== ======\n",
            "\n",
            "    :Missing Attribute Values: None\n",
            "\n",
            "    :Class Distribution: 212 - Malignant, 357 - Benign\n",
            "\n",
            "    :Creator:  Dr. William H. Wolberg, W. Nick Street, Olvi L. Mangasarian\n",
            "\n",
            "    :Donor: Nick Street\n",
            "\n",
            "    :Date: November, 1995\n",
            "\n",
            "This is a copy of UCI ML Breast Cancer Wisconsin (Diagnostic) datasets.\n",
            "https://goo.gl/U2Uwz2\n",
            "\n",
            "Features are computed from a digitized image of a fine needle\n",
            "aspirate (FNA) of a breast mass.  They describe\n",
            "characteristics of the cell nuclei present in the image.\n",
            "\n",
            "Separating plane described above was obtained using\n",
            "Multisurface Method-Tree (MSM-T) [K. P. Bennett, \"Decision Tree\n",
            "Construction Via Linear Programming.\" Proceedings of the 4th\n",
            "Midwest Artificial Intelligence and Cognitive Science Society,\n",
            "pp. 97-101, 1992], a classification method which uses linear\n",
            "programming to construct a decision tree.  Relevant features\n",
            "were selected using an exhaustive search in the space of 1-4\n",
            "features and 1-3 separating planes.\n",
            "\n",
            "The actual linear program used to obtain the separating plane\n",
            "in the 3-dimensional space is that described in:\n",
            "[K. P. Bennett and O. L. Mangasarian: \"Robust Linear\n",
            "Programming Discrimination of Two Linearly Inseparable Sets\",\n",
            "Optimization Methods and Software 1, 1992, 23-34].\n",
            "\n",
            "This database is also available through the UW CS ftp server:\n",
            "\n",
            "ftp ftp.cs.wisc.edu\n",
            "cd math-prog/cpo-dataset/machine-learn/WDBC/\n",
            "\n",
            ".. topic:: References\n",
            "\n",
            "   - W.N. Street, W.H. Wolberg and O.L. Mangasarian. Nuclear feature extraction \n",
            "     for breast tumor diagnosis. IS&T/SPIE 1993 International Symposium on \n",
            "     Electronic Imaging: Science and Technology, volume 1905, pages 861-870,\n",
            "     San Jose, CA, 1993.\n",
            "   - O.L. Mangasarian, W.N. Street and W.H. Wolberg. Breast cancer diagnosis and \n",
            "     prognosis via linear programming. Operations Research, 43(4), pages 570-577, \n",
            "     July-August 1995.\n",
            "   - W.H. Wolberg, W.N. Street, and O.L. Mangasarian. Machine learning techniques\n",
            "     to diagnose breast cancer from fine-needle aspirates. Cancer Letters 77 (1994) \n",
            "     163-171.\n"
          ],
          "name": "stdout"
        }
      ]
    },
    {
      "cell_type": "code",
      "metadata": {
        "colab": {
          "base_uri": "https://localhost:8080/",
          "height": 249
        },
        "id": "_k2yl0rqGsAe",
        "outputId": "ae170717-175c-4294-f74c-4f12aace6ca2"
      },
      "source": [
        "X=pd.DataFrame(data=cancer.data,columns=cancer.feature_names)\n",
        "X.head()"
      ],
      "execution_count": 6,
      "outputs": [
        {
          "output_type": "execute_result",
          "data": {
            "text/html": [
              "<div>\n",
              "<style scoped>\n",
              "    .dataframe tbody tr th:only-of-type {\n",
              "        vertical-align: middle;\n",
              "    }\n",
              "\n",
              "    .dataframe tbody tr th {\n",
              "        vertical-align: top;\n",
              "    }\n",
              "\n",
              "    .dataframe thead th {\n",
              "        text-align: right;\n",
              "    }\n",
              "</style>\n",
              "<table border=\"1\" class=\"dataframe\">\n",
              "  <thead>\n",
              "    <tr style=\"text-align: right;\">\n",
              "      <th></th>\n",
              "      <th>mean radius</th>\n",
              "      <th>mean texture</th>\n",
              "      <th>mean perimeter</th>\n",
              "      <th>mean area</th>\n",
              "      <th>mean smoothness</th>\n",
              "      <th>mean compactness</th>\n",
              "      <th>mean concavity</th>\n",
              "      <th>mean concave points</th>\n",
              "      <th>mean symmetry</th>\n",
              "      <th>mean fractal dimension</th>\n",
              "      <th>radius error</th>\n",
              "      <th>texture error</th>\n",
              "      <th>perimeter error</th>\n",
              "      <th>area error</th>\n",
              "      <th>smoothness error</th>\n",
              "      <th>compactness error</th>\n",
              "      <th>concavity error</th>\n",
              "      <th>concave points error</th>\n",
              "      <th>symmetry error</th>\n",
              "      <th>fractal dimension error</th>\n",
              "      <th>worst radius</th>\n",
              "      <th>worst texture</th>\n",
              "      <th>worst perimeter</th>\n",
              "      <th>worst area</th>\n",
              "      <th>worst smoothness</th>\n",
              "      <th>worst compactness</th>\n",
              "      <th>worst concavity</th>\n",
              "      <th>worst concave points</th>\n",
              "      <th>worst symmetry</th>\n",
              "      <th>worst fractal dimension</th>\n",
              "    </tr>\n",
              "  </thead>\n",
              "  <tbody>\n",
              "    <tr>\n",
              "      <th>0</th>\n",
              "      <td>17.99</td>\n",
              "      <td>10.38</td>\n",
              "      <td>122.80</td>\n",
              "      <td>1001.0</td>\n",
              "      <td>0.11840</td>\n",
              "      <td>0.27760</td>\n",
              "      <td>0.3001</td>\n",
              "      <td>0.14710</td>\n",
              "      <td>0.2419</td>\n",
              "      <td>0.07871</td>\n",
              "      <td>1.0950</td>\n",
              "      <td>0.9053</td>\n",
              "      <td>8.589</td>\n",
              "      <td>153.40</td>\n",
              "      <td>0.006399</td>\n",
              "      <td>0.04904</td>\n",
              "      <td>0.05373</td>\n",
              "      <td>0.01587</td>\n",
              "      <td>0.03003</td>\n",
              "      <td>0.006193</td>\n",
              "      <td>25.38</td>\n",
              "      <td>17.33</td>\n",
              "      <td>184.60</td>\n",
              "      <td>2019.0</td>\n",
              "      <td>0.1622</td>\n",
              "      <td>0.6656</td>\n",
              "      <td>0.7119</td>\n",
              "      <td>0.2654</td>\n",
              "      <td>0.4601</td>\n",
              "      <td>0.11890</td>\n",
              "    </tr>\n",
              "    <tr>\n",
              "      <th>1</th>\n",
              "      <td>20.57</td>\n",
              "      <td>17.77</td>\n",
              "      <td>132.90</td>\n",
              "      <td>1326.0</td>\n",
              "      <td>0.08474</td>\n",
              "      <td>0.07864</td>\n",
              "      <td>0.0869</td>\n",
              "      <td>0.07017</td>\n",
              "      <td>0.1812</td>\n",
              "      <td>0.05667</td>\n",
              "      <td>0.5435</td>\n",
              "      <td>0.7339</td>\n",
              "      <td>3.398</td>\n",
              "      <td>74.08</td>\n",
              "      <td>0.005225</td>\n",
              "      <td>0.01308</td>\n",
              "      <td>0.01860</td>\n",
              "      <td>0.01340</td>\n",
              "      <td>0.01389</td>\n",
              "      <td>0.003532</td>\n",
              "      <td>24.99</td>\n",
              "      <td>23.41</td>\n",
              "      <td>158.80</td>\n",
              "      <td>1956.0</td>\n",
              "      <td>0.1238</td>\n",
              "      <td>0.1866</td>\n",
              "      <td>0.2416</td>\n",
              "      <td>0.1860</td>\n",
              "      <td>0.2750</td>\n",
              "      <td>0.08902</td>\n",
              "    </tr>\n",
              "    <tr>\n",
              "      <th>2</th>\n",
              "      <td>19.69</td>\n",
              "      <td>21.25</td>\n",
              "      <td>130.00</td>\n",
              "      <td>1203.0</td>\n",
              "      <td>0.10960</td>\n",
              "      <td>0.15990</td>\n",
              "      <td>0.1974</td>\n",
              "      <td>0.12790</td>\n",
              "      <td>0.2069</td>\n",
              "      <td>0.05999</td>\n",
              "      <td>0.7456</td>\n",
              "      <td>0.7869</td>\n",
              "      <td>4.585</td>\n",
              "      <td>94.03</td>\n",
              "      <td>0.006150</td>\n",
              "      <td>0.04006</td>\n",
              "      <td>0.03832</td>\n",
              "      <td>0.02058</td>\n",
              "      <td>0.02250</td>\n",
              "      <td>0.004571</td>\n",
              "      <td>23.57</td>\n",
              "      <td>25.53</td>\n",
              "      <td>152.50</td>\n",
              "      <td>1709.0</td>\n",
              "      <td>0.1444</td>\n",
              "      <td>0.4245</td>\n",
              "      <td>0.4504</td>\n",
              "      <td>0.2430</td>\n",
              "      <td>0.3613</td>\n",
              "      <td>0.08758</td>\n",
              "    </tr>\n",
              "    <tr>\n",
              "      <th>3</th>\n",
              "      <td>11.42</td>\n",
              "      <td>20.38</td>\n",
              "      <td>77.58</td>\n",
              "      <td>386.1</td>\n",
              "      <td>0.14250</td>\n",
              "      <td>0.28390</td>\n",
              "      <td>0.2414</td>\n",
              "      <td>0.10520</td>\n",
              "      <td>0.2597</td>\n",
              "      <td>0.09744</td>\n",
              "      <td>0.4956</td>\n",
              "      <td>1.1560</td>\n",
              "      <td>3.445</td>\n",
              "      <td>27.23</td>\n",
              "      <td>0.009110</td>\n",
              "      <td>0.07458</td>\n",
              "      <td>0.05661</td>\n",
              "      <td>0.01867</td>\n",
              "      <td>0.05963</td>\n",
              "      <td>0.009208</td>\n",
              "      <td>14.91</td>\n",
              "      <td>26.50</td>\n",
              "      <td>98.87</td>\n",
              "      <td>567.7</td>\n",
              "      <td>0.2098</td>\n",
              "      <td>0.8663</td>\n",
              "      <td>0.6869</td>\n",
              "      <td>0.2575</td>\n",
              "      <td>0.6638</td>\n",
              "      <td>0.17300</td>\n",
              "    </tr>\n",
              "    <tr>\n",
              "      <th>4</th>\n",
              "      <td>20.29</td>\n",
              "      <td>14.34</td>\n",
              "      <td>135.10</td>\n",
              "      <td>1297.0</td>\n",
              "      <td>0.10030</td>\n",
              "      <td>0.13280</td>\n",
              "      <td>0.1980</td>\n",
              "      <td>0.10430</td>\n",
              "      <td>0.1809</td>\n",
              "      <td>0.05883</td>\n",
              "      <td>0.7572</td>\n",
              "      <td>0.7813</td>\n",
              "      <td>5.438</td>\n",
              "      <td>94.44</td>\n",
              "      <td>0.011490</td>\n",
              "      <td>0.02461</td>\n",
              "      <td>0.05688</td>\n",
              "      <td>0.01885</td>\n",
              "      <td>0.01756</td>\n",
              "      <td>0.005115</td>\n",
              "      <td>22.54</td>\n",
              "      <td>16.67</td>\n",
              "      <td>152.20</td>\n",
              "      <td>1575.0</td>\n",
              "      <td>0.1374</td>\n",
              "      <td>0.2050</td>\n",
              "      <td>0.4000</td>\n",
              "      <td>0.1625</td>\n",
              "      <td>0.2364</td>\n",
              "      <td>0.07678</td>\n",
              "    </tr>\n",
              "  </tbody>\n",
              "</table>\n",
              "</div>"
            ],
            "text/plain": [
              "   mean radius  mean texture  ...  worst symmetry  worst fractal dimension\n",
              "0        17.99         10.38  ...          0.4601                  0.11890\n",
              "1        20.57         17.77  ...          0.2750                  0.08902\n",
              "2        19.69         21.25  ...          0.3613                  0.08758\n",
              "3        11.42         20.38  ...          0.6638                  0.17300\n",
              "4        20.29         14.34  ...          0.2364                  0.07678\n",
              "\n",
              "[5 rows x 30 columns]"
            ]
          },
          "metadata": {
            "tags": []
          },
          "execution_count": 6
        }
      ]
    },
    {
      "cell_type": "code",
      "metadata": {
        "id": "d5PMjPcZHglL"
      },
      "source": [
        "y=cancer.target"
      ],
      "execution_count": 7,
      "outputs": []
    },
    {
      "cell_type": "code",
      "metadata": {
        "colab": {
          "base_uri": "https://localhost:8080/"
        },
        "id": "JotacCcjHtAL",
        "outputId": "5194029a-75c5-497f-923e-f3334e0d41ed"
      },
      "source": [
        "y"
      ],
      "execution_count": 8,
      "outputs": [
        {
          "output_type": "execute_result",
          "data": {
            "text/plain": [
              "array([0, 0, 0, 0, 0, 0, 0, 0, 0, 0, 0, 0, 0, 0, 0, 0, 0, 0, 0, 1, 1, 1,\n",
              "       0, 0, 0, 0, 0, 0, 0, 0, 0, 0, 0, 0, 0, 0, 0, 1, 0, 0, 0, 0, 0, 0,\n",
              "       0, 0, 1, 0, 1, 1, 1, 1, 1, 0, 0, 1, 0, 0, 1, 1, 1, 1, 0, 1, 0, 0,\n",
              "       1, 1, 1, 1, 0, 1, 0, 0, 1, 0, 1, 0, 0, 1, 1, 1, 0, 0, 1, 0, 0, 0,\n",
              "       1, 1, 1, 0, 1, 1, 0, 0, 1, 1, 1, 0, 0, 1, 1, 1, 1, 0, 1, 1, 0, 1,\n",
              "       1, 1, 1, 1, 1, 1, 1, 0, 0, 0, 1, 0, 0, 1, 1, 1, 0, 0, 1, 0, 1, 0,\n",
              "       0, 1, 0, 0, 1, 1, 0, 1, 1, 0, 1, 1, 1, 1, 0, 1, 1, 1, 1, 1, 1, 1,\n",
              "       1, 1, 0, 1, 1, 1, 1, 0, 0, 1, 0, 1, 1, 0, 0, 1, 1, 0, 0, 1, 1, 1,\n",
              "       1, 0, 1, 1, 0, 0, 0, 1, 0, 1, 0, 1, 1, 1, 0, 1, 1, 0, 0, 1, 0, 0,\n",
              "       0, 0, 1, 0, 0, 0, 1, 0, 1, 0, 1, 1, 0, 1, 0, 0, 0, 0, 1, 1, 0, 0,\n",
              "       1, 1, 1, 0, 1, 1, 1, 1, 1, 0, 0, 1, 1, 0, 1, 1, 0, 0, 1, 0, 1, 1,\n",
              "       1, 1, 0, 1, 1, 1, 1, 1, 0, 1, 0, 0, 0, 0, 0, 0, 0, 0, 0, 0, 0, 0,\n",
              "       0, 0, 1, 1, 1, 1, 1, 1, 0, 1, 0, 1, 1, 0, 1, 1, 0, 1, 0, 0, 1, 1,\n",
              "       1, 1, 1, 1, 1, 1, 1, 1, 1, 1, 1, 0, 1, 1, 0, 1, 0, 1, 1, 1, 1, 1,\n",
              "       1, 1, 1, 1, 1, 1, 1, 1, 1, 0, 1, 1, 1, 0, 1, 0, 1, 1, 1, 1, 0, 0,\n",
              "       0, 1, 1, 1, 1, 0, 1, 0, 1, 0, 1, 1, 1, 0, 1, 1, 1, 1, 1, 1, 1, 0,\n",
              "       0, 0, 1, 1, 1, 1, 1, 1, 1, 1, 1, 1, 1, 0, 0, 1, 0, 0, 0, 1, 0, 0,\n",
              "       1, 1, 1, 1, 1, 0, 1, 1, 1, 1, 1, 0, 1, 1, 1, 0, 1, 1, 0, 0, 1, 1,\n",
              "       1, 1, 1, 1, 0, 1, 1, 1, 1, 1, 1, 1, 0, 1, 1, 1, 1, 1, 0, 1, 1, 0,\n",
              "       1, 1, 1, 1, 1, 1, 1, 1, 1, 1, 1, 1, 0, 1, 0, 0, 1, 0, 1, 1, 1, 1,\n",
              "       1, 0, 1, 1, 0, 1, 0, 1, 1, 0, 1, 0, 1, 1, 1, 1, 1, 1, 1, 1, 0, 0,\n",
              "       1, 1, 1, 1, 1, 1, 0, 1, 1, 1, 1, 1, 1, 1, 1, 1, 1, 0, 1, 1, 1, 1,\n",
              "       1, 1, 1, 0, 1, 0, 1, 1, 0, 1, 1, 1, 1, 1, 0, 0, 1, 0, 1, 0, 1, 1,\n",
              "       1, 1, 1, 0, 1, 1, 0, 1, 0, 1, 0, 0, 1, 1, 1, 0, 1, 1, 1, 1, 1, 1,\n",
              "       1, 1, 1, 1, 1, 0, 1, 0, 0, 1, 1, 1, 1, 1, 1, 1, 1, 1, 1, 1, 1, 1,\n",
              "       1, 1, 1, 1, 1, 1, 1, 1, 1, 1, 1, 1, 0, 0, 0, 0, 0, 0, 1])"
            ]
          },
          "metadata": {
            "tags": []
          },
          "execution_count": 8
        }
      ]
    },
    {
      "cell_type": "code",
      "metadata": {
        "colab": {
          "base_uri": "https://localhost:8080/"
        },
        "id": "lLVAyrTIHv_z",
        "outputId": "0b3a5c00-7551-460e-a0eb-7245dc12b948"
      },
      "source": [
        "cancer.target_names"
      ],
      "execution_count": 9,
      "outputs": [
        {
          "output_type": "execute_result",
          "data": {
            "text/plain": [
              "array(['malignant', 'benign'], dtype='<U9')"
            ]
          },
          "metadata": {
            "tags": []
          },
          "execution_count": 9
        }
      ]
    },
    {
      "cell_type": "code",
      "metadata": {
        "colab": {
          "base_uri": "https://localhost:8080/"
        },
        "id": "M8TQDq13H568",
        "outputId": "f865873d-207c-485f-acbc-1ab07a037710"
      },
      "source": [
        "X.shape"
      ],
      "execution_count": 10,
      "outputs": [
        {
          "output_type": "execute_result",
          "data": {
            "text/plain": [
              "(569, 30)"
            ]
          },
          "metadata": {
            "tags": []
          },
          "execution_count": 10
        }
      ]
    },
    {
      "cell_type": "code",
      "metadata": {
        "id": "UM9Ag6M6H-qL"
      },
      "source": [
        "X_train,X_test,y_train,y_test=train_test_split(X,y,test_size=0.2,random_state=0,stratify=y)"
      ],
      "execution_count": 11,
      "outputs": []
    },
    {
      "cell_type": "code",
      "metadata": {
        "colab": {
          "base_uri": "https://localhost:8080/"
        },
        "id": "q4M9XF3EItJB",
        "outputId": "d7ac3ab0-20bc-485d-e2b7-106d209e2290"
      },
      "source": [
        "X_train.shape"
      ],
      "execution_count": 12,
      "outputs": [
        {
          "output_type": "execute_result",
          "data": {
            "text/plain": [
              "(455, 30)"
            ]
          },
          "metadata": {
            "tags": []
          },
          "execution_count": 12
        }
      ]
    },
    {
      "cell_type": "code",
      "metadata": {
        "colab": {
          "base_uri": "https://localhost:8080/"
        },
        "id": "fFqJGmlFIzgx",
        "outputId": "4feda423-770b-4e66-f8ad-df49929926f9"
      },
      "source": [
        "X_test.shape"
      ],
      "execution_count": 13,
      "outputs": [
        {
          "output_type": "execute_result",
          "data": {
            "text/plain": [
              "(114, 30)"
            ]
          },
          "metadata": {
            "tags": []
          },
          "execution_count": 13
        }
      ]
    },
    {
      "cell_type": "code",
      "metadata": {
        "id": "CPpWk9XDJYr9"
      },
      "source": [
        "scaler=StandardScaler()\n",
        "X_train=scaler.fit_transform(X_train)\n",
        "X_test=scaler.transform(X_test)"
      ],
      "execution_count": 15,
      "outputs": []
    },
    {
      "cell_type": "code",
      "metadata": {
        "id": "0PhoMWEpI8aA"
      },
      "source": [
        "X_train=X_train.reshape(455,30,1)\n",
        "X_test=X_test.reshape(114,30,1)\n"
      ],
      "execution_count": 16,
      "outputs": []
    },
    {
      "cell_type": "code",
      "metadata": {
        "colab": {
          "base_uri": "https://localhost:8080/"
        },
        "id": "xvETjBooMNpW",
        "outputId": "71daab95-f82f-44ac-c924-ced080e1666b"
      },
      "source": [
        "! pip install Sequential"
      ],
      "execution_count": 19,
      "outputs": [
        {
          "output_type": "stream",
          "text": [
            "Collecting Sequential\n",
            "  Downloading https://files.pythonhosted.org/packages/49/6b/f148875fe84ab5eed83efe45d4cfdfa0a951e08ed5e3660ca935e63ba311/sequential-1.0.0.tar.gz\n",
            "Building wheels for collected packages: Sequential\n",
            "  Building wheel for Sequential (setup.py) ... \u001b[?25l\u001b[?25hdone\n",
            "  Created wheel for Sequential: filename=sequential-1.0.0-cp37-none-any.whl size=2862 sha256=7ef9438efc38bacf9e359e7287ac6db34cd482437d933ae0f2a3be64c1c716d9\n",
            "  Stored in directory: /root/.cache/pip/wheels/5a/89/ee/1f8d0c0156b5cbf5ae26a0caa7c6de3db7c1581d8b5a04ea27\n",
            "Successfully built Sequential\n",
            "Installing collected packages: Sequential\n",
            "Successfully installed Sequential-1.0.0\n"
          ],
          "name": "stdout"
        }
      ]
    },
    {
      "cell_type": "code",
      "metadata": {
        "id": "1T7LbD9QKu6c"
      },
      "source": [
        "epochs=50\n",
        "model=Sequential()\n",
        "model.add(Conv1D(filters=32, kernel_size=2,activation='relu',input_shape=(30,1)))\n",
        "model.add(BatchNormalization())\n",
        "model.add(Dropout(0.2))\n"
      ],
      "execution_count": 30,
      "outputs": []
    },
    {
      "cell_type": "code",
      "metadata": {
        "id": "rxEQUFduNhNV"
      },
      "source": [
        "model.add(Conv1D(filters=64, kernel_size=2,activation='relu',input_shape=(30,1)))\n",
        "model.add(BatchNormalization())\n",
        "model.add(Dropout(0.5))\n"
      ],
      "execution_count": 31,
      "outputs": []
    },
    {
      "cell_type": "code",
      "metadata": {
        "id": "dNDl8fazN0iQ"
      },
      "source": [
        "model.add(Flatten())\n",
        "model.add(Dense(64,activation='relu'))\n",
        "model.add(Dropout(0.5))\n",
        "\n",
        "model.add(Dense(1,activation='sigmoid'))"
      ],
      "execution_count": 32,
      "outputs": []
    },
    {
      "cell_type": "code",
      "metadata": {
        "colab": {
          "base_uri": "https://localhost:8080/"
        },
        "id": "iANb8PpcPM_7",
        "outputId": "daca1ee4-eb44-4475-e789-cf47b9dfcec4"
      },
      "source": [
        "model.summary()"
      ],
      "execution_count": 33,
      "outputs": [
        {
          "output_type": "stream",
          "text": [
            "Model: \"sequential_5\"\n",
            "_________________________________________________________________\n",
            "Layer (type)                 Output Shape              Param #   \n",
            "=================================================================\n",
            "conv1d_1 (Conv1D)            (None, 29, 32)            96        \n",
            "_________________________________________________________________\n",
            "batch_normalization_1 (Batch (None, 29, 32)            128       \n",
            "_________________________________________________________________\n",
            "dropout (Dropout)            (None, 29, 32)            0         \n",
            "_________________________________________________________________\n",
            "conv1d_2 (Conv1D)            (None, 28, 64)            4160      \n",
            "_________________________________________________________________\n",
            "batch_normalization_2 (Batch (None, 28, 64)            256       \n",
            "_________________________________________________________________\n",
            "dropout_1 (Dropout)          (None, 28, 64)            0         \n",
            "_________________________________________________________________\n",
            "flatten (Flatten)            (None, 1792)              0         \n",
            "_________________________________________________________________\n",
            "dense (Dense)                (None, 64)                114752    \n",
            "_________________________________________________________________\n",
            "dropout_2 (Dropout)          (None, 64)                0         \n",
            "_________________________________________________________________\n",
            "dense_1 (Dense)              (None, 1)                 65        \n",
            "=================================================================\n",
            "Total params: 119,457\n",
            "Trainable params: 119,265\n",
            "Non-trainable params: 192\n",
            "_________________________________________________________________\n"
          ],
          "name": "stdout"
        }
      ]
    },
    {
      "cell_type": "code",
      "metadata": {
        "id": "26iorx-JPfCA"
      },
      "source": [
        "model.compile(optimizer=Adam(lr=0.00005),loss='binary_crossentropy',metrics=['accuracy'])"
      ],
      "execution_count": 34,
      "outputs": []
    },
    {
      "cell_type": "code",
      "metadata": {
        "colab": {
          "base_uri": "https://localhost:8080/"
        },
        "id": "50GvJOH8P-5e",
        "outputId": "10baeb6e-7b02-434d-f361-3605a8543f78"
      },
      "source": [
        "history=model.fit(X_train,y_train,epochs=epochs,validation_data=(X_test,y_test),verbose=1)"
      ],
      "execution_count": 35,
      "outputs": [
        {
          "output_type": "stream",
          "text": [
            "Epoch 1/50\n",
            "15/15 [==============================] - 2s 32ms/step - loss: 1.0109 - accuracy: 0.5664 - val_loss: 0.6159 - val_accuracy: 0.9035\n",
            "Epoch 2/50\n",
            "15/15 [==============================] - 0s 12ms/step - loss: 0.5544 - accuracy: 0.7278 - val_loss: 0.5623 - val_accuracy: 0.8421\n",
            "Epoch 3/50\n",
            "15/15 [==============================] - 0s 11ms/step - loss: 0.4466 - accuracy: 0.8267 - val_loss: 0.5206 - val_accuracy: 0.8158\n",
            "Epoch 4/50\n",
            "15/15 [==============================] - 0s 11ms/step - loss: 0.3898 - accuracy: 0.8295 - val_loss: 0.4877 - val_accuracy: 0.7982\n",
            "Epoch 5/50\n",
            "15/15 [==============================] - 0s 12ms/step - loss: 0.3521 - accuracy: 0.8598 - val_loss: 0.4613 - val_accuracy: 0.7982\n",
            "Epoch 6/50\n",
            "15/15 [==============================] - 0s 11ms/step - loss: 0.3908 - accuracy: 0.8320 - val_loss: 0.4390 - val_accuracy: 0.7895\n",
            "Epoch 7/50\n",
            "15/15 [==============================] - 0s 11ms/step - loss: 0.3030 - accuracy: 0.8880 - val_loss: 0.4207 - val_accuracy: 0.7895\n",
            "Epoch 8/50\n",
            "15/15 [==============================] - 0s 12ms/step - loss: 0.4251 - accuracy: 0.8782 - val_loss: 0.4051 - val_accuracy: 0.7895\n",
            "Epoch 9/50\n",
            "15/15 [==============================] - 0s 12ms/step - loss: 0.1963 - accuracy: 0.9138 - val_loss: 0.3926 - val_accuracy: 0.7982\n",
            "Epoch 10/50\n",
            "15/15 [==============================] - 0s 12ms/step - loss: 0.2296 - accuracy: 0.9152 - val_loss: 0.3843 - val_accuracy: 0.7982\n",
            "Epoch 11/50\n",
            "15/15 [==============================] - 0s 13ms/step - loss: 0.1935 - accuracy: 0.9273 - val_loss: 0.3717 - val_accuracy: 0.8158\n",
            "Epoch 12/50\n",
            "15/15 [==============================] - 0s 12ms/step - loss: 0.2458 - accuracy: 0.8997 - val_loss: 0.3598 - val_accuracy: 0.8246\n",
            "Epoch 13/50\n",
            "15/15 [==============================] - 0s 12ms/step - loss: 0.1886 - accuracy: 0.9307 - val_loss: 0.3464 - val_accuracy: 0.8246\n",
            "Epoch 14/50\n",
            "15/15 [==============================] - 0s 12ms/step - loss: 0.2295 - accuracy: 0.9137 - val_loss: 0.3266 - val_accuracy: 0.8333\n",
            "Epoch 15/50\n",
            "15/15 [==============================] - 0s 11ms/step - loss: 0.1727 - accuracy: 0.9262 - val_loss: 0.3106 - val_accuracy: 0.8509\n",
            "Epoch 16/50\n",
            "15/15 [==============================] - 0s 11ms/step - loss: 0.2084 - accuracy: 0.9185 - val_loss: 0.2949 - val_accuracy: 0.8596\n",
            "Epoch 17/50\n",
            "15/15 [==============================] - 0s 12ms/step - loss: 0.1307 - accuracy: 0.9456 - val_loss: 0.2831 - val_accuracy: 0.8596\n",
            "Epoch 18/50\n",
            "15/15 [==============================] - 0s 11ms/step - loss: 0.1741 - accuracy: 0.9395 - val_loss: 0.2656 - val_accuracy: 0.8596\n",
            "Epoch 19/50\n",
            "15/15 [==============================] - 0s 12ms/step - loss: 0.1496 - accuracy: 0.9316 - val_loss: 0.2478 - val_accuracy: 0.8772\n",
            "Epoch 20/50\n",
            "15/15 [==============================] - 0s 12ms/step - loss: 0.1728 - accuracy: 0.9222 - val_loss: 0.2269 - val_accuracy: 0.8947\n",
            "Epoch 21/50\n",
            "15/15 [==============================] - 0s 12ms/step - loss: 0.1540 - accuracy: 0.9297 - val_loss: 0.2081 - val_accuracy: 0.9298\n",
            "Epoch 22/50\n",
            "15/15 [==============================] - 0s 12ms/step - loss: 0.1247 - accuracy: 0.9606 - val_loss: 0.1941 - val_accuracy: 0.9298\n",
            "Epoch 23/50\n",
            "15/15 [==============================] - 0s 12ms/step - loss: 0.1608 - accuracy: 0.9478 - val_loss: 0.1791 - val_accuracy: 0.9386\n",
            "Epoch 24/50\n",
            "15/15 [==============================] - 0s 12ms/step - loss: 0.1240 - accuracy: 0.9469 - val_loss: 0.1690 - val_accuracy: 0.9474\n",
            "Epoch 25/50\n",
            "15/15 [==============================] - 0s 11ms/step - loss: 0.1689 - accuracy: 0.9434 - val_loss: 0.1618 - val_accuracy: 0.9474\n",
            "Epoch 26/50\n",
            "15/15 [==============================] - 0s 12ms/step - loss: 0.1290 - accuracy: 0.9427 - val_loss: 0.1531 - val_accuracy: 0.9561\n",
            "Epoch 27/50\n",
            "15/15 [==============================] - 0s 12ms/step - loss: 0.1283 - accuracy: 0.9526 - val_loss: 0.1457 - val_accuracy: 0.9561\n",
            "Epoch 28/50\n",
            "15/15 [==============================] - 0s 12ms/step - loss: 0.1490 - accuracy: 0.9428 - val_loss: 0.1409 - val_accuracy: 0.9561\n",
            "Epoch 29/50\n",
            "15/15 [==============================] - 0s 12ms/step - loss: 0.1253 - accuracy: 0.9523 - val_loss: 0.1366 - val_accuracy: 0.9561\n",
            "Epoch 30/50\n",
            "15/15 [==============================] - 0s 11ms/step - loss: 0.1309 - accuracy: 0.9527 - val_loss: 0.1346 - val_accuracy: 0.9561\n",
            "Epoch 31/50\n",
            "15/15 [==============================] - 0s 12ms/step - loss: 0.1054 - accuracy: 0.9621 - val_loss: 0.1312 - val_accuracy: 0.9561\n",
            "Epoch 32/50\n",
            "15/15 [==============================] - 0s 12ms/step - loss: 0.1483 - accuracy: 0.9414 - val_loss: 0.1287 - val_accuracy: 0.9649\n",
            "Epoch 33/50\n",
            "15/15 [==============================] - 0s 12ms/step - loss: 0.1420 - accuracy: 0.9381 - val_loss: 0.1267 - val_accuracy: 0.9649\n",
            "Epoch 34/50\n",
            "15/15 [==============================] - 0s 12ms/step - loss: 0.1209 - accuracy: 0.9514 - val_loss: 0.1253 - val_accuracy: 0.9649\n",
            "Epoch 35/50\n",
            "15/15 [==============================] - 0s 12ms/step - loss: 0.1514 - accuracy: 0.9402 - val_loss: 0.1230 - val_accuracy: 0.9649\n",
            "Epoch 36/50\n",
            "15/15 [==============================] - 0s 11ms/step - loss: 0.1286 - accuracy: 0.9480 - val_loss: 0.1210 - val_accuracy: 0.9737\n",
            "Epoch 37/50\n",
            "15/15 [==============================] - 0s 12ms/step - loss: 0.1169 - accuracy: 0.9468 - val_loss: 0.1193 - val_accuracy: 0.9737\n",
            "Epoch 38/50\n",
            "15/15 [==============================] - 0s 12ms/step - loss: 0.1006 - accuracy: 0.9632 - val_loss: 0.1182 - val_accuracy: 0.9737\n",
            "Epoch 39/50\n",
            "15/15 [==============================] - 0s 12ms/step - loss: 0.1778 - accuracy: 0.9460 - val_loss: 0.1181 - val_accuracy: 0.9737\n",
            "Epoch 40/50\n",
            "15/15 [==============================] - 0s 13ms/step - loss: 0.0989 - accuracy: 0.9606 - val_loss: 0.1167 - val_accuracy: 0.9737\n",
            "Epoch 41/50\n",
            "15/15 [==============================] - 0s 12ms/step - loss: 0.0819 - accuracy: 0.9711 - val_loss: 0.1157 - val_accuracy: 0.9737\n",
            "Epoch 42/50\n",
            "15/15 [==============================] - 0s 12ms/step - loss: 0.1601 - accuracy: 0.9505 - val_loss: 0.1157 - val_accuracy: 0.9737\n",
            "Epoch 43/50\n",
            "15/15 [==============================] - 0s 12ms/step - loss: 0.1234 - accuracy: 0.9433 - val_loss: 0.1148 - val_accuracy: 0.9737\n",
            "Epoch 44/50\n",
            "15/15 [==============================] - 0s 12ms/step - loss: 0.1137 - accuracy: 0.9615 - val_loss: 0.1129 - val_accuracy: 0.9737\n",
            "Epoch 45/50\n",
            "15/15 [==============================] - 0s 13ms/step - loss: 0.0827 - accuracy: 0.9664 - val_loss: 0.1131 - val_accuracy: 0.9737\n",
            "Epoch 46/50\n",
            "15/15 [==============================] - 0s 12ms/step - loss: 0.1012 - accuracy: 0.9584 - val_loss: 0.1112 - val_accuracy: 0.9737\n",
            "Epoch 47/50\n",
            "15/15 [==============================] - 0s 11ms/step - loss: 0.0884 - accuracy: 0.9600 - val_loss: 0.1108 - val_accuracy: 0.9737\n",
            "Epoch 48/50\n",
            "15/15 [==============================] - 0s 12ms/step - loss: 0.0964 - accuracy: 0.9655 - val_loss: 0.1102 - val_accuracy: 0.9737\n",
            "Epoch 49/50\n",
            "15/15 [==============================] - 0s 13ms/step - loss: 0.0992 - accuracy: 0.9470 - val_loss: 0.1097 - val_accuracy: 0.9649\n",
            "Epoch 50/50\n",
            "15/15 [==============================] - 0s 12ms/step - loss: 0.0823 - accuracy: 0.9716 - val_loss: 0.1088 - val_accuracy: 0.9649\n"
          ],
          "name": "stdout"
        }
      ]
    },
    {
      "cell_type": "code",
      "metadata": {
        "id": "b3ZkzVynQz2_"
      },
      "source": [
        "def plot_learningCurve(history,epoch):\n",
        "  epoch_range=range(1,epoch+1)\n",
        "  plt.plot(epoch_range,history.history['accuracy'])\n",
        "  plt.plot(epoch_range,history.history['val_accuracy'])\n",
        "  plt.title('Model accuracy')\n",
        "  plt.ylabel('Accuracy')\n",
        "  plt.xlabel('Epoch')\n",
        "  plt.legend(['Train','val'],loc='upper left')\n",
        "  "
      ],
      "execution_count": 43,
      "outputs": []
    },
    {
      "cell_type": "code",
      "metadata": {
        "colab": {
          "base_uri": "https://localhost:8080/"
        },
        "id": "CQok4UuXUblD",
        "outputId": "2e415eaf-05c9-4079-eb13-608cb24929c8"
      },
      "source": [
        "history.history"
      ],
      "execution_count": 44,
      "outputs": [
        {
          "output_type": "execute_result",
          "data": {
            "text/plain": [
              "{'accuracy': [0.58681321144104,\n",
              "  0.7362637519836426,\n",
              "  0.8131868243217468,\n",
              "  0.8263736367225647,\n",
              "  0.8769230842590332,\n",
              "  0.8593406677246094,\n",
              "  0.894505500793457,\n",
              "  0.8901098966598511,\n",
              "  0.9208791255950928,\n",
              "  0.9120879173278809,\n",
              "  0.9318681359291077,\n",
              "  0.903296709060669,\n",
              "  0.9318681359291077,\n",
              "  0.9164835214614868,\n",
              "  0.9208791255950928,\n",
              "  0.9186813235282898,\n",
              "  0.9516483545303345,\n",
              "  0.9428571462631226,\n",
              "  0.9340659379959106,\n",
              "  0.9274725317955017,\n",
              "  0.9340659379959106,\n",
              "  0.9494505524635315,\n",
              "  0.9472527503967285,\n",
              "  0.9494505524635315,\n",
              "  0.9494505524635315,\n",
              "  0.9406593441963196,\n",
              "  0.9494505524635315,\n",
              "  0.9516483545303345,\n",
              "  0.9472527503967285,\n",
              "  0.9538461565971375,\n",
              "  0.9626373648643494,\n",
              "  0.9384615421295166,\n",
              "  0.9472527503967285,\n",
              "  0.9516483545303345,\n",
              "  0.9494505524635315,\n",
              "  0.9494505524635315,\n",
              "  0.9472527503967285,\n",
              "  0.9582417607307434,\n",
              "  0.9450549483299255,\n",
              "  0.9604395627975464,\n",
              "  0.9604395627975464,\n",
              "  0.9516483545303345,\n",
              "  0.9428571462631226,\n",
              "  0.9714285731315613,\n",
              "  0.9670329689979553,\n",
              "  0.9582417607307434,\n",
              "  0.9472527503967285,\n",
              "  0.9670329689979553,\n",
              "  0.9538461565971375,\n",
              "  0.9670329689979553],\n",
              " 'loss': [0.928963840007782,\n",
              "  0.5661916136741638,\n",
              "  0.4573915898799896,\n",
              "  0.39209407567977905,\n",
              "  0.3276803493499756,\n",
              "  0.32561352849006653,\n",
              "  0.27058225870132446,\n",
              "  0.35205110907554626,\n",
              "  0.1921650767326355,\n",
              "  0.24398480355739594,\n",
              "  0.1997130811214447,\n",
              "  0.22494414448738098,\n",
              "  0.1744168996810913,\n",
              "  0.21333487331867218,\n",
              "  0.18342319130897522,\n",
              "  0.22714273631572723,\n",
              "  0.12465983629226685,\n",
              "  0.14536133408546448,\n",
              "  0.14531639218330383,\n",
              "  0.16085854172706604,\n",
              "  0.15327467024326324,\n",
              "  0.141116663813591,\n",
              "  0.15154382586479187,\n",
              "  0.11265335977077484,\n",
              "  0.16354888677597046,\n",
              "  0.13939706981182098,\n",
              "  0.13331754505634308,\n",
              "  0.13418622314929962,\n",
              "  0.13377372920513153,\n",
              "  0.13027268648147583,\n",
              "  0.10323776304721832,\n",
              "  0.14551891386508942,\n",
              "  0.12012339383363724,\n",
              "  0.12089576572179794,\n",
              "  0.1323859989643097,\n",
              "  0.1295233517885208,\n",
              "  0.12076917290687561,\n",
              "  0.1084451898932457,\n",
              "  0.13401325047016144,\n",
              "  0.10509264469146729,\n",
              "  0.1113964095711708,\n",
              "  0.1400119662284851,\n",
              "  0.11759131401777267,\n",
              "  0.09312735497951508,\n",
              "  0.08042719960212708,\n",
              "  0.11105694621801376,\n",
              "  0.10178330540657043,\n",
              "  0.08937638998031616,\n",
              "  0.10508141666650772,\n",
              "  0.08366766571998596],\n",
              " 'val_accuracy': [0.9035087823867798,\n",
              "  0.8421052694320679,\n",
              "  0.8157894611358643,\n",
              "  0.7982456088066101,\n",
              "  0.7982456088066101,\n",
              "  0.7894737124443054,\n",
              "  0.7894737124443054,\n",
              "  0.7894737124443054,\n",
              "  0.7982456088066101,\n",
              "  0.7982456088066101,\n",
              "  0.8157894611358643,\n",
              "  0.8245614171028137,\n",
              "  0.8245614171028137,\n",
              "  0.8333333134651184,\n",
              "  0.8508771657943726,\n",
              "  0.859649121761322,\n",
              "  0.859649121761322,\n",
              "  0.859649121761322,\n",
              "  0.8771929740905762,\n",
              "  0.8947368264198303,\n",
              "  0.9298245906829834,\n",
              "  0.9298245906829834,\n",
              "  0.9385964870452881,\n",
              "  0.9473684430122375,\n",
              "  0.9473684430122375,\n",
              "  0.9561403393745422,\n",
              "  0.9561403393745422,\n",
              "  0.9561403393745422,\n",
              "  0.9561403393745422,\n",
              "  0.9561403393745422,\n",
              "  0.9561403393745422,\n",
              "  0.9649122953414917,\n",
              "  0.9649122953414917,\n",
              "  0.9649122953414917,\n",
              "  0.9649122953414917,\n",
              "  0.9736841917037964,\n",
              "  0.9736841917037964,\n",
              "  0.9736841917037964,\n",
              "  0.9736841917037964,\n",
              "  0.9736841917037964,\n",
              "  0.9736841917037964,\n",
              "  0.9736841917037964,\n",
              "  0.9736841917037964,\n",
              "  0.9736841917037964,\n",
              "  0.9736841917037964,\n",
              "  0.9736841917037964,\n",
              "  0.9736841917037964,\n",
              "  0.9736841917037964,\n",
              "  0.9649122953414917,\n",
              "  0.9649122953414917],\n",
              " 'val_loss': [0.6159367561340332,\n",
              "  0.5622512698173523,\n",
              "  0.5205618143081665,\n",
              "  0.4876684248447418,\n",
              "  0.4613400399684906,\n",
              "  0.4390498399734497,\n",
              "  0.42069265246391296,\n",
              "  0.4050584137439728,\n",
              "  0.3925514221191406,\n",
              "  0.38425111770629883,\n",
              "  0.3716590404510498,\n",
              "  0.35983866453170776,\n",
              "  0.3463716208934784,\n",
              "  0.32661134004592896,\n",
              "  0.31058549880981445,\n",
              "  0.294880211353302,\n",
              "  0.2831142544746399,\n",
              "  0.2656157910823822,\n",
              "  0.24775776267051697,\n",
              "  0.22693823277950287,\n",
              "  0.20811937749385834,\n",
              "  0.19411608576774597,\n",
              "  0.1791108250617981,\n",
              "  0.16897748410701752,\n",
              "  0.16177301108837128,\n",
              "  0.15305696427822113,\n",
              "  0.14570818841457367,\n",
              "  0.14089848101139069,\n",
              "  0.13658805191516876,\n",
              "  0.13455592095851898,\n",
              "  0.13116122782230377,\n",
              "  0.128692165017128,\n",
              "  0.12670603394508362,\n",
              "  0.12529319524765015,\n",
              "  0.12301477044820786,\n",
              "  0.12096700072288513,\n",
              "  0.1192605271935463,\n",
              "  0.1182035580277443,\n",
              "  0.11805371940135956,\n",
              "  0.11670734733343124,\n",
              "  0.11571714282035828,\n",
              "  0.11567176878452301,\n",
              "  0.1147947758436203,\n",
              "  0.11292870342731476,\n",
              "  0.11309859156608582,\n",
              "  0.11122065782546997,\n",
              "  0.11075857281684875,\n",
              "  0.11020805686712265,\n",
              "  0.10973728448152542,\n",
              "  0.10881656408309937]}"
            ]
          },
          "metadata": {
            "tags": []
          },
          "execution_count": 44
        }
      ]
    },
    {
      "cell_type": "code",
      "metadata": {
        "colab": {
          "base_uri": "https://localhost:8080/",
          "height": 295
        },
        "id": "JZdhKSiBUpyO",
        "outputId": "0c699db8-d6a6-401b-c055-3122a7cef25a"
      },
      "source": [
        "plot_learningCurve(history,epochs)"
      ],
      "execution_count": 45,
      "outputs": [
        {
          "output_type": "display_data",
          "data": {
            "image/png": "[encoded data removed]",
            "text/plain": [
              "<Figure size 432x288 with 1 Axes>"
            ]
          },
          "metadata": {
            "tags": [],
            "needs_background": "light"
          }
        }
      ]
    },
    {
      "cell_type": "code",
      "metadata": {
        "id": "Gu0kyxDaU8qu"
      },
      "source": [
        ""
      ],
      "execution_count": null,
      "outputs": []
    }
  ]
}